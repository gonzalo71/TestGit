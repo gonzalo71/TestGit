{
 "metadata": {
  "language_info": {
   "codemirror_mode": {
    "name": "ipython",
    "version": 3
   },
   "file_extension": ".py",
   "mimetype": "text/x-python",
   "name": "python",
   "nbconvert_exporter": "python",
   "pygments_lexer": "ipython3",
   "version": 3
  },
  "orig_nbformat": 2
 },
 "nbformat": 4,
 "nbformat_minor": 2,
 "cells": [
  {
   "cell_type": "code",
   "execution_count": null,
   "metadata": {},
   "outputs": [],
   "source": [
    "import findspark\n",
    "findspark.init()\n",
    "\n",
    "from pyspark import SparkConf, SparkContext\n",
    "from pyspark.sql import SparkSession\n",
    "from pyspark.sql import Row\n",
    "from pyspark.sql import functions as func\n",
    "from pyspark.sql.types import StructType,StructField,StringType,IntegerType,FloatType\n",
    "\n",
    "\n",
    "spark = SparkSession.builder.appName(\"MinTemperature\").getOrCreate()\n",
    "df = spark.sparkContext.parallelize([1,2,3,3,4])\n",
    "#You cannot iterate over an RDD, you need first to call an action to get your data back to the driver .for example you can use '.collect()'\n",
    "df.countByValue()\n",
    "\n",
    "spark.stop()"
   ]
  }
 ]
}