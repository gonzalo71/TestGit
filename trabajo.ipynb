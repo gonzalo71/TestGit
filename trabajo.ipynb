{
 "metadata": {
  "language_info": {
   "codemirror_mode": {
    "name": "ipython",
    "version": 3
   },
   "file_extension": ".py",
   "mimetype": "text/x-python",
   "name": "python",
   "nbconvert_exporter": "python",
   "pygments_lexer": "ipython3",
   "version": "3.8.3-final"
  },
  "orig_nbformat": 2,
  "kernelspec": {
   "name": "python3",
   "display_name": "Python 3",
   "language": "python"
  }
 },
 "nbformat": 4,
 "nbformat_minor": 2,
 "cells": [
  {
   "cell_type": "code",
   "execution_count": 4,
   "metadata": {},
   "outputs": [],
   "source": [
    "import pandas as pd\n",
    "import numpy as np\n",
    "import matplotlib.pyplot as plt\n",
    "%matplotlib inline\n",
    "import seaborn as sn"
   ]
  },
  {
   "cell_type": "code",
   "execution_count": 5,
   "metadata": {},
   "outputs": [
    {
     "output_type": "execute_result",
     "data": {
      "text/plain": [
       "      idl iterable_estado_lead           fecha_ins              origen\n",
       "0  503234               activo 2020-01-01 00:12:32         Intereses_7\n",
       "1  503235               activo 2020-01-01 00:19:21  IntDejarFumar>40_9\n",
       "2  503236               activo 2020-01-01 00:23:23  IntDejarFumar>40_9"
      ],
      "text/html": "<div>\n<style scoped>\n    .dataframe tbody tr th:only-of-type {\n        vertical-align: middle;\n    }\n\n    .dataframe tbody tr th {\n        vertical-align: top;\n    }\n\n    .dataframe thead th {\n        text-align: right;\n    }\n</style>\n<table border=\"1\" class=\"dataframe\">\n  <thead>\n    <tr style=\"text-align: right;\">\n      <th></th>\n      <th>idl</th>\n      <th>iterable_estado_lead</th>\n      <th>fecha_ins</th>\n      <th>origen</th>\n    </tr>\n  </thead>\n  <tbody>\n    <tr>\n      <th>0</th>\n      <td>503234</td>\n      <td>activo</td>\n      <td>2020-01-01 00:12:32</td>\n      <td>Intereses_7</td>\n    </tr>\n    <tr>\n      <th>1</th>\n      <td>503235</td>\n      <td>activo</td>\n      <td>2020-01-01 00:19:21</td>\n      <td>IntDejarFumar&gt;40_9</td>\n    </tr>\n    <tr>\n      <th>2</th>\n      <td>503236</td>\n      <td>activo</td>\n      <td>2020-01-01 00:23:23</td>\n      <td>IntDejarFumar&gt;40_9</td>\n    </tr>\n  </tbody>\n</table>\n</div>"
     },
     "metadata": {},
     "execution_count": 5
    }
   ],
   "source": [
    "url = r\"C:\\Users\\gonza\\Downloads\\Prueba- Analista de datos\\Prueba- Analista de datos\\leads.csv\"\n",
    "leads = pd.read_csv(url,sep=\";\",parse_dates=[\"fecha_ins\"])\n",
    "leads.head(3)"
   ]
  },
  {
   "cell_type": "code",
   "execution_count": 6,
   "metadata": {},
   "outputs": [
    {
     "output_type": "execute_result",
     "data": {
      "text/plain": [
       "activo                       33332\n",
       "baja                          7364\n",
       "alta_socio                    4511\n",
       "welcome                        227\n",
       "descanso_welcome_temporal      146\n",
       "reactivar                       50\n",
       "descanso_activo                 10\n",
       "descanso_welcome                 4\n",
       "Name: iterable_estado_lead, dtype: int64"
      ]
     },
     "metadata": {},
     "execution_count": 6
    }
   ],
   "source": [
    "leads.iterable_estado_lead.value_counts()"
   ]
  },
  {
   "cell_type": "code",
   "execution_count": 7,
   "metadata": {},
   "outputs": [
    {
     "output_type": "execute_result",
     "data": {
      "text/plain": [
       "origen\n",
       "IntDejarFumar>40_9                2315\n",
       "Intereses_7                       1137\n",
       "Interaccion_9                      949\n",
       "Libre_12                           767\n",
       "PublicoLibreM 35_7                 542\n",
       "                                  ... \n",
       "InteMarcasRopa_10                    1\n",
       "Interacc_Movil_Quiz_3                1\n",
       "InterePrevencionAmpl_Mujeres_2       1\n",
       "IntereJubilación_1                   1\n",
       "InteresesAmpl_Quiz_3                 1\n",
       "Name: idl, Length: 61, dtype: int64"
      ]
     },
     "metadata": {},
     "execution_count": 7
    }
   ],
   "source": [
    "leads.loc[leads.iterable_estado_lead == \"baja\"].groupby(\"origen\")[\"idl\"].count().sort_values(ascending=False)"
   ]
  },
  {
   "cell_type": "code",
   "execution_count": 8,
   "metadata": {},
   "outputs": [
    {
     "output_type": "execute_result",
     "data": {
      "text/plain": [
       "       iterable_estado_lead              origen\n",
       "count                 45644               45644\n",
       "unique                    8                  90\n",
       "top                  activo  IntDejarFumar>40_9\n",
       "freq                  33332               15838"
      ],
      "text/html": "<div>\n<style scoped>\n    .dataframe tbody tr th:only-of-type {\n        vertical-align: middle;\n    }\n\n    .dataframe tbody tr th {\n        vertical-align: top;\n    }\n\n    .dataframe thead th {\n        text-align: right;\n    }\n</style>\n<table border=\"1\" class=\"dataframe\">\n  <thead>\n    <tr style=\"text-align: right;\">\n      <th></th>\n      <th>iterable_estado_lead</th>\n      <th>origen</th>\n    </tr>\n  </thead>\n  <tbody>\n    <tr>\n      <th>count</th>\n      <td>45644</td>\n      <td>45644</td>\n    </tr>\n    <tr>\n      <th>unique</th>\n      <td>8</td>\n      <td>90</td>\n    </tr>\n    <tr>\n      <th>top</th>\n      <td>activo</td>\n      <td>IntDejarFumar&gt;40_9</td>\n    </tr>\n    <tr>\n      <th>freq</th>\n      <td>33332</td>\n      <td>15838</td>\n    </tr>\n  </tbody>\n</table>\n</div>"
     },
     "metadata": {},
     "execution_count": 8
    }
   ],
   "source": [
    "leads.describe(include=\"object\")"
   ]
  },
  {
   "cell_type": "code",
   "execution_count": 9,
   "metadata": {},
   "outputs": [],
   "source": [
    "df_lead_origen = leads.groupby(\"iterable_estado_lead\")[\"origen\"].value_counts().unstack().T"
   ]
  },
  {
   "cell_type": "code",
   "execution_count": 10,
   "metadata": {},
   "outputs": [
    {
     "output_type": "execute_result",
     "data": {
      "text/plain": [
       "iterable_estado_lead     activo  alta_socio    baja  descanso_activo  \\\n",
       "origen                                                                 \n",
       "IntDejarFumar>40_9      12449.0       908.0  2315.0              4.0   \n",
       "Intereses_7              4622.0       872.0  1137.0              3.0   \n",
       "PublicoLibreM 35_7       2558.0       527.0   542.0              1.0   \n",
       "Libre_12                 2575.0       439.0   767.0              1.0   \n",
       "Interaccion_9            4553.0       416.0   949.0              NaN   \n",
       "InterccIG_11              769.0       141.0   173.0              1.0   \n",
       "peticion_9               1481.0       136.0   279.0              NaN   \n",
       "IntereFelicidadAmpl_14    265.0        91.0    95.0              NaN   \n",
       "IntereMemesAmpl_14        210.0        84.0   183.0              NaN   \n",
       "InteraccFB_14             170.0        81.0    88.0              NaN   \n",
       "\n",
       "iterable_estado_lead    descanso_welcome  descanso_welcome_temporal  \\\n",
       "origen                                                                \n",
       "IntDejarFumar>40_9                   NaN                       53.0   \n",
       "Intereses_7                          NaN                        1.0   \n",
       "PublicoLibreM 35_7                   NaN                        NaN   \n",
       "Libre_12                             NaN                       27.0   \n",
       "Interaccion_9                        NaN                       26.0   \n",
       "InterccIG_11                         NaN                        NaN   \n",
       "peticion_9                           1.0                       10.0   \n",
       "IntereFelicidadAmpl_14               NaN                        6.0   \n",
       "IntereMemesAmpl_14                   NaN                        3.0   \n",
       "InteraccFB_14                        NaN                        6.0   \n",
       "\n",
       "iterable_estado_lead    reactivar  welcome  \n",
       "origen                                      \n",
       "IntDejarFumar>40_9           17.0     92.0  \n",
       "Intereses_7                   5.0      3.0  \n",
       "PublicoLibreM 35_7            3.0      NaN  \n",
       "Libre_12                      1.0     46.0  \n",
       "Interaccion_9                11.0     33.0  \n",
       "InterccIG_11                  4.0      NaN  \n",
       "peticion_9                    NaN     20.0  \n",
       "IntereFelicidadAmpl_14        NaN      2.0  \n",
       "IntereMemesAmpl_14            NaN      6.0  \n",
       "InteraccFB_14                 NaN      7.0  "
      ],
      "text/html": "<div>\n<style scoped>\n    .dataframe tbody tr th:only-of-type {\n        vertical-align: middle;\n    }\n\n    .dataframe tbody tr th {\n        vertical-align: top;\n    }\n\n    .dataframe thead th {\n        text-align: right;\n    }\n</style>\n<table border=\"1\" class=\"dataframe\">\n  <thead>\n    <tr style=\"text-align: right;\">\n      <th>iterable_estado_lead</th>\n      <th>activo</th>\n      <th>alta_socio</th>\n      <th>baja</th>\n      <th>descanso_activo</th>\n      <th>descanso_welcome</th>\n      <th>descanso_welcome_temporal</th>\n      <th>reactivar</th>\n      <th>welcome</th>\n    </tr>\n    <tr>\n      <th>origen</th>\n      <th></th>\n      <th></th>\n      <th></th>\n      <th></th>\n      <th></th>\n      <th></th>\n      <th></th>\n      <th></th>\n    </tr>\n  </thead>\n  <tbody>\n    <tr>\n      <th>IntDejarFumar&gt;40_9</th>\n      <td>12449.0</td>\n      <td>908.0</td>\n      <td>2315.0</td>\n      <td>4.0</td>\n      <td>NaN</td>\n      <td>53.0</td>\n      <td>17.0</td>\n      <td>92.0</td>\n    </tr>\n    <tr>\n      <th>Intereses_7</th>\n      <td>4622.0</td>\n      <td>872.0</td>\n      <td>1137.0</td>\n      <td>3.0</td>\n      <td>NaN</td>\n      <td>1.0</td>\n      <td>5.0</td>\n      <td>3.0</td>\n    </tr>\n    <tr>\n      <th>PublicoLibreM 35_7</th>\n      <td>2558.0</td>\n      <td>527.0</td>\n      <td>542.0</td>\n      <td>1.0</td>\n      <td>NaN</td>\n      <td>NaN</td>\n      <td>3.0</td>\n      <td>NaN</td>\n    </tr>\n    <tr>\n      <th>Libre_12</th>\n      <td>2575.0</td>\n      <td>439.0</td>\n      <td>767.0</td>\n      <td>1.0</td>\n      <td>NaN</td>\n      <td>27.0</td>\n      <td>1.0</td>\n      <td>46.0</td>\n    </tr>\n    <tr>\n      <th>Interaccion_9</th>\n      <td>4553.0</td>\n      <td>416.0</td>\n      <td>949.0</td>\n      <td>NaN</td>\n      <td>NaN</td>\n      <td>26.0</td>\n      <td>11.0</td>\n      <td>33.0</td>\n    </tr>\n    <tr>\n      <th>InterccIG_11</th>\n      <td>769.0</td>\n      <td>141.0</td>\n      <td>173.0</td>\n      <td>1.0</td>\n      <td>NaN</td>\n      <td>NaN</td>\n      <td>4.0</td>\n      <td>NaN</td>\n    </tr>\n    <tr>\n      <th>peticion_9</th>\n      <td>1481.0</td>\n      <td>136.0</td>\n      <td>279.0</td>\n      <td>NaN</td>\n      <td>1.0</td>\n      <td>10.0</td>\n      <td>NaN</td>\n      <td>20.0</td>\n    </tr>\n    <tr>\n      <th>IntereFelicidadAmpl_14</th>\n      <td>265.0</td>\n      <td>91.0</td>\n      <td>95.0</td>\n      <td>NaN</td>\n      <td>NaN</td>\n      <td>6.0</td>\n      <td>NaN</td>\n      <td>2.0</td>\n    </tr>\n    <tr>\n      <th>IntereMemesAmpl_14</th>\n      <td>210.0</td>\n      <td>84.0</td>\n      <td>183.0</td>\n      <td>NaN</td>\n      <td>NaN</td>\n      <td>3.0</td>\n      <td>NaN</td>\n      <td>6.0</td>\n    </tr>\n    <tr>\n      <th>InteraccFB_14</th>\n      <td>170.0</td>\n      <td>81.0</td>\n      <td>88.0</td>\n      <td>NaN</td>\n      <td>NaN</td>\n      <td>6.0</td>\n      <td>NaN</td>\n      <td>7.0</td>\n    </tr>\n  </tbody>\n</table>\n</div>"
     },
     "metadata": {},
     "execution_count": 10
    }
   ],
   "source": [
    "df_lead_origen.sort_values(by=\"alta_socio\",ascending=False).head(10)"
   ]
  },
  {
   "cell_type": "code",
   "execution_count": 11,
   "metadata": {},
   "outputs": [],
   "source": [
    "df_estado = df_lead_origen.sort_values(by=\"alta_socio\",ascending=False)"
   ]
  },
  {
   "cell_type": "code",
   "execution_count": 12,
   "metadata": {},
   "outputs": [],
   "source": [
    "df_estado[\"numero bajas por cada alta\"] = df_estado[\"baja\"] / df_estado[\"alta_socio\"]"
   ]
  },
  {
   "cell_type": "code",
   "execution_count": 13,
   "metadata": {},
   "outputs": [
    {
     "output_type": "execute_result",
     "data": {
      "text/plain": [
       "iterable_estado_lead     activo  alta_socio    baja  descanso_activo  \\\n",
       "origen                                                                 \n",
       "IntDejarFumar>40_9      12449.0       908.0  2315.0              4.0   \n",
       "Intereses_7              4622.0       872.0  1137.0              3.0   \n",
       "PublicoLibreM 35_7       2558.0       527.0   542.0              1.0   \n",
       "Libre_12                 2575.0       439.0   767.0              1.0   \n",
       "Interaccion_9            4553.0       416.0   949.0              NaN   \n",
       "InterccIG_11              769.0       141.0   173.0              1.0   \n",
       "peticion_9               1481.0       136.0   279.0              NaN   \n",
       "IntereFelicidadAmpl_14    265.0        91.0    95.0              NaN   \n",
       "IntereMemesAmpl_14        210.0        84.0   183.0              NaN   \n",
       "InteraccFB_14             170.0        81.0    88.0              NaN   \n",
       "\n",
       "iterable_estado_lead    descanso_welcome  descanso_welcome_temporal  \\\n",
       "origen                                                                \n",
       "IntDejarFumar>40_9                   NaN                       53.0   \n",
       "Intereses_7                          NaN                        1.0   \n",
       "PublicoLibreM 35_7                   NaN                        NaN   \n",
       "Libre_12                             NaN                       27.0   \n",
       "Interaccion_9                        NaN                       26.0   \n",
       "InterccIG_11                         NaN                        NaN   \n",
       "peticion_9                           1.0                       10.0   \n",
       "IntereFelicidadAmpl_14               NaN                        6.0   \n",
       "IntereMemesAmpl_14                   NaN                        3.0   \n",
       "InteraccFB_14                        NaN                        6.0   \n",
       "\n",
       "iterable_estado_lead    reactivar  welcome  numero bajas por cada alta  \n",
       "origen                                                                  \n",
       "IntDejarFumar>40_9           17.0     92.0                    2.549559  \n",
       "Intereses_7                   5.0      3.0                    1.303899  \n",
       "PublicoLibreM 35_7            3.0      NaN                    1.028463  \n",
       "Libre_12                      1.0     46.0                    1.747153  \n",
       "Interaccion_9                11.0     33.0                    2.281250  \n",
       "InterccIG_11                  4.0      NaN                    1.226950  \n",
       "peticion_9                    NaN     20.0                    2.051471  \n",
       "IntereFelicidadAmpl_14        NaN      2.0                    1.043956  \n",
       "IntereMemesAmpl_14            NaN      6.0                    2.178571  \n",
       "InteraccFB_14                 NaN      7.0                    1.086420  "
      ],
      "text/html": "<div>\n<style scoped>\n    .dataframe tbody tr th:only-of-type {\n        vertical-align: middle;\n    }\n\n    .dataframe tbody tr th {\n        vertical-align: top;\n    }\n\n    .dataframe thead th {\n        text-align: right;\n    }\n</style>\n<table border=\"1\" class=\"dataframe\">\n  <thead>\n    <tr style=\"text-align: right;\">\n      <th>iterable_estado_lead</th>\n      <th>activo</th>\n      <th>alta_socio</th>\n      <th>baja</th>\n      <th>descanso_activo</th>\n      <th>descanso_welcome</th>\n      <th>descanso_welcome_temporal</th>\n      <th>reactivar</th>\n      <th>welcome</th>\n      <th>numero bajas por cada alta</th>\n    </tr>\n    <tr>\n      <th>origen</th>\n      <th></th>\n      <th></th>\n      <th></th>\n      <th></th>\n      <th></th>\n      <th></th>\n      <th></th>\n      <th></th>\n      <th></th>\n    </tr>\n  </thead>\n  <tbody>\n    <tr>\n      <th>IntDejarFumar&gt;40_9</th>\n      <td>12449.0</td>\n      <td>908.0</td>\n      <td>2315.0</td>\n      <td>4.0</td>\n      <td>NaN</td>\n      <td>53.0</td>\n      <td>17.0</td>\n      <td>92.0</td>\n      <td>2.549559</td>\n    </tr>\n    <tr>\n      <th>Intereses_7</th>\n      <td>4622.0</td>\n      <td>872.0</td>\n      <td>1137.0</td>\n      <td>3.0</td>\n      <td>NaN</td>\n      <td>1.0</td>\n      <td>5.0</td>\n      <td>3.0</td>\n      <td>1.303899</td>\n    </tr>\n    <tr>\n      <th>PublicoLibreM 35_7</th>\n      <td>2558.0</td>\n      <td>527.0</td>\n      <td>542.0</td>\n      <td>1.0</td>\n      <td>NaN</td>\n      <td>NaN</td>\n      <td>3.0</td>\n      <td>NaN</td>\n      <td>1.028463</td>\n    </tr>\n    <tr>\n      <th>Libre_12</th>\n      <td>2575.0</td>\n      <td>439.0</td>\n      <td>767.0</td>\n      <td>1.0</td>\n      <td>NaN</td>\n      <td>27.0</td>\n      <td>1.0</td>\n      <td>46.0</td>\n      <td>1.747153</td>\n    </tr>\n    <tr>\n      <th>Interaccion_9</th>\n      <td>4553.0</td>\n      <td>416.0</td>\n      <td>949.0</td>\n      <td>NaN</td>\n      <td>NaN</td>\n      <td>26.0</td>\n      <td>11.0</td>\n      <td>33.0</td>\n      <td>2.281250</td>\n    </tr>\n    <tr>\n      <th>InterccIG_11</th>\n      <td>769.0</td>\n      <td>141.0</td>\n      <td>173.0</td>\n      <td>1.0</td>\n      <td>NaN</td>\n      <td>NaN</td>\n      <td>4.0</td>\n      <td>NaN</td>\n      <td>1.226950</td>\n    </tr>\n    <tr>\n      <th>peticion_9</th>\n      <td>1481.0</td>\n      <td>136.0</td>\n      <td>279.0</td>\n      <td>NaN</td>\n      <td>1.0</td>\n      <td>10.0</td>\n      <td>NaN</td>\n      <td>20.0</td>\n      <td>2.051471</td>\n    </tr>\n    <tr>\n      <th>IntereFelicidadAmpl_14</th>\n      <td>265.0</td>\n      <td>91.0</td>\n      <td>95.0</td>\n      <td>NaN</td>\n      <td>NaN</td>\n      <td>6.0</td>\n      <td>NaN</td>\n      <td>2.0</td>\n      <td>1.043956</td>\n    </tr>\n    <tr>\n      <th>IntereMemesAmpl_14</th>\n      <td>210.0</td>\n      <td>84.0</td>\n      <td>183.0</td>\n      <td>NaN</td>\n      <td>NaN</td>\n      <td>3.0</td>\n      <td>NaN</td>\n      <td>6.0</td>\n      <td>2.178571</td>\n    </tr>\n    <tr>\n      <th>InteraccFB_14</th>\n      <td>170.0</td>\n      <td>81.0</td>\n      <td>88.0</td>\n      <td>NaN</td>\n      <td>NaN</td>\n      <td>6.0</td>\n      <td>NaN</td>\n      <td>7.0</td>\n      <td>1.086420</td>\n    </tr>\n  </tbody>\n</table>\n</div>"
     },
     "metadata": {},
     "execution_count": 13
    }
   ],
   "source": [
    "df_estado.head(10)"
   ]
  },
  {
   "cell_type": "code",
   "execution_count": 14,
   "metadata": {},
   "outputs": [
    {
     "output_type": "execute_result",
     "data": {
      "text/plain": [
       "iterable_estado_lead   activo  alta_socio  baja  descanso_activo  \\\n",
       "origen                                                             \n",
       "InteraccFB_Mujeres_2      4.0         1.0   4.0              NaN   \n",
       "RMKT_Thruplay_2          26.0         1.0   3.0              NaN   \n",
       "LKSoc19_1                 7.0         1.0   3.0              NaN   \n",
       "Iterable                  9.0         1.0   3.0              NaN   \n",
       "LKSoc19_11               74.0         7.0  20.0              NaN   \n",
       "...                       ...         ...   ...              ...   \n",
       "multistep_peticion_12     NaN         NaN   1.0              NaN   \n",
       "multistep_quiz_1          1.0         NaN   NaN              NaN   \n",
       "peticion_10              20.0         NaN   5.0              NaN   \n",
       "quiz_1                    1.0         NaN   NaN              NaN   \n",
       "quiz_3                    4.0         NaN   3.0              NaN   \n",
       "\n",
       "iterable_estado_lead   descanso_welcome  descanso_welcome_temporal  reactivar  \\\n",
       "origen                                                                          \n",
       "InteraccFB_Mujeres_2                NaN                        NaN        NaN   \n",
       "RMKT_Thruplay_2                     NaN                        NaN        NaN   \n",
       "LKSoc19_1                           NaN                        NaN        1.0   \n",
       "Iterable                            NaN                        NaN        NaN   \n",
       "LKSoc19_11                          NaN                        NaN        NaN   \n",
       "...                                 ...                        ...        ...   \n",
       "multistep_peticion_12               NaN                        NaN        NaN   \n",
       "multistep_quiz_1                    NaN                        NaN        NaN   \n",
       "peticion_10                         NaN                        NaN        NaN   \n",
       "quiz_1                              NaN                        NaN        NaN   \n",
       "quiz_3                              NaN                        NaN        NaN   \n",
       "\n",
       "iterable_estado_lead   welcome  numero bajas por cada alta  \n",
       "origen                                                      \n",
       "InteraccFB_Mujeres_2       NaN                    4.000000  \n",
       "RMKT_Thruplay_2            NaN                    3.000000  \n",
       "LKSoc19_1                  NaN                    3.000000  \n",
       "Iterable                   NaN                    3.000000  \n",
       "LKSoc19_11                 NaN                    2.857143  \n",
       "...                        ...                         ...  \n",
       "multistep_peticion_12      NaN                         NaN  \n",
       "multistep_quiz_1           NaN                         NaN  \n",
       "peticion_10                NaN                         NaN  \n",
       "quiz_1                     NaN                         NaN  \n",
       "quiz_3                     NaN                         NaN  \n",
       "\n",
       "[90 rows x 9 columns]"
      ],
      "text/html": "<div>\n<style scoped>\n    .dataframe tbody tr th:only-of-type {\n        vertical-align: middle;\n    }\n\n    .dataframe tbody tr th {\n        vertical-align: top;\n    }\n\n    .dataframe thead th {\n        text-align: right;\n    }\n</style>\n<table border=\"1\" class=\"dataframe\">\n  <thead>\n    <tr style=\"text-align: right;\">\n      <th>iterable_estado_lead</th>\n      <th>activo</th>\n      <th>alta_socio</th>\n      <th>baja</th>\n      <th>descanso_activo</th>\n      <th>descanso_welcome</th>\n      <th>descanso_welcome_temporal</th>\n      <th>reactivar</th>\n      <th>welcome</th>\n      <th>numero bajas por cada alta</th>\n    </tr>\n    <tr>\n      <th>origen</th>\n      <th></th>\n      <th></th>\n      <th></th>\n      <th></th>\n      <th></th>\n      <th></th>\n      <th></th>\n      <th></th>\n      <th></th>\n    </tr>\n  </thead>\n  <tbody>\n    <tr>\n      <th>InteraccFB_Mujeres_2</th>\n      <td>4.0</td>\n      <td>1.0</td>\n      <td>4.0</td>\n      <td>NaN</td>\n      <td>NaN</td>\n      <td>NaN</td>\n      <td>NaN</td>\n      <td>NaN</td>\n      <td>4.000000</td>\n    </tr>\n    <tr>\n      <th>RMKT_Thruplay_2</th>\n      <td>26.0</td>\n      <td>1.0</td>\n      <td>3.0</td>\n      <td>NaN</td>\n      <td>NaN</td>\n      <td>NaN</td>\n      <td>NaN</td>\n      <td>NaN</td>\n      <td>3.000000</td>\n    </tr>\n    <tr>\n      <th>LKSoc19_1</th>\n      <td>7.0</td>\n      <td>1.0</td>\n      <td>3.0</td>\n      <td>NaN</td>\n      <td>NaN</td>\n      <td>NaN</td>\n      <td>1.0</td>\n      <td>NaN</td>\n      <td>3.000000</td>\n    </tr>\n    <tr>\n      <th>Iterable</th>\n      <td>9.0</td>\n      <td>1.0</td>\n      <td>3.0</td>\n      <td>NaN</td>\n      <td>NaN</td>\n      <td>NaN</td>\n      <td>NaN</td>\n      <td>NaN</td>\n      <td>3.000000</td>\n    </tr>\n    <tr>\n      <th>LKSoc19_11</th>\n      <td>74.0</td>\n      <td>7.0</td>\n      <td>20.0</td>\n      <td>NaN</td>\n      <td>NaN</td>\n      <td>NaN</td>\n      <td>NaN</td>\n      <td>NaN</td>\n      <td>2.857143</td>\n    </tr>\n    <tr>\n      <th>...</th>\n      <td>...</td>\n      <td>...</td>\n      <td>...</td>\n      <td>...</td>\n      <td>...</td>\n      <td>...</td>\n      <td>...</td>\n      <td>...</td>\n      <td>...</td>\n    </tr>\n    <tr>\n      <th>multistep_peticion_12</th>\n      <td>NaN</td>\n      <td>NaN</td>\n      <td>1.0</td>\n      <td>NaN</td>\n      <td>NaN</td>\n      <td>NaN</td>\n      <td>NaN</td>\n      <td>NaN</td>\n      <td>NaN</td>\n    </tr>\n    <tr>\n      <th>multistep_quiz_1</th>\n      <td>1.0</td>\n      <td>NaN</td>\n      <td>NaN</td>\n      <td>NaN</td>\n      <td>NaN</td>\n      <td>NaN</td>\n      <td>NaN</td>\n      <td>NaN</td>\n      <td>NaN</td>\n    </tr>\n    <tr>\n      <th>peticion_10</th>\n      <td>20.0</td>\n      <td>NaN</td>\n      <td>5.0</td>\n      <td>NaN</td>\n      <td>NaN</td>\n      <td>NaN</td>\n      <td>NaN</td>\n      <td>NaN</td>\n      <td>NaN</td>\n    </tr>\n    <tr>\n      <th>quiz_1</th>\n      <td>1.0</td>\n      <td>NaN</td>\n      <td>NaN</td>\n      <td>NaN</td>\n      <td>NaN</td>\n      <td>NaN</td>\n      <td>NaN</td>\n      <td>NaN</td>\n      <td>NaN</td>\n    </tr>\n    <tr>\n      <th>quiz_3</th>\n      <td>4.0</td>\n      <td>NaN</td>\n      <td>3.0</td>\n      <td>NaN</td>\n      <td>NaN</td>\n      <td>NaN</td>\n      <td>NaN</td>\n      <td>NaN</td>\n      <td>NaN</td>\n    </tr>\n  </tbody>\n</table>\n<p>90 rows × 9 columns</p>\n</div>"
     },
     "metadata": {},
     "execution_count": 14
    }
   ],
   "source": [
    "df_estado.sort_values(by=\"numero bajas por cada alta\",ascending=False)"
   ]
  },
  {
   "cell_type": "code",
   "execution_count": 26,
   "metadata": {},
   "outputs": [
    {
     "output_type": "error",
     "ename": "TypeError",
     "evalue": "ufunc 'isnan' not supported for the input types, and the inputs could not be safely coerced to any supported types according to the casting rule ''safe''",
     "traceback": [
      "\u001b[1;31m---------------------------------------------------------------------------\u001b[0m",
      "\u001b[1;31mTypeError\u001b[0m                                 Traceback (most recent call last)",
      "\u001b[1;32m<ipython-input-26-e8612e102afd>\u001b[0m in \u001b[0;36m<module>\u001b[1;34m\u001b[0m\n\u001b[0;32m      2\u001b[0m \u001b[0mcolors\u001b[0m \u001b[1;33m=\u001b[0m \u001b[1;33m[\u001b[0m\u001b[1;34m\"#592613\"\u001b[0m \u001b[1;32mfor\u001b[0m \u001b[0m_\u001b[0m \u001b[1;32min\u001b[0m \u001b[0mrange\u001b[0m\u001b[1;33m(\u001b[0m\u001b[0mlen\u001b[0m\u001b[1;33m(\u001b[0m\u001b[0mbajas\u001b[0m\u001b[1;33m)\u001b[0m\u001b[1;33m)\u001b[0m\u001b[1;33m]\u001b[0m\u001b[1;33m\u001b[0m\u001b[1;33m\u001b[0m\u001b[0m\n\u001b[0;32m      3\u001b[0m \u001b[0mcolors\u001b[0m\u001b[1;33m[\u001b[0m\u001b[1;36m0\u001b[0m\u001b[1;33m]\u001b[0m \u001b[1;33m=\u001b[0m \u001b[1;34m\"#F6D02D\"\u001b[0m\u001b[1;33m\u001b[0m\u001b[1;33m\u001b[0m\u001b[0m\n\u001b[1;32m----> 4\u001b[1;33m \u001b[0mbajas\u001b[0m\u001b[1;33m.\u001b[0m\u001b[0mplot\u001b[0m\u001b[1;33m(\u001b[0m\u001b[0mkind\u001b[0m\u001b[1;33m=\u001b[0m\u001b[1;34m\"bar\"\u001b[0m\u001b[1;33m,\u001b[0m\u001b[0mx\u001b[0m\u001b[1;33m=\u001b[0m\u001b[1;34m\"origen\"\u001b[0m\u001b[1;33m,\u001b[0m\u001b[0my\u001b[0m\u001b[1;33m=\u001b[0m\u001b[1;34m\"numero bajas por cada alta\"\u001b[0m\u001b[1;33m,\u001b[0m\u001b[0mcolor\u001b[0m\u001b[1;33m=\u001b[0m\u001b[0mplt\u001b[0m\u001b[1;33m.\u001b[0m\u001b[0mcm\u001b[0m\u001b[1;33m.\u001b[0m\u001b[0mjet\u001b[0m\u001b[1;33m(\u001b[0m\u001b[1;34m\"Blues\"\u001b[0m\u001b[1;33m)\u001b[0m\u001b[1;33m)\u001b[0m\u001b[1;33m\u001b[0m\u001b[1;33m\u001b[0m\u001b[0m\n\u001b[0m",
      "\u001b[1;32m~\\anaconda3\\lib\\site-packages\\matplotlib\\colors.py\u001b[0m in \u001b[0;36m__call__\u001b[1;34m(self, X, alpha, bytes)\u001b[0m\n\u001b[0;32m    559\u001b[0m         \u001b[1;32mif\u001b[0m \u001b[0mnp\u001b[0m\u001b[1;33m.\u001b[0m\u001b[0mma\u001b[0m\u001b[1;33m.\u001b[0m\u001b[0mis_masked\u001b[0m\u001b[1;33m(\u001b[0m\u001b[0mX\u001b[0m\u001b[1;33m)\u001b[0m\u001b[1;33m:\u001b[0m\u001b[1;33m\u001b[0m\u001b[1;33m\u001b[0m\u001b[0m\n\u001b[0;32m    560\u001b[0m             \u001b[0mmask_bad\u001b[0m \u001b[1;33m=\u001b[0m \u001b[0mX\u001b[0m\u001b[1;33m.\u001b[0m\u001b[0mmask\u001b[0m\u001b[1;33m\u001b[0m\u001b[1;33m\u001b[0m\u001b[0m\n\u001b[1;32m--> 561\u001b[1;33m         \u001b[1;32melif\u001b[0m \u001b[0mnp\u001b[0m\u001b[1;33m.\u001b[0m\u001b[0many\u001b[0m\u001b[1;33m(\u001b[0m\u001b[0mnp\u001b[0m\u001b[1;33m.\u001b[0m\u001b[0misnan\u001b[0m\u001b[1;33m(\u001b[0m\u001b[0mX\u001b[0m\u001b[1;33m)\u001b[0m\u001b[1;33m)\u001b[0m\u001b[1;33m:\u001b[0m\u001b[1;33m\u001b[0m\u001b[1;33m\u001b[0m\u001b[0m\n\u001b[0m\u001b[0;32m    562\u001b[0m             \u001b[1;31m# mask nan's\u001b[0m\u001b[1;33m\u001b[0m\u001b[1;33m\u001b[0m\u001b[1;33m\u001b[0m\u001b[0m\n\u001b[0;32m    563\u001b[0m             \u001b[0mmask_bad\u001b[0m \u001b[1;33m=\u001b[0m \u001b[0mnp\u001b[0m\u001b[1;33m.\u001b[0m\u001b[0misnan\u001b[0m\u001b[1;33m(\u001b[0m\u001b[0mX\u001b[0m\u001b[1;33m)\u001b[0m\u001b[1;33m\u001b[0m\u001b[1;33m\u001b[0m\u001b[0m\n",
      "\u001b[1;31mTypeError\u001b[0m: ufunc 'isnan' not supported for the input types, and the inputs could not be safely coerced to any supported types according to the casting rule ''safe''"
     ]
    }
   ],
   "source": [
    "bajas = df_estado.reset_index().sort_values(by=\"numero bajas por cada alta\",ascending=False).head(10)\n",
    "colors = [\"#592613\" for _ in range(len(bajas))]\n",
    "colors[0] = \"#F6D02D\"\n",
    "bajas.plot(kind=\"bar\",x=\"origen\",y=\"numero bajas por cada alta\")\n"
   ]
  },
  {
   "cell_type": "code",
   "execution_count": 21,
   "metadata": {},
   "outputs": [
    {
     "output_type": "error",
     "ename": "SyntaxError",
     "evalue": "cannot assign to literal (<ipython-input-21-c8f249ed384e>, line 2)",
     "traceback": [
      "\u001b[1;36m  File \u001b[1;32m\"<ipython-input-21-c8f249ed384e>\"\u001b[1;36m, line \u001b[1;32m2\u001b[0m\n\u001b[1;33m    colors_ejemplo = [\"#592613\" for \"#592613\" in range(len(bajas)) ]\u001b[0m\n\u001b[1;37m                                    ^\u001b[0m\n\u001b[1;31mSyntaxError\u001b[0m\u001b[1;31m:\u001b[0m cannot assign to literal\n"
     ]
    }
   ],
   "source": [
    "x = \"#592613\"\n",
    "colors_ejemplo = [\"#592613\" for \"#592613\" in range(len(bajas)) ]"
   ]
  },
  {
   "cell_type": "code",
   "execution_count": 19,
   "metadata": {},
   "outputs": [
    {
     "output_type": "execute_result",
     "data": {
      "text/plain": [
       "['#592613#592613#592613#592613#592613#592613#592613#592613#592613#592613']"
      ]
     },
     "metadata": {},
     "execution_count": 19
    }
   ],
   "source": [
    "colors_ejemplo"
   ]
  },
  {
   "cell_type": "code",
   "execution_count": null,
   "metadata": {},
   "outputs": [],
   "source": [
    "listo = []"
   ]
  },
  {
   "cell_type": "code",
   "execution_count": 11,
   "metadata": {},
   "outputs": [
    {
     "output_type": "execute_result",
     "data": {
      "text/plain": [
       "                            count        mean          std  min       25%  \\\n",
       "iterable_estado_lead                                                        \n",
       "activo                       86.0  387.581395  1539.072803  1.0  2.000000   \n",
       "alta_socio                   61.0   73.950820   182.050673  1.0  1.000000   \n",
       "baja                         61.0  120.721311   359.442816  1.0  2.000000   \n",
       "descanso_activo               5.0    2.000000     1.414214  1.0  1.000000   \n",
       "descanso_welcome              3.0    1.333333     0.577350  1.0  1.000000   \n",
       "descanso_welcome_temporal    14.0   10.428571    14.980574  1.0  1.500000   \n",
       "reactivar                    12.0    4.166667     4.987864  1.0  1.000000   \n",
       "welcome                      15.0   15.133333    25.065248  1.0  2.000000   \n",
       "numero bajas por cada alta   51.0    1.367455     0.863355  0.1  0.803571   \n",
       "\n",
       "                                 50%        75%      max  \n",
       "iterable_estado_lead                                      \n",
       "activo                       8.50000  74.000000  12449.0  \n",
       "alta_socio                  10.00000  44.000000    908.0  \n",
       "baja                         8.00000  43.000000   2315.0  \n",
       "descanso_activo              1.00000   3.000000      4.0  \n",
       "descanso_welcome             1.00000   1.500000      2.0  \n",
       "descanso_welcome_temporal    4.00000   9.000000     53.0  \n",
       "reactivar                    2.00000   4.250000     17.0  \n",
       "welcome                      4.00000  13.500000     92.0  \n",
       "numero bajas por cada alta   1.22695   1.887164      4.0  "
      ],
      "text/html": "<div>\n<style scoped>\n    .dataframe tbody tr th:only-of-type {\n        vertical-align: middle;\n    }\n\n    .dataframe tbody tr th {\n        vertical-align: top;\n    }\n\n    .dataframe thead th {\n        text-align: right;\n    }\n</style>\n<table border=\"1\" class=\"dataframe\">\n  <thead>\n    <tr style=\"text-align: right;\">\n      <th></th>\n      <th>count</th>\n      <th>mean</th>\n      <th>std</th>\n      <th>min</th>\n      <th>25%</th>\n      <th>50%</th>\n      <th>75%</th>\n      <th>max</th>\n    </tr>\n    <tr>\n      <th>iterable_estado_lead</th>\n      <th></th>\n      <th></th>\n      <th></th>\n      <th></th>\n      <th></th>\n      <th></th>\n      <th></th>\n      <th></th>\n    </tr>\n  </thead>\n  <tbody>\n    <tr>\n      <th>activo</th>\n      <td>86.0</td>\n      <td>387.581395</td>\n      <td>1539.072803</td>\n      <td>1.0</td>\n      <td>2.000000</td>\n      <td>8.50000</td>\n      <td>74.000000</td>\n      <td>12449.0</td>\n    </tr>\n    <tr>\n      <th>alta_socio</th>\n      <td>61.0</td>\n      <td>73.950820</td>\n      <td>182.050673</td>\n      <td>1.0</td>\n      <td>1.000000</td>\n      <td>10.00000</td>\n      <td>44.000000</td>\n      <td>908.0</td>\n    </tr>\n    <tr>\n      <th>baja</th>\n      <td>61.0</td>\n      <td>120.721311</td>\n      <td>359.442816</td>\n      <td>1.0</td>\n      <td>2.000000</td>\n      <td>8.00000</td>\n      <td>43.000000</td>\n      <td>2315.0</td>\n    </tr>\n    <tr>\n      <th>descanso_activo</th>\n      <td>5.0</td>\n      <td>2.000000</td>\n      <td>1.414214</td>\n      <td>1.0</td>\n      <td>1.000000</td>\n      <td>1.00000</td>\n      <td>3.000000</td>\n      <td>4.0</td>\n    </tr>\n    <tr>\n      <th>descanso_welcome</th>\n      <td>3.0</td>\n      <td>1.333333</td>\n      <td>0.577350</td>\n      <td>1.0</td>\n      <td>1.000000</td>\n      <td>1.00000</td>\n      <td>1.500000</td>\n      <td>2.0</td>\n    </tr>\n    <tr>\n      <th>descanso_welcome_temporal</th>\n      <td>14.0</td>\n      <td>10.428571</td>\n      <td>14.980574</td>\n      <td>1.0</td>\n      <td>1.500000</td>\n      <td>4.00000</td>\n      <td>9.000000</td>\n      <td>53.0</td>\n    </tr>\n    <tr>\n      <th>reactivar</th>\n      <td>12.0</td>\n      <td>4.166667</td>\n      <td>4.987864</td>\n      <td>1.0</td>\n      <td>1.000000</td>\n      <td>2.00000</td>\n      <td>4.250000</td>\n      <td>17.0</td>\n    </tr>\n    <tr>\n      <th>welcome</th>\n      <td>15.0</td>\n      <td>15.133333</td>\n      <td>25.065248</td>\n      <td>1.0</td>\n      <td>2.000000</td>\n      <td>4.00000</td>\n      <td>13.500000</td>\n      <td>92.0</td>\n    </tr>\n    <tr>\n      <th>numero bajas por cada alta</th>\n      <td>51.0</td>\n      <td>1.367455</td>\n      <td>0.863355</td>\n      <td>0.1</td>\n      <td>0.803571</td>\n      <td>1.22695</td>\n      <td>1.887164</td>\n      <td>4.0</td>\n    </tr>\n  </tbody>\n</table>\n</div>"
     },
     "metadata": {},
     "execution_count": 11
    }
   ],
   "source": [
    "df_estado.describe().T"
   ]
  },
  {
   "cell_type": "code",
   "execution_count": 12,
   "metadata": {},
   "outputs": [
    {
     "output_type": "execute_result",
     "data": {
      "text/plain": [
       "     ids           fecha_ins  importe          fecha_alta     idl\n",
       "0  28995 2019-12-31 09:19:29       12 2020-01-01 10:40:54  504622\n",
       "1  29047 2020-01-01 10:45:44       12 2020-01-01 11:05:32  504737\n",
       "2  29049 2020-01-01 11:15:29       12 2020-01-01 11:24:14  504794"
      ],
      "text/html": "<div>\n<style scoped>\n    .dataframe tbody tr th:only-of-type {\n        vertical-align: middle;\n    }\n\n    .dataframe tbody tr th {\n        vertical-align: top;\n    }\n\n    .dataframe thead th {\n        text-align: right;\n    }\n</style>\n<table border=\"1\" class=\"dataframe\">\n  <thead>\n    <tr style=\"text-align: right;\">\n      <th></th>\n      <th>ids</th>\n      <th>fecha_ins</th>\n      <th>importe</th>\n      <th>fecha_alta</th>\n      <th>idl</th>\n    </tr>\n  </thead>\n  <tbody>\n    <tr>\n      <th>0</th>\n      <td>28995</td>\n      <td>2019-12-31 09:19:29</td>\n      <td>12</td>\n      <td>2020-01-01 10:40:54</td>\n      <td>504622</td>\n    </tr>\n    <tr>\n      <th>1</th>\n      <td>29047</td>\n      <td>2020-01-01 10:45:44</td>\n      <td>12</td>\n      <td>2020-01-01 11:05:32</td>\n      <td>504737</td>\n    </tr>\n    <tr>\n      <th>2</th>\n      <td>29049</td>\n      <td>2020-01-01 11:15:29</td>\n      <td>12</td>\n      <td>2020-01-01 11:24:14</td>\n      <td>504794</td>\n    </tr>\n  </tbody>\n</table>\n</div>"
     },
     "metadata": {},
     "execution_count": 12
    }
   ],
   "source": [
    "url2 = r\"C:\\Users\\gonza\\Downloads\\Prueba- Analista de datos\\Prueba- Analista de datos\\socios.csv\"\n",
    "socios = pd.read_csv(url2,sep=\";\",parse_dates=[\"fecha_ins\",\"fecha_alta\"])\n",
    "socios.head(3)"
   ]
  },
  {
   "cell_type": "code",
   "execution_count": 13,
   "metadata": {},
   "outputs": [],
   "source": [
    "alta_socio = leads[leads[\"iterable_estado_lead\"] == \"alta_socio\"]"
   ]
  },
  {
   "cell_type": "code",
   "execution_count": 14,
   "metadata": {},
   "outputs": [
    {
     "output_type": "execute_result",
     "data": {
      "text/plain": [
       "IntDejarFumar>40_9        20.128575\n",
       "Intereses_7               19.330525\n",
       "PublicoLibreM 35_7        11.682554\n",
       "Libre_12                   9.731767\n",
       "Interaccion_9              9.221902\n",
       "                            ...    \n",
       "IntEsp_StoriesVideo_2      0.022168\n",
       "InteraccFB_Mujeres_2       0.022168\n",
       "Dinamico_CercaHospi_2      0.022168\n",
       "IntereVacacionesAmpl_2     0.022168\n",
       "ThruPlay_1                 0.022168\n",
       "Name: origen, Length: 61, dtype: float64"
      ]
     },
     "metadata": {},
     "execution_count": 14
    }
   ],
   "source": [
    "alta_socio[\"origen\"].value_counts(normalize=True,ascending=False) * 100"
   ]
  },
  {
   "cell_type": "code",
   "execution_count": 15,
   "metadata": {},
   "outputs": [],
   "source": [
    "merge = pd.merge(left=leads,right=socios,how=\"inner\",on=\"idl\")"
   ]
  },
  {
   "cell_type": "code",
   "execution_count": 16,
   "metadata": {},
   "outputs": [
    {
     "output_type": "execute_result",
     "data": {
      "text/plain": [
       "      idl iterable_estado_lead         fecha_ins_x              origen    ids  \\\n",
       "0  503249           alta_socio 2020-01-01 01:12:26  PublicoLibreM 35_7  31536   \n",
       "1  503250           alta_socio 2020-01-01 01:14:22  IntDejarFumar>40_9  31537   \n",
       "2  503258           alta_socio 2020-01-01 02:11:37  IntDejarFumar>40_9  31541   \n",
       "\n",
       "          fecha_ins_y  importe          fecha_alta  \n",
       "0 2020-03-12 13:29:55        9 2020-03-12 13:32:22  \n",
       "1 2020-03-12 14:17:34        9 2020-03-12 14:20:44  \n",
       "2 2020-03-13 07:29:08       18 2020-03-13 07:37:07  "
      ],
      "text/html": "<div>\n<style scoped>\n    .dataframe tbody tr th:only-of-type {\n        vertical-align: middle;\n    }\n\n    .dataframe tbody tr th {\n        vertical-align: top;\n    }\n\n    .dataframe thead th {\n        text-align: right;\n    }\n</style>\n<table border=\"1\" class=\"dataframe\">\n  <thead>\n    <tr style=\"text-align: right;\">\n      <th></th>\n      <th>idl</th>\n      <th>iterable_estado_lead</th>\n      <th>fecha_ins_x</th>\n      <th>origen</th>\n      <th>ids</th>\n      <th>fecha_ins_y</th>\n      <th>importe</th>\n      <th>fecha_alta</th>\n    </tr>\n  </thead>\n  <tbody>\n    <tr>\n      <th>0</th>\n      <td>503249</td>\n      <td>alta_socio</td>\n      <td>2020-01-01 01:12:26</td>\n      <td>PublicoLibreM 35_7</td>\n      <td>31536</td>\n      <td>2020-03-12 13:29:55</td>\n      <td>9</td>\n      <td>2020-03-12 13:32:22</td>\n    </tr>\n    <tr>\n      <th>1</th>\n      <td>503250</td>\n      <td>alta_socio</td>\n      <td>2020-01-01 01:14:22</td>\n      <td>IntDejarFumar&gt;40_9</td>\n      <td>31537</td>\n      <td>2020-03-12 14:17:34</td>\n      <td>9</td>\n      <td>2020-03-12 14:20:44</td>\n    </tr>\n    <tr>\n      <th>2</th>\n      <td>503258</td>\n      <td>alta_socio</td>\n      <td>2020-01-01 02:11:37</td>\n      <td>IntDejarFumar&gt;40_9</td>\n      <td>31541</td>\n      <td>2020-03-13 07:29:08</td>\n      <td>18</td>\n      <td>2020-03-13 07:37:07</td>\n    </tr>\n  </tbody>\n</table>\n</div>"
     },
     "metadata": {},
     "execution_count": 16
    }
   ],
   "source": [
    "merge.head(3)"
   ]
  },
  {
   "cell_type": "code",
   "execution_count": 17,
   "metadata": {},
   "outputs": [
    {
     "output_type": "execute_result",
     "data": {
      "text/plain": [
       "                                  importe\n",
       "origen                                   \n",
       "InteSupermercados_10                   10\n",
       "IntDerchAmpl_StoriesVideo_2            10\n",
       "InterePseudoterAmpl_Movil_Quiz_3        9\n",
       "VisitasLandings_11                      9\n",
       "IntEsp_StoriesVideo_2                   9\n",
       "IntEsp_2                                9\n",
       "Iterable                                9\n",
       "LKSoc18_1                               9\n",
       "IntereCancerAmpl_Connectio_12           9\n",
       "ThruPlay_1                              5"
      ],
      "text/html": "<div>\n<style scoped>\n    .dataframe tbody tr th:only-of-type {\n        vertical-align: middle;\n    }\n\n    .dataframe tbody tr th {\n        vertical-align: top;\n    }\n\n    .dataframe thead th {\n        text-align: right;\n    }\n</style>\n<table border=\"1\" class=\"dataframe\">\n  <thead>\n    <tr style=\"text-align: right;\">\n      <th></th>\n      <th>importe</th>\n    </tr>\n    <tr>\n      <th>origen</th>\n      <th></th>\n    </tr>\n  </thead>\n  <tbody>\n    <tr>\n      <th>InteSupermercados_10</th>\n      <td>10</td>\n    </tr>\n    <tr>\n      <th>IntDerchAmpl_StoriesVideo_2</th>\n      <td>10</td>\n    </tr>\n    <tr>\n      <th>InterePseudoterAmpl_Movil_Quiz_3</th>\n      <td>9</td>\n    </tr>\n    <tr>\n      <th>VisitasLandings_11</th>\n      <td>9</td>\n    </tr>\n    <tr>\n      <th>IntEsp_StoriesVideo_2</th>\n      <td>9</td>\n    </tr>\n    <tr>\n      <th>IntEsp_2</th>\n      <td>9</td>\n    </tr>\n    <tr>\n      <th>Iterable</th>\n      <td>9</td>\n    </tr>\n    <tr>\n      <th>LKSoc18_1</th>\n      <td>9</td>\n    </tr>\n    <tr>\n      <th>IntereCancerAmpl_Connectio_12</th>\n      <td>9</td>\n    </tr>\n    <tr>\n      <th>ThruPlay_1</th>\n      <td>5</td>\n    </tr>\n  </tbody>\n</table>\n</div>"
     },
     "metadata": {},
     "execution_count": 17
    }
   ],
   "source": [
    "pd.DataFrame(merge.groupby(\"origen\")[\"importe\"].sum().sort_values(ascending=False).tail(10))"
   ]
  },
  {
   "cell_type": "code",
   "execution_count": 25,
   "metadata": {},
   "outputs": [
    {
     "output_type": "execute_result",
     "data": {
      "text/plain": [
       "                    importe\n",
       "origen                     \n",
       "Intereses_7            8728\n",
       "IntDejarFumar>40_9     5302\n",
       "PublicoLibreM 35_7     5151\n",
       "Interaccion_9          2818\n",
       "Libre_12               2062\n",
       "InterccIG_11           1327\n",
       "Lead_FB                 874\n",
       "haztesocio_1            802\n",
       "peticion_9              737\n",
       "peticion_7              686"
      ],
      "text/html": "<div>\n<style scoped>\n    .dataframe tbody tr th:only-of-type {\n        vertical-align: middle;\n    }\n\n    .dataframe tbody tr th {\n        vertical-align: top;\n    }\n\n    .dataframe thead th {\n        text-align: right;\n    }\n</style>\n<table border=\"1\" class=\"dataframe\">\n  <thead>\n    <tr style=\"text-align: right;\">\n      <th></th>\n      <th>importe</th>\n    </tr>\n    <tr>\n      <th>origen</th>\n      <th></th>\n    </tr>\n  </thead>\n  <tbody>\n    <tr>\n      <th>Intereses_7</th>\n      <td>8728</td>\n    </tr>\n    <tr>\n      <th>IntDejarFumar&gt;40_9</th>\n      <td>5302</td>\n    </tr>\n    <tr>\n      <th>PublicoLibreM 35_7</th>\n      <td>5151</td>\n    </tr>\n    <tr>\n      <th>Interaccion_9</th>\n      <td>2818</td>\n    </tr>\n    <tr>\n      <th>Libre_12</th>\n      <td>2062</td>\n    </tr>\n    <tr>\n      <th>InterccIG_11</th>\n      <td>1327</td>\n    </tr>\n    <tr>\n      <th>Lead_FB</th>\n      <td>874</td>\n    </tr>\n    <tr>\n      <th>haztesocio_1</th>\n      <td>802</td>\n    </tr>\n    <tr>\n      <th>peticion_9</th>\n      <td>737</td>\n    </tr>\n    <tr>\n      <th>peticion_7</th>\n      <td>686</td>\n    </tr>\n  </tbody>\n</table>\n</div>"
     },
     "metadata": {},
     "execution_count": 25
    }
   ],
   "source": [
    "pd.DataFrame(merge.groupby(\"origen\")[\"importe\"].sum().sort_values(ascending=False).head(10))"
   ]
  },
  {
   "cell_type": "code",
   "execution_count": 18,
   "metadata": {},
   "outputs": [
    {
     "output_type": "execute_result",
     "data": {
      "text/plain": [
       "                  idl iterable_estado_lead          fecha_ins_x       origen  \\\n",
       "count     2673.000000                 2673                 2673         2673   \n",
       "unique            NaN                    1                 2669           54   \n",
       "top               NaN           alta_socio  2020-01-27 11:17:56  Intereses_7   \n",
       "freq              NaN                 2673                    4          693   \n",
       "first             NaN                  NaN  2020-01-01 01:12:26          NaN   \n",
       "last              NaN                  NaN  2020-07-01 23:02:44          NaN   \n",
       "mean    518932.062477                  NaN                  NaN          NaN   \n",
       "std      11771.370027                  NaN                  NaN          NaN   \n",
       "min     503249.000000                  NaN                  NaN          NaN   \n",
       "25%     510107.000000                  NaN                  NaN          NaN   \n",
       "50%     516609.000000                  NaN                  NaN          NaN   \n",
       "75%     522833.000000                  NaN                  NaN          NaN   \n",
       "max     548862.000000                  NaN                  NaN          NaN   \n",
       "\n",
       "                 ids          fecha_ins_y      importe           fecha_alta  \n",
       "count    2673.000000                 2673  2673.000000                 2673  \n",
       "unique           NaN                 2610          NaN                 2664  \n",
       "top              NaN  2020-01-27 11:17:56          NaN  2020-06-09 00:00:00  \n",
       "freq             NaN                    4          NaN                    3  \n",
       "first            NaN  2019-09-26 16:24:30          NaN  2020-01-01 10:40:54  \n",
       "last             NaN  2020-07-23 08:45:28          NaN  2020-07-01 23:05:42  \n",
       "mean    32247.189300                  NaN    12.466891                  NaN  \n",
       "std      1871.095304                  NaN    13.677248                  NaN  \n",
       "min     25454.000000                  NaN     3.000000                  NaN  \n",
       "25%     30683.000000                  NaN     9.000000                  NaN  \n",
       "50%     32273.000000                  NaN    10.000000                  NaN  \n",
       "75%     33863.000000                  NaN    12.000000                  NaN  \n",
       "max     35786.000000                  NaN   240.000000                  NaN  "
      ],
      "text/html": "<div>\n<style scoped>\n    .dataframe tbody tr th:only-of-type {\n        vertical-align: middle;\n    }\n\n    .dataframe tbody tr th {\n        vertical-align: top;\n    }\n\n    .dataframe thead th {\n        text-align: right;\n    }\n</style>\n<table border=\"1\" class=\"dataframe\">\n  <thead>\n    <tr style=\"text-align: right;\">\n      <th></th>\n      <th>idl</th>\n      <th>iterable_estado_lead</th>\n      <th>fecha_ins_x</th>\n      <th>origen</th>\n      <th>ids</th>\n      <th>fecha_ins_y</th>\n      <th>importe</th>\n      <th>fecha_alta</th>\n    </tr>\n  </thead>\n  <tbody>\n    <tr>\n      <th>count</th>\n      <td>2673.000000</td>\n      <td>2673</td>\n      <td>2673</td>\n      <td>2673</td>\n      <td>2673.000000</td>\n      <td>2673</td>\n      <td>2673.000000</td>\n      <td>2673</td>\n    </tr>\n    <tr>\n      <th>unique</th>\n      <td>NaN</td>\n      <td>1</td>\n      <td>2669</td>\n      <td>54</td>\n      <td>NaN</td>\n      <td>2610</td>\n      <td>NaN</td>\n      <td>2664</td>\n    </tr>\n    <tr>\n      <th>top</th>\n      <td>NaN</td>\n      <td>alta_socio</td>\n      <td>2020-01-27 11:17:56</td>\n      <td>Intereses_7</td>\n      <td>NaN</td>\n      <td>2020-01-27 11:17:56</td>\n      <td>NaN</td>\n      <td>2020-06-09 00:00:00</td>\n    </tr>\n    <tr>\n      <th>freq</th>\n      <td>NaN</td>\n      <td>2673</td>\n      <td>4</td>\n      <td>693</td>\n      <td>NaN</td>\n      <td>4</td>\n      <td>NaN</td>\n      <td>3</td>\n    </tr>\n    <tr>\n      <th>first</th>\n      <td>NaN</td>\n      <td>NaN</td>\n      <td>2020-01-01 01:12:26</td>\n      <td>NaN</td>\n      <td>NaN</td>\n      <td>2019-09-26 16:24:30</td>\n      <td>NaN</td>\n      <td>2020-01-01 10:40:54</td>\n    </tr>\n    <tr>\n      <th>last</th>\n      <td>NaN</td>\n      <td>NaN</td>\n      <td>2020-07-01 23:02:44</td>\n      <td>NaN</td>\n      <td>NaN</td>\n      <td>2020-07-23 08:45:28</td>\n      <td>NaN</td>\n      <td>2020-07-01 23:05:42</td>\n    </tr>\n    <tr>\n      <th>mean</th>\n      <td>518932.062477</td>\n      <td>NaN</td>\n      <td>NaN</td>\n      <td>NaN</td>\n      <td>32247.189300</td>\n      <td>NaN</td>\n      <td>12.466891</td>\n      <td>NaN</td>\n    </tr>\n    <tr>\n      <th>std</th>\n      <td>11771.370027</td>\n      <td>NaN</td>\n      <td>NaN</td>\n      <td>NaN</td>\n      <td>1871.095304</td>\n      <td>NaN</td>\n      <td>13.677248</td>\n      <td>NaN</td>\n    </tr>\n    <tr>\n      <th>min</th>\n      <td>503249.000000</td>\n      <td>NaN</td>\n      <td>NaN</td>\n      <td>NaN</td>\n      <td>25454.000000</td>\n      <td>NaN</td>\n      <td>3.000000</td>\n      <td>NaN</td>\n    </tr>\n    <tr>\n      <th>25%</th>\n      <td>510107.000000</td>\n      <td>NaN</td>\n      <td>NaN</td>\n      <td>NaN</td>\n      <td>30683.000000</td>\n      <td>NaN</td>\n      <td>9.000000</td>\n      <td>NaN</td>\n    </tr>\n    <tr>\n      <th>50%</th>\n      <td>516609.000000</td>\n      <td>NaN</td>\n      <td>NaN</td>\n      <td>NaN</td>\n      <td>32273.000000</td>\n      <td>NaN</td>\n      <td>10.000000</td>\n      <td>NaN</td>\n    </tr>\n    <tr>\n      <th>75%</th>\n      <td>522833.000000</td>\n      <td>NaN</td>\n      <td>NaN</td>\n      <td>NaN</td>\n      <td>33863.000000</td>\n      <td>NaN</td>\n      <td>12.000000</td>\n      <td>NaN</td>\n    </tr>\n    <tr>\n      <th>max</th>\n      <td>548862.000000</td>\n      <td>NaN</td>\n      <td>NaN</td>\n      <td>NaN</td>\n      <td>35786.000000</td>\n      <td>NaN</td>\n      <td>240.000000</td>\n      <td>NaN</td>\n    </tr>\n  </tbody>\n</table>\n</div>"
     },
     "metadata": {},
     "execution_count": 18
    }
   ],
   "source": [
    "merge.describe(include=\"all\")"
   ]
  },
  {
   "cell_type": "code",
   "execution_count": null,
   "metadata": {},
   "outputs": [],
   "source": []
  }
 ]
}