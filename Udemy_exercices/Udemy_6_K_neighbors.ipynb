{
 "metadata": {
  "language_info": {
   "codemirror_mode": {
    "name": "ipython",
    "version": 3
   },
   "file_extension": ".py",
   "mimetype": "text/x-python",
   "name": "python",
   "nbconvert_exporter": "python",
   "pygments_lexer": "ipython3",
   "version": "3.8.3-final"
  },
  "orig_nbformat": 2,
  "kernelspec": {
   "name": "Python 3.8.3 64-bit (conda)",
   "display_name": "Python 3.8.3 64-bit (conda)",
   "metadata": {
    "interpreter": {
     "hash": "a063a9175d89378fd7561f6bc423ee307bddeb5f1748e456061b04aaac1df62f"
    }
   }
  }
 },
 "nbformat": 4,
 "nbformat_minor": 2,
 "cells": [
  {
   "source": [
    "### K NEIGHBORS\n",
    "* modelo de clasficacion supervisado; yo proporciono los datos, las grupos y a quien pertenece cada datos\n",
    "* uno podria empezar haciendo un clustering para encontrar los grupos(con un kmeans o cluster jerarquico) y despues usamos k-NEIGHBORS\n",
    "* con la informacion previa suministrada el modelo , a partir de nueva informacion, ya puede clasificar (ejemplo pensemos datos sobre tumores)\n",
    "* busca los datos \"vecinos\", que esten mas cercas, y el grupo mas representativo de esos puntos vencinos es el que se asigna al nuevo datos\n",
    "* se pueden especificar el numero de datos vecinos a tener en cuenta (k numeros) y sus pesos (por ejemplo mas peso quien este mas cerca)\n",
    "* https://www.aprendemachinelearning.com/clasificar-con-k-nearest-neighbor-ejemplo-en-python/"
   ],
   "cell_type": "markdown",
   "metadata": {}
  },
  {
   "source": [
    "### Nearest Neighbors Method in Real Applications\n",
    "\n",
    "* k-NN can serve as a good starting point (baseline) in some cases;\n",
    "* In Kaggle competitions, k-NN is often used for the construction of meta-features (i.e. k-NN predictions as input to other models) or for stacking/blending;\n",
    "* The nearest neighbors method extends to other tasks like recommendation systems. The initial decision could be a recommendation of a product (or service) that is popular among the closest neighbors of the person for whom we want to make a recommendation;\n",
    "* In practice, on large datasets, approximate methods of search are often used for nearest neighbors. There is a number of open source libraries that implement such algorithms; check out Spotify's library Annoy.\n",
    "\n",
    "The quality of classification/regression with k-NN depends on several parameters:\n",
    "\n",
    "* The number of neighbors  k .\n",
    "* The distance measure between samples (common ones include Hamming, Euclidean, cosine, and Minkowski distances). Note that most of these metrics require data to be scaled. Simply speaking, we do not want the \"salary\" feature, which is on the order of thousands, to affect the distance more than \"age\", which is generally less than 100.\n",
    "* Weights of neighbors (each neighbor may contribute different weights; for example, the further the sample, the lower the weight)."
   ],
   "cell_type": "markdown",
   "metadata": {}
  },
  {
   "cell_type": "code",
   "execution_count": 1,
   "metadata": {},
   "outputs": [],
   "source": [
    "import numpy as np\n",
    "import pandas as pd\n",
    "import matplotlib.pyplot as plt\n",
    "from matplotlib import style\n",
    "style.use(\"seaborn-bright\")\n",
    "import seaborn as sns"
   ]
  },
  {
   "cell_type": "code",
   "execution_count": 2,
   "metadata": {},
   "outputs": [],
   "source": [
    "from sklearn import preprocessing,neighbors\n",
    "from sklearn.model_selection import cross_validate  "
   ]
  },
  {
   "cell_type": "code",
   "execution_count": 35,
   "metadata": {},
   "outputs": [
    {
     "output_type": "execute_result",
     "data": {
      "text/plain": [
       "        0   1   2   3   4   5   6   7   8   9   10\n",
       "0  1000025   5   1   1   1   2   1   3   1   1   2\n",
       "1  1002945   5   4   4   5   7  10   3   2   1   2\n",
       "2  1015425   3   1   1   1   2   2   3   1   1   2\n",
       "3  1016277   6   8   8   1   3   4   3   7   1   2"
      ],
      "text/html": "<div>\n<style scoped>\n    .dataframe tbody tr th:only-of-type {\n        vertical-align: middle;\n    }\n\n    .dataframe tbody tr th {\n        vertical-align: top;\n    }\n\n    .dataframe thead th {\n        text-align: right;\n    }\n</style>\n<table border=\"1\" class=\"dataframe\">\n  <thead>\n    <tr style=\"text-align: right;\">\n      <th></th>\n      <th>0</th>\n      <th>1</th>\n      <th>2</th>\n      <th>3</th>\n      <th>4</th>\n      <th>5</th>\n      <th>6</th>\n      <th>7</th>\n      <th>8</th>\n      <th>9</th>\n      <th>10</th>\n    </tr>\n  </thead>\n  <tbody>\n    <tr>\n      <th>0</th>\n      <td>1000025</td>\n      <td>5</td>\n      <td>1</td>\n      <td>1</td>\n      <td>1</td>\n      <td>2</td>\n      <td>1</td>\n      <td>3</td>\n      <td>1</td>\n      <td>1</td>\n      <td>2</td>\n    </tr>\n    <tr>\n      <th>1</th>\n      <td>1002945</td>\n      <td>5</td>\n      <td>4</td>\n      <td>4</td>\n      <td>5</td>\n      <td>7</td>\n      <td>10</td>\n      <td>3</td>\n      <td>2</td>\n      <td>1</td>\n      <td>2</td>\n    </tr>\n    <tr>\n      <th>2</th>\n      <td>1015425</td>\n      <td>3</td>\n      <td>1</td>\n      <td>1</td>\n      <td>1</td>\n      <td>2</td>\n      <td>2</td>\n      <td>3</td>\n      <td>1</td>\n      <td>1</td>\n      <td>2</td>\n    </tr>\n    <tr>\n      <th>3</th>\n      <td>1016277</td>\n      <td>6</td>\n      <td>8</td>\n      <td>8</td>\n      <td>1</td>\n      <td>3</td>\n      <td>4</td>\n      <td>3</td>\n      <td>7</td>\n      <td>1</td>\n      <td>2</td>\n    </tr>\n  </tbody>\n</table>\n</div>"
     },
     "metadata": {},
     "execution_count": 35
    }
   ],
   "source": [
    "url = r\"https://raw.githubusercontent.com/joanby/python-ml-course/master/datasets/cancer/breast-cancer-wisconsin.data.txt\"\n",
    "df = pd.read_csv(url, header=None)\n",
    "df.head(4)\n"
   ]
  },
  {
   "cell_type": "code",
   "execution_count": 36,
   "metadata": {},
   "outputs": [],
   "source": [
    "# hay valores que son interrogantes lo convertimos a -99999 que seria como 0 (para que no cuente como tal )\n",
    "df.replace(\"?\",-99999,inplace=True)"
   ]
  },
  {
   "cell_type": "code",
   "execution_count": 37,
   "metadata": {},
   "outputs": [
    {
     "output_type": "execute_result",
     "data": {
      "text/plain": [
       "                 0           1           2           3           4   \\\n",
       "count  6.990000e+02  699.000000  699.000000  699.000000  699.000000   \n",
       "mean   1.071704e+06    4.417740    3.134478    3.207439    2.806867   \n",
       "std    6.170957e+05    2.815741    3.051459    2.971913    2.855379   \n",
       "min    6.163400e+04    1.000000    1.000000    1.000000    1.000000   \n",
       "25%    8.706885e+05    2.000000    1.000000    1.000000    1.000000   \n",
       "50%    1.171710e+06    4.000000    1.000000    1.000000    1.000000   \n",
       "75%    1.238298e+06    6.000000    5.000000    5.000000    4.000000   \n",
       "max    1.345435e+07   10.000000   10.000000   10.000000   10.000000   \n",
       "\n",
       "               5           7           8           9           10  \n",
       "count  699.000000  699.000000  699.000000  699.000000  699.000000  \n",
       "mean     3.216023    3.437768    2.866953    1.589413    2.689557  \n",
       "std      2.214300    2.438364    3.053634    1.715078    0.951273  \n",
       "min      1.000000    1.000000    1.000000    1.000000    2.000000  \n",
       "25%      2.000000    2.000000    1.000000    1.000000    2.000000  \n",
       "50%      2.000000    3.000000    1.000000    1.000000    2.000000  \n",
       "75%      4.000000    5.000000    4.000000    1.000000    4.000000  \n",
       "max     10.000000   10.000000   10.000000   10.000000    4.000000  "
      ],
      "text/html": "<div>\n<style scoped>\n    .dataframe tbody tr th:only-of-type {\n        vertical-align: middle;\n    }\n\n    .dataframe tbody tr th {\n        vertical-align: top;\n    }\n\n    .dataframe thead th {\n        text-align: right;\n    }\n</style>\n<table border=\"1\" class=\"dataframe\">\n  <thead>\n    <tr style=\"text-align: right;\">\n      <th></th>\n      <th>0</th>\n      <th>1</th>\n      <th>2</th>\n      <th>3</th>\n      <th>4</th>\n      <th>5</th>\n      <th>7</th>\n      <th>8</th>\n      <th>9</th>\n      <th>10</th>\n    </tr>\n  </thead>\n  <tbody>\n    <tr>\n      <th>count</th>\n      <td>6.990000e+02</td>\n      <td>699.000000</td>\n      <td>699.000000</td>\n      <td>699.000000</td>\n      <td>699.000000</td>\n      <td>699.000000</td>\n      <td>699.000000</td>\n      <td>699.000000</td>\n      <td>699.000000</td>\n      <td>699.000000</td>\n    </tr>\n    <tr>\n      <th>mean</th>\n      <td>1.071704e+06</td>\n      <td>4.417740</td>\n      <td>3.134478</td>\n      <td>3.207439</td>\n      <td>2.806867</td>\n      <td>3.216023</td>\n      <td>3.437768</td>\n      <td>2.866953</td>\n      <td>1.589413</td>\n      <td>2.689557</td>\n    </tr>\n    <tr>\n      <th>std</th>\n      <td>6.170957e+05</td>\n      <td>2.815741</td>\n      <td>3.051459</td>\n      <td>2.971913</td>\n      <td>2.855379</td>\n      <td>2.214300</td>\n      <td>2.438364</td>\n      <td>3.053634</td>\n      <td>1.715078</td>\n      <td>0.951273</td>\n    </tr>\n    <tr>\n      <th>min</th>\n      <td>6.163400e+04</td>\n      <td>1.000000</td>\n      <td>1.000000</td>\n      <td>1.000000</td>\n      <td>1.000000</td>\n      <td>1.000000</td>\n      <td>1.000000</td>\n      <td>1.000000</td>\n      <td>1.000000</td>\n      <td>2.000000</td>\n    </tr>\n    <tr>\n      <th>25%</th>\n      <td>8.706885e+05</td>\n      <td>2.000000</td>\n      <td>1.000000</td>\n      <td>1.000000</td>\n      <td>1.000000</td>\n      <td>2.000000</td>\n      <td>2.000000</td>\n      <td>1.000000</td>\n      <td>1.000000</td>\n      <td>2.000000</td>\n    </tr>\n    <tr>\n      <th>50%</th>\n      <td>1.171710e+06</td>\n      <td>4.000000</td>\n      <td>1.000000</td>\n      <td>1.000000</td>\n      <td>1.000000</td>\n      <td>2.000000</td>\n      <td>3.000000</td>\n      <td>1.000000</td>\n      <td>1.000000</td>\n      <td>2.000000</td>\n    </tr>\n    <tr>\n      <th>75%</th>\n      <td>1.238298e+06</td>\n      <td>6.000000</td>\n      <td>5.000000</td>\n      <td>5.000000</td>\n      <td>4.000000</td>\n      <td>4.000000</td>\n      <td>5.000000</td>\n      <td>4.000000</td>\n      <td>1.000000</td>\n      <td>4.000000</td>\n    </tr>\n    <tr>\n      <th>max</th>\n      <td>1.345435e+07</td>\n      <td>10.000000</td>\n      <td>10.000000</td>\n      <td>10.000000</td>\n      <td>10.000000</td>\n      <td>10.000000</td>\n      <td>10.000000</td>\n      <td>10.000000</td>\n      <td>10.000000</td>\n      <td>4.000000</td>\n    </tr>\n  </tbody>\n</table>\n</div>"
     },
     "metadata": {},
     "execution_count": 37
    }
   ],
   "source": [
    "df.describe()"
   ]
  },
  {
   "cell_type": "code",
   "execution_count": 38,
   "metadata": {},
   "outputs": [
    {
     "output_type": "execute_result",
     "data": {
      "text/plain": [
       "<pandas.io.formats.style.Styler at 0x222ec72e8b0>"
      ],
      "text/html": "<style  type=\"text/css\" >\n    #T_0109436c_13b7_11eb_acec_040e3ccec28erow0_col0 {\n            background-color:  #def5e5;\n            color:  #000000;\n        }    #T_0109436c_13b7_11eb_acec_040e3ccec28erow0_col1 {\n            background-color:  #0b0405;\n            color:  #f1f1f1;\n        }    #T_0109436c_13b7_11eb_acec_040e3ccec28erow0_col2 {\n            background-color:  #0b0405;\n            color:  #f1f1f1;\n        }    #T_0109436c_13b7_11eb_acec_040e3ccec28erow0_col3 {\n            background-color:  #0b0405;\n            color:  #f1f1f1;\n        }    #T_0109436c_13b7_11eb_acec_040e3ccec28erow0_col4 {\n            background-color:  #0b0405;\n            color:  #f1f1f1;\n        }    #T_0109436c_13b7_11eb_acec_040e3ccec28erow0_col5 {\n            background-color:  #0b0405;\n            color:  #f1f1f1;\n        }    #T_0109436c_13b7_11eb_acec_040e3ccec28erow0_col6 {\n            background-color:  #0b0405;\n            color:  #f1f1f1;\n        }    #T_0109436c_13b7_11eb_acec_040e3ccec28erow0_col7 {\n            background-color:  #0b0405;\n            color:  #f1f1f1;\n        }    #T_0109436c_13b7_11eb_acec_040e3ccec28erow0_col8 {\n            background-color:  #0b0405;\n            color:  #f1f1f1;\n        }    #T_0109436c_13b7_11eb_acec_040e3ccec28erow0_col9 {\n            background-color:  #0b0405;\n            color:  #f1f1f1;\n        }    #T_0109436c_13b7_11eb_acec_040e3ccec28erow1_col0 {\n            background-color:  #11070c;\n            color:  #f1f1f1;\n        }    #T_0109436c_13b7_11eb_acec_040e3ccec28erow1_col1 {\n            background-color:  #def5e5;\n            color:  #000000;\n        }    #T_0109436c_13b7_11eb_acec_040e3ccec28erow1_col2 {\n            background-color:  #37a8ac;\n            color:  #000000;\n        }    #T_0109436c_13b7_11eb_acec_040e3ccec28erow1_col3 {\n            background-color:  #39abac;\n            color:  #000000;\n        }    #T_0109436c_13b7_11eb_acec_040e3ccec28erow1_col4 {\n            background-color:  #347fa4;\n            color:  #000000;\n        }    #T_0109436c_13b7_11eb_acec_040e3ccec28erow1_col5 {\n            background-color:  #3486a5;\n            color:  #000000;\n        }    #T_0109436c_13b7_11eb_acec_040e3ccec28erow1_col6 {\n            background-color:  #3492a8;\n            color:  #000000;\n        }    #T_0109436c_13b7_11eb_acec_040e3ccec28erow1_col7 {\n            background-color:  #348ca7;\n            color:  #000000;\n        }    #T_0109436c_13b7_11eb_acec_040e3ccec28erow1_col8 {\n            background-color:  #3c5598;\n            color:  #f1f1f1;\n        }    #T_0109436c_13b7_11eb_acec_040e3ccec28erow1_col9 {\n            background-color:  #46bead;\n            color:  #000000;\n        }    #T_0109436c_13b7_11eb_acec_040e3ccec28erow2_col0 {\n            background-color:  #150a12;\n            color:  #f1f1f1;\n        }    #T_0109436c_13b7_11eb_acec_040e3ccec28erow2_col1 {\n            background-color:  #38a9ac;\n            color:  #000000;\n        }    #T_0109436c_13b7_11eb_acec_040e3ccec28erow2_col2 {\n            background-color:  #def5e5;\n            color:  #000000;\n        }    #T_0109436c_13b7_11eb_acec_040e3ccec28erow2_col3 {\n            background-color:  #b0e4c1;\n            color:  #000000;\n        }    #T_0109436c_13b7_11eb_acec_040e3ccec28erow2_col4 {\n            background-color:  #43baad;\n            color:  #000000;\n        }    #T_0109436c_13b7_11eb_acec_040e3ccec28erow2_col5 {\n            background-color:  #4fc5ad;\n            color:  #000000;\n        }    #T_0109436c_13b7_11eb_acec_040e3ccec28erow2_col6 {\n            background-color:  #52c7ad;\n            color:  #000000;\n        }    #T_0109436c_13b7_11eb_acec_040e3ccec28erow2_col7 {\n            background-color:  #46bead;\n            color:  #000000;\n        }    #T_0109436c_13b7_11eb_acec_040e3ccec28erow2_col8 {\n            background-color:  #3574a1;\n            color:  #000000;\n        }    #T_0109436c_13b7_11eb_acec_040e3ccec28erow2_col9 {\n            background-color:  #76d5ae;\n            color:  #000000;\n        }    #T_0109436c_13b7_11eb_acec_040e3ccec28erow3_col0 {\n            background-color:  #150a12;\n            color:  #f1f1f1;\n        }    #T_0109436c_13b7_11eb_acec_040e3ccec28erow3_col1 {\n            background-color:  #39acac;\n            color:  #000000;\n        }    #T_0109436c_13b7_11eb_acec_040e3ccec28erow3_col2 {\n            background-color:  #b0e4c1;\n            color:  #000000;\n        }    #T_0109436c_13b7_11eb_acec_040e3ccec28erow3_col3 {\n            background-color:  #def5e5;\n            color:  #000000;\n        }    #T_0109436c_13b7_11eb_acec_040e3ccec28erow3_col4 {\n            background-color:  #3eb4ad;\n            color:  #000000;\n        }    #T_0109436c_13b7_11eb_acec_040e3ccec28erow3_col5 {\n            background-color:  #45bdad;\n            color:  #000000;\n        }    #T_0109436c_13b7_11eb_acec_040e3ccec28erow3_col6 {\n            background-color:  #4bc2ad;\n            color:  #000000;\n        }    #T_0109436c_13b7_11eb_acec_040e3ccec28erow3_col7 {\n            background-color:  #45bdad;\n            color:  #000000;\n        }    #T_0109436c_13b7_11eb_acec_040e3ccec28erow3_col8 {\n            background-color:  #366fa0;\n            color:  #f1f1f1;\n        }    #T_0109436c_13b7_11eb_acec_040e3ccec28erow3_col9 {\n            background-color:  #79d6ae;\n            color:  #000000;\n        }    #T_0109436c_13b7_11eb_acec_040e3ccec28erow4_col0 {\n            background-color:  #0f0609;\n            color:  #f1f1f1;\n        }    #T_0109436c_13b7_11eb_acec_040e3ccec28erow4_col1 {\n            background-color:  #357ea4;\n            color:  #000000;\n        }    #T_0109436c_13b7_11eb_acec_040e3ccec28erow4_col2 {\n            background-color:  #41b8ad;\n            color:  #000000;\n        }    #T_0109436c_13b7_11eb_acec_040e3ccec28erow4_col3 {\n            background-color:  #3db3ad;\n            color:  #000000;\n        }    #T_0109436c_13b7_11eb_acec_040e3ccec28erow4_col4 {\n            background-color:  #def5e5;\n            color:  #000000;\n        }    #T_0109436c_13b7_11eb_acec_040e3ccec28erow4_col5 {\n            background-color:  #359baa;\n            color:  #000000;\n        }    #T_0109436c_13b7_11eb_acec_040e3ccec28erow4_col6 {\n            background-color:  #3bafad;\n            color:  #000000;\n        }    #T_0109436c_13b7_11eb_acec_040e3ccec28erow4_col7 {\n            background-color:  #359eaa;\n            color:  #000000;\n        }    #T_0109436c_13b7_11eb_acec_040e3ccec28erow4_col8 {\n            background-color:  #37689f;\n            color:  #f1f1f1;\n        }    #T_0109436c_13b7_11eb_acec_040e3ccec28erow4_col9 {\n            background-color:  #42b9ad;\n            color:  #000000;\n        }    #T_0109436c_13b7_11eb_acec_040e3ccec28erow5_col0 {\n            background-color:  #140910;\n            color:  #f1f1f1;\n        }    #T_0109436c_13b7_11eb_acec_040e3ccec28erow5_col1 {\n            background-color:  #3488a6;\n            color:  #000000;\n        }    #T_0109436c_13b7_11eb_acec_040e3ccec28erow5_col2 {\n            background-color:  #4dc4ad;\n            color:  #000000;\n        }    #T_0109436c_13b7_11eb_acec_040e3ccec28erow5_col3 {\n            background-color:  #45bdad;\n            color:  #000000;\n        }    #T_0109436c_13b7_11eb_acec_040e3ccec28erow5_col4 {\n            background-color:  #359eaa;\n            color:  #000000;\n        }    #T_0109436c_13b7_11eb_acec_040e3ccec28erow5_col5 {\n            background-color:  #def5e5;\n            color:  #000000;\n        }    #T_0109436c_13b7_11eb_acec_040e3ccec28erow5_col6 {\n            background-color:  #36a2ab;\n            color:  #000000;\n        }    #T_0109436c_13b7_11eb_acec_040e3ccec28erow5_col7 {\n            background-color:  #36a4ab;\n            color:  #000000;\n        }    #T_0109436c_13b7_11eb_acec_040e3ccec28erow5_col8 {\n            background-color:  #357aa2;\n            color:  #000000;\n        }    #T_0109436c_13b7_11eb_acec_040e3ccec28erow5_col9 {\n            background-color:  #3fb5ad;\n            color:  #000000;\n        }    #T_0109436c_13b7_11eb_acec_040e3ccec28erow6_col0 {\n            background-color:  #10060a;\n            color:  #f1f1f1;\n        }    #T_0109436c_13b7_11eb_acec_040e3ccec28erow6_col1 {\n            background-color:  #3491a8;\n            color:  #000000;\n        }    #T_0109436c_13b7_11eb_acec_040e3ccec28erow6_col2 {\n            background-color:  #4fc5ad;\n            color:  #000000;\n        }    #T_0109436c_13b7_11eb_acec_040e3ccec28erow6_col3 {\n            background-color:  #49c1ad;\n            color:  #000000;\n        }    #T_0109436c_13b7_11eb_acec_040e3ccec28erow6_col4 {\n            background-color:  #3bafad;\n            color:  #000000;\n        }    #T_0109436c_13b7_11eb_acec_040e3ccec28erow6_col5 {\n            background-color:  #35a1ab;\n            color:  #000000;\n        }    #T_0109436c_13b7_11eb_acec_040e3ccec28erow6_col6 {\n            background-color:  #def5e5;\n            color:  #000000;\n        }    #T_0109436c_13b7_11eb_acec_040e3ccec28erow6_col7 {\n            background-color:  #3aaead;\n            color:  #000000;\n        }    #T_0109436c_13b7_11eb_acec_040e3ccec28erow6_col8 {\n            background-color:  #3d5296;\n            color:  #f1f1f1;\n        }    #T_0109436c_13b7_11eb_acec_040e3ccec28erow6_col9 {\n            background-color:  #53c9ad;\n            color:  #000000;\n        }    #T_0109436c_13b7_11eb_acec_040e3ccec28erow7_col0 {\n            background-color:  #12080d;\n            color:  #f1f1f1;\n        }    #T_0109436c_13b7_11eb_acec_040e3ccec28erow7_col1 {\n            background-color:  #348ca7;\n            color:  #000000;\n        }    #T_0109436c_13b7_11eb_acec_040e3ccec28erow7_col2 {\n            background-color:  #45bdad;\n            color:  #000000;\n        }    #T_0109436c_13b7_11eb_acec_040e3ccec28erow7_col3 {\n            background-color:  #45bdad;\n            color:  #000000;\n        }    #T_0109436c_13b7_11eb_acec_040e3ccec28erow7_col4 {\n            background-color:  #359fab;\n            color:  #000000;\n        }    #T_0109436c_13b7_11eb_acec_040e3ccec28erow7_col5 {\n            background-color:  #36a4ab;\n            color:  #000000;\n        }    #T_0109436c_13b7_11eb_acec_040e3ccec28erow7_col6 {\n            background-color:  #3bafad;\n            color:  #000000;\n        }    #T_0109436c_13b7_11eb_acec_040e3ccec28erow7_col7 {\n            background-color:  #def5e5;\n            color:  #000000;\n        }    #T_0109436c_13b7_11eb_acec_040e3ccec28erow7_col8 {\n            background-color:  #366b9f;\n            color:  #f1f1f1;\n        }    #T_0109436c_13b7_11eb_acec_040e3ccec28erow7_col9 {\n            background-color:  #45bdad;\n            color:  #000000;\n        }    #T_0109436c_13b7_11eb_acec_040e3ccec28erow8_col0 {\n            background-color:  #160b13;\n            color:  #f1f1f1;\n        }    #T_0109436c_13b7_11eb_acec_040e3ccec28erow8_col1 {\n            background-color:  #3b589a;\n            color:  #f1f1f1;\n        }    #T_0109436c_13b7_11eb_acec_040e3ccec28erow8_col2 {\n            background-color:  #3574a1;\n            color:  #000000;\n        }    #T_0109436c_13b7_11eb_acec_040e3ccec28erow8_col3 {\n            background-color:  #3670a0;\n            color:  #f1f1f1;\n        }    #T_0109436c_13b7_11eb_acec_040e3ccec28erow8_col4 {\n            background-color:  #366ca0;\n            color:  #f1f1f1;\n        }    #T_0109436c_13b7_11eb_acec_040e3ccec28erow8_col5 {\n            background-color:  #357ba3;\n            color:  #000000;\n        }    #T_0109436c_13b7_11eb_acec_040e3ccec28erow8_col6 {\n            background-color:  #3b5799;\n            color:  #f1f1f1;\n        }    #T_0109436c_13b7_11eb_acec_040e3ccec28erow8_col7 {\n            background-color:  #366da0;\n            color:  #f1f1f1;\n        }    #T_0109436c_13b7_11eb_acec_040e3ccec28erow8_col8 {\n            background-color:  #def5e5;\n            color:  #000000;\n        }    #T_0109436c_13b7_11eb_acec_040e3ccec28erow8_col9 {\n            background-color:  #3671a0;\n            color:  #f1f1f1;\n        }    #T_0109436c_13b7_11eb_acec_040e3ccec28erow9_col0 {\n            background-color:  #0b0405;\n            color:  #f1f1f1;\n        }    #T_0109436c_13b7_11eb_acec_040e3ccec28erow9_col1 {\n            background-color:  #45bdad;\n            color:  #000000;\n        }    #T_0109436c_13b7_11eb_acec_040e3ccec28erow9_col2 {\n            background-color:  #73d4ad;\n            color:  #000000;\n        }    #T_0109436c_13b7_11eb_acec_040e3ccec28erow9_col3 {\n            background-color:  #73d4ad;\n            color:  #000000;\n        }    #T_0109436c_13b7_11eb_acec_040e3ccec28erow9_col4 {\n            background-color:  #41b8ad;\n            color:  #000000;\n        }    #T_0109436c_13b7_11eb_acec_040e3ccec28erow9_col5 {\n            background-color:  #3db3ad;\n            color:  #000000;\n        }    #T_0109436c_13b7_11eb_acec_040e3ccec28erow9_col6 {\n            background-color:  #52c7ad;\n            color:  #000000;\n        }    #T_0109436c_13b7_11eb_acec_040e3ccec28erow9_col7 {\n            background-color:  #43baad;\n            color:  #000000;\n        }    #T_0109436c_13b7_11eb_acec_040e3ccec28erow9_col8 {\n            background-color:  #366a9f;\n            color:  #f1f1f1;\n        }    #T_0109436c_13b7_11eb_acec_040e3ccec28erow9_col9 {\n            background-color:  #def5e5;\n            color:  #000000;\n        }</style><table id=\"T_0109436c_13b7_11eb_acec_040e3ccec28e\" ><thead>    <tr>        <th class=\"blank level0\" ></th>        <th class=\"col_heading level0 col0\" >0</th>        <th class=\"col_heading level0 col1\" >1</th>        <th class=\"col_heading level0 col2\" >2</th>        <th class=\"col_heading level0 col3\" >3</th>        <th class=\"col_heading level0 col4\" >4</th>        <th class=\"col_heading level0 col5\" >5</th>        <th class=\"col_heading level0 col6\" >7</th>        <th class=\"col_heading level0 col7\" >8</th>        <th class=\"col_heading level0 col8\" >9</th>        <th class=\"col_heading level0 col9\" >10</th>    </tr></thead><tbody>\n                <tr>\n                        <th id=\"T_0109436c_13b7_11eb_acec_040e3ccec28elevel0_row0\" class=\"row_heading level0 row0\" >0</th>\n                        <td id=\"T_0109436c_13b7_11eb_acec_040e3ccec28erow0_col0\" class=\"data row0 col0\" >1.000000</td>\n                        <td id=\"T_0109436c_13b7_11eb_acec_040e3ccec28erow0_col1\" class=\"data row0 col1\" >-0.055308</td>\n                        <td id=\"T_0109436c_13b7_11eb_acec_040e3ccec28erow0_col2\" class=\"data row0 col2\" >-0.041603</td>\n                        <td id=\"T_0109436c_13b7_11eb_acec_040e3ccec28erow0_col3\" class=\"data row0 col3\" >-0.041576</td>\n                        <td id=\"T_0109436c_13b7_11eb_acec_040e3ccec28erow0_col4\" class=\"data row0 col4\" >-0.064878</td>\n                        <td id=\"T_0109436c_13b7_11eb_acec_040e3ccec28erow0_col5\" class=\"data row0 col5\" >-0.045528</td>\n                        <td id=\"T_0109436c_13b7_11eb_acec_040e3ccec28erow0_col6\" class=\"data row0 col6\" >-0.060051</td>\n                        <td id=\"T_0109436c_13b7_11eb_acec_040e3ccec28erow0_col7\" class=\"data row0 col7\" >-0.052072</td>\n                        <td id=\"T_0109436c_13b7_11eb_acec_040e3ccec28erow0_col8\" class=\"data row0 col8\" >-0.034901</td>\n                        <td id=\"T_0109436c_13b7_11eb_acec_040e3ccec28erow0_col9\" class=\"data row0 col9\" >-0.080226</td>\n            </tr>\n            <tr>\n                        <th id=\"T_0109436c_13b7_11eb_acec_040e3ccec28elevel0_row1\" class=\"row_heading level0 row1\" >1</th>\n                        <td id=\"T_0109436c_13b7_11eb_acec_040e3ccec28erow1_col0\" class=\"data row1 col0\" >-0.055308</td>\n                        <td id=\"T_0109436c_13b7_11eb_acec_040e3ccec28erow1_col1\" class=\"data row1 col1\" >1.000000</td>\n                        <td id=\"T_0109436c_13b7_11eb_acec_040e3ccec28erow1_col2\" class=\"data row1 col2\" >0.644913</td>\n                        <td id=\"T_0109436c_13b7_11eb_acec_040e3ccec28erow1_col3\" class=\"data row1 col3\" >0.654589</td>\n                        <td id=\"T_0109436c_13b7_11eb_acec_040e3ccec28erow1_col4\" class=\"data row1 col4\" >0.486356</td>\n                        <td id=\"T_0109436c_13b7_11eb_acec_040e3ccec28erow1_col5\" class=\"data row1 col5\" >0.521816</td>\n                        <td id=\"T_0109436c_13b7_11eb_acec_040e3ccec28erow1_col6\" class=\"data row1 col6\" >0.558428</td>\n                        <td id=\"T_0109436c_13b7_11eb_acec_040e3ccec28erow1_col7\" class=\"data row1 col7\" >0.535835</td>\n                        <td id=\"T_0109436c_13b7_11eb_acec_040e3ccec28erow1_col8\" class=\"data row1 col8\" >0.350034</td>\n                        <td id=\"T_0109436c_13b7_11eb_acec_040e3ccec28erow1_col9\" class=\"data row1 col9\" >0.716001</td>\n            </tr>\n            <tr>\n                        <th id=\"T_0109436c_13b7_11eb_acec_040e3ccec28elevel0_row2\" class=\"row_heading level0 row2\" >2</th>\n                        <td id=\"T_0109436c_13b7_11eb_acec_040e3ccec28erow2_col0\" class=\"data row2 col0\" >-0.041603</td>\n                        <td id=\"T_0109436c_13b7_11eb_acec_040e3ccec28erow2_col1\" class=\"data row2 col1\" >0.644913</td>\n                        <td id=\"T_0109436c_13b7_11eb_acec_040e3ccec28erow2_col2\" class=\"data row2 col2\" >1.000000</td>\n                        <td id=\"T_0109436c_13b7_11eb_acec_040e3ccec28erow2_col3\" class=\"data row2 col3\" >0.906882</td>\n                        <td id=\"T_0109436c_13b7_11eb_acec_040e3ccec28erow2_col4\" class=\"data row2 col4\" >0.705582</td>\n                        <td id=\"T_0109436c_13b7_11eb_acec_040e3ccec28erow2_col5\" class=\"data row2 col5\" >0.751799</td>\n                        <td id=\"T_0109436c_13b7_11eb_acec_040e3ccec28erow2_col6\" class=\"data row2 col6\" >0.755721</td>\n                        <td id=\"T_0109436c_13b7_11eb_acec_040e3ccec28erow2_col7\" class=\"data row2 col7\" >0.722865</td>\n                        <td id=\"T_0109436c_13b7_11eb_acec_040e3ccec28erow2_col8\" class=\"data row2 col8\" >0.458693</td>\n                        <td id=\"T_0109436c_13b7_11eb_acec_040e3ccec28erow2_col9\" class=\"data row2 col9\" >0.817904</td>\n            </tr>\n            <tr>\n                        <th id=\"T_0109436c_13b7_11eb_acec_040e3ccec28elevel0_row3\" class=\"row_heading level0 row3\" >3</th>\n                        <td id=\"T_0109436c_13b7_11eb_acec_040e3ccec28erow3_col0\" class=\"data row3 col0\" >-0.041576</td>\n                        <td id=\"T_0109436c_13b7_11eb_acec_040e3ccec28erow3_col1\" class=\"data row3 col1\" >0.654589</td>\n                        <td id=\"T_0109436c_13b7_11eb_acec_040e3ccec28erow3_col2\" class=\"data row3 col2\" >0.906882</td>\n                        <td id=\"T_0109436c_13b7_11eb_acec_040e3ccec28erow3_col3\" class=\"data row3 col3\" >1.000000</td>\n                        <td id=\"T_0109436c_13b7_11eb_acec_040e3ccec28erow3_col4\" class=\"data row3 col4\" >0.683079</td>\n                        <td id=\"T_0109436c_13b7_11eb_acec_040e3ccec28erow3_col5\" class=\"data row3 col5\" >0.719668</td>\n                        <td id=\"T_0109436c_13b7_11eb_acec_040e3ccec28erow3_col6\" class=\"data row3 col6\" >0.735948</td>\n                        <td id=\"T_0109436c_13b7_11eb_acec_040e3ccec28erow3_col7\" class=\"data row3 col7\" >0.719446</td>\n                        <td id=\"T_0109436c_13b7_11eb_acec_040e3ccec28erow3_col8\" class=\"data row3 col8\" >0.438911</td>\n                        <td id=\"T_0109436c_13b7_11eb_acec_040e3ccec28erow3_col9\" class=\"data row3 col9\" >0.818934</td>\n            </tr>\n            <tr>\n                        <th id=\"T_0109436c_13b7_11eb_acec_040e3ccec28elevel0_row4\" class=\"row_heading level0 row4\" >4</th>\n                        <td id=\"T_0109436c_13b7_11eb_acec_040e3ccec28erow4_col0\" class=\"data row4 col0\" >-0.064878</td>\n                        <td id=\"T_0109436c_13b7_11eb_acec_040e3ccec28erow4_col1\" class=\"data row4 col1\" >0.486356</td>\n                        <td id=\"T_0109436c_13b7_11eb_acec_040e3ccec28erow4_col2\" class=\"data row4 col2\" >0.705582</td>\n                        <td id=\"T_0109436c_13b7_11eb_acec_040e3ccec28erow4_col3\" class=\"data row4 col3\" >0.683079</td>\n                        <td id=\"T_0109436c_13b7_11eb_acec_040e3ccec28erow4_col4\" class=\"data row4 col4\" >1.000000</td>\n                        <td id=\"T_0109436c_13b7_11eb_acec_040e3ccec28erow4_col5\" class=\"data row4 col5\" >0.599599</td>\n                        <td id=\"T_0109436c_13b7_11eb_acec_040e3ccec28erow4_col6\" class=\"data row4 col6\" >0.666715</td>\n                        <td id=\"T_0109436c_13b7_11eb_acec_040e3ccec28erow4_col7\" class=\"data row4 col7\" >0.603352</td>\n                        <td id=\"T_0109436c_13b7_11eb_acec_040e3ccec28erow4_col8\" class=\"data row4 col8\" >0.417633</td>\n                        <td id=\"T_0109436c_13b7_11eb_acec_040e3ccec28erow4_col9\" class=\"data row4 col9\" >0.696800</td>\n            </tr>\n            <tr>\n                        <th id=\"T_0109436c_13b7_11eb_acec_040e3ccec28elevel0_row5\" class=\"row_heading level0 row5\" >5</th>\n                        <td id=\"T_0109436c_13b7_11eb_acec_040e3ccec28erow5_col0\" class=\"data row5 col0\" >-0.045528</td>\n                        <td id=\"T_0109436c_13b7_11eb_acec_040e3ccec28erow5_col1\" class=\"data row5 col1\" >0.521816</td>\n                        <td id=\"T_0109436c_13b7_11eb_acec_040e3ccec28erow5_col2\" class=\"data row5 col2\" >0.751799</td>\n                        <td id=\"T_0109436c_13b7_11eb_acec_040e3ccec28erow5_col3\" class=\"data row5 col3\" >0.719668</td>\n                        <td id=\"T_0109436c_13b7_11eb_acec_040e3ccec28erow5_col4\" class=\"data row5 col4\" >0.599599</td>\n                        <td id=\"T_0109436c_13b7_11eb_acec_040e3ccec28erow5_col5\" class=\"data row5 col5\" >1.000000</td>\n                        <td id=\"T_0109436c_13b7_11eb_acec_040e3ccec28erow5_col6\" class=\"data row5 col6\" >0.616102</td>\n                        <td id=\"T_0109436c_13b7_11eb_acec_040e3ccec28erow5_col7\" class=\"data row5 col7\" >0.628881</td>\n                        <td id=\"T_0109436c_13b7_11eb_acec_040e3ccec28erow5_col8\" class=\"data row5 col8\" >0.479101</td>\n                        <td id=\"T_0109436c_13b7_11eb_acec_040e3ccec28erow5_col9\" class=\"data row5 col9\" >0.682785</td>\n            </tr>\n            <tr>\n                        <th id=\"T_0109436c_13b7_11eb_acec_040e3ccec28elevel0_row6\" class=\"row_heading level0 row6\" >7</th>\n                        <td id=\"T_0109436c_13b7_11eb_acec_040e3ccec28erow6_col0\" class=\"data row6 col0\" >-0.060051</td>\n                        <td id=\"T_0109436c_13b7_11eb_acec_040e3ccec28erow6_col1\" class=\"data row6 col1\" >0.558428</td>\n                        <td id=\"T_0109436c_13b7_11eb_acec_040e3ccec28erow6_col2\" class=\"data row6 col2\" >0.755721</td>\n                        <td id=\"T_0109436c_13b7_11eb_acec_040e3ccec28erow6_col3\" class=\"data row6 col3\" >0.735948</td>\n                        <td id=\"T_0109436c_13b7_11eb_acec_040e3ccec28erow6_col4\" class=\"data row6 col4\" >0.666715</td>\n                        <td id=\"T_0109436c_13b7_11eb_acec_040e3ccec28erow6_col5\" class=\"data row6 col5\" >0.616102</td>\n                        <td id=\"T_0109436c_13b7_11eb_acec_040e3ccec28erow6_col6\" class=\"data row6 col6\" >1.000000</td>\n                        <td id=\"T_0109436c_13b7_11eb_acec_040e3ccec28erow6_col7\" class=\"data row6 col7\" >0.665878</td>\n                        <td id=\"T_0109436c_13b7_11eb_acec_040e3ccec28erow6_col8\" class=\"data row6 col8\" >0.344169</td>\n                        <td id=\"T_0109436c_13b7_11eb_acec_040e3ccec28erow6_col9\" class=\"data row6 col9\" >0.756616</td>\n            </tr>\n            <tr>\n                        <th id=\"T_0109436c_13b7_11eb_acec_040e3ccec28elevel0_row7\" class=\"row_heading level0 row7\" >8</th>\n                        <td id=\"T_0109436c_13b7_11eb_acec_040e3ccec28erow7_col0\" class=\"data row7 col0\" >-0.052072</td>\n                        <td id=\"T_0109436c_13b7_11eb_acec_040e3ccec28erow7_col1\" class=\"data row7 col1\" >0.535835</td>\n                        <td id=\"T_0109436c_13b7_11eb_acec_040e3ccec28erow7_col2\" class=\"data row7 col2\" >0.722865</td>\n                        <td id=\"T_0109436c_13b7_11eb_acec_040e3ccec28erow7_col3\" class=\"data row7 col3\" >0.719446</td>\n                        <td id=\"T_0109436c_13b7_11eb_acec_040e3ccec28erow7_col4\" class=\"data row7 col4\" >0.603352</td>\n                        <td id=\"T_0109436c_13b7_11eb_acec_040e3ccec28erow7_col5\" class=\"data row7 col5\" >0.628881</td>\n                        <td id=\"T_0109436c_13b7_11eb_acec_040e3ccec28erow7_col6\" class=\"data row7 col6\" >0.665878</td>\n                        <td id=\"T_0109436c_13b7_11eb_acec_040e3ccec28erow7_col7\" class=\"data row7 col7\" >1.000000</td>\n                        <td id=\"T_0109436c_13b7_11eb_acec_040e3ccec28erow7_col8\" class=\"data row7 col8\" >0.428336</td>\n                        <td id=\"T_0109436c_13b7_11eb_acec_040e3ccec28erow7_col9\" class=\"data row7 col9\" >0.712244</td>\n            </tr>\n            <tr>\n                        <th id=\"T_0109436c_13b7_11eb_acec_040e3ccec28elevel0_row8\" class=\"row_heading level0 row8\" >9</th>\n                        <td id=\"T_0109436c_13b7_11eb_acec_040e3ccec28erow8_col0\" class=\"data row8 col0\" >-0.034901</td>\n                        <td id=\"T_0109436c_13b7_11eb_acec_040e3ccec28erow8_col1\" class=\"data row8 col1\" >0.350034</td>\n                        <td id=\"T_0109436c_13b7_11eb_acec_040e3ccec28erow8_col2\" class=\"data row8 col2\" >0.458693</td>\n                        <td id=\"T_0109436c_13b7_11eb_acec_040e3ccec28erow8_col3\" class=\"data row8 col3\" >0.438911</td>\n                        <td id=\"T_0109436c_13b7_11eb_acec_040e3ccec28erow8_col4\" class=\"data row8 col4\" >0.417633</td>\n                        <td id=\"T_0109436c_13b7_11eb_acec_040e3ccec28erow8_col5\" class=\"data row8 col5\" >0.479101</td>\n                        <td id=\"T_0109436c_13b7_11eb_acec_040e3ccec28erow8_col6\" class=\"data row8 col6\" >0.344169</td>\n                        <td id=\"T_0109436c_13b7_11eb_acec_040e3ccec28erow8_col7\" class=\"data row8 col7\" >0.428336</td>\n                        <td id=\"T_0109436c_13b7_11eb_acec_040e3ccec28erow8_col8\" class=\"data row8 col8\" >1.000000</td>\n                        <td id=\"T_0109436c_13b7_11eb_acec_040e3ccec28erow8_col9\" class=\"data row8 col9\" >0.423170</td>\n            </tr>\n            <tr>\n                        <th id=\"T_0109436c_13b7_11eb_acec_040e3ccec28elevel0_row9\" class=\"row_heading level0 row9\" >10</th>\n                        <td id=\"T_0109436c_13b7_11eb_acec_040e3ccec28erow9_col0\" class=\"data row9 col0\" >-0.080226</td>\n                        <td id=\"T_0109436c_13b7_11eb_acec_040e3ccec28erow9_col1\" class=\"data row9 col1\" >0.716001</td>\n                        <td id=\"T_0109436c_13b7_11eb_acec_040e3ccec28erow9_col2\" class=\"data row9 col2\" >0.817904</td>\n                        <td id=\"T_0109436c_13b7_11eb_acec_040e3ccec28erow9_col3\" class=\"data row9 col3\" >0.818934</td>\n                        <td id=\"T_0109436c_13b7_11eb_acec_040e3ccec28erow9_col4\" class=\"data row9 col4\" >0.696800</td>\n                        <td id=\"T_0109436c_13b7_11eb_acec_040e3ccec28erow9_col5\" class=\"data row9 col5\" >0.682785</td>\n                        <td id=\"T_0109436c_13b7_11eb_acec_040e3ccec28erow9_col6\" class=\"data row9 col6\" >0.756616</td>\n                        <td id=\"T_0109436c_13b7_11eb_acec_040e3ccec28erow9_col7\" class=\"data row9 col7\" >0.712244</td>\n                        <td id=\"T_0109436c_13b7_11eb_acec_040e3ccec28erow9_col8\" class=\"data row9 col8\" >0.423170</td>\n                        <td id=\"T_0109436c_13b7_11eb_acec_040e3ccec28erow9_col9\" class=\"data row9 col9\" >1.000000</td>\n            </tr>\n    </tbody></table>"
     },
     "metadata": {},
     "execution_count": 38
    }
   ],
   "source": [
    "df.corr().style.background_gradient(cmap='mako')"
   ]
  },
  {
   "cell_type": "code",
   "execution_count": 39,
   "metadata": {},
   "outputs": [
    {
     "output_type": "execute_result",
     "data": {
      "text/plain": [
       "['V1', 'V2', 'V3', 'V4', 'V5', 'V6', 'V7', 'V8', 'V9']"
      ]
     },
     "metadata": {},
     "execution_count": 39
    }
   ],
   "source": [
    "# renombramos las columnas,quitamos la Y y tambien la primera fila\n",
    "[\"V\"+str(v) for v in range(1,10)]"
   ]
  },
  {
   "cell_type": "code",
   "execution_count": 40,
   "metadata": {},
   "outputs": [],
   "source": [
    "df.columns = [\"name\",'V1', 'V2', 'V3', 'V4', 'V5', 'V6', 'V7', 'V8', 'V9',\"target\"]"
   ]
  },
  {
   "cell_type": "code",
   "execution_count": 41,
   "metadata": {},
   "outputs": [
    {
     "output_type": "execute_result",
     "data": {
      "text/plain": [
       "      name  V1  V2  V3  V4  V5  V6  V7  V8  V9  target\n",
       "0  1000025   5   1   1   1   2   1   3   1   1       2\n",
       "1  1002945   5   4   4   5   7  10   3   2   1       2"
      ],
      "text/html": "<div>\n<style scoped>\n    .dataframe tbody tr th:only-of-type {\n        vertical-align: middle;\n    }\n\n    .dataframe tbody tr th {\n        vertical-align: top;\n    }\n\n    .dataframe thead th {\n        text-align: right;\n    }\n</style>\n<table border=\"1\" class=\"dataframe\">\n  <thead>\n    <tr style=\"text-align: right;\">\n      <th></th>\n      <th>name</th>\n      <th>V1</th>\n      <th>V2</th>\n      <th>V3</th>\n      <th>V4</th>\n      <th>V5</th>\n      <th>V6</th>\n      <th>V7</th>\n      <th>V8</th>\n      <th>V9</th>\n      <th>target</th>\n    </tr>\n  </thead>\n  <tbody>\n    <tr>\n      <th>0</th>\n      <td>1000025</td>\n      <td>5</td>\n      <td>1</td>\n      <td>1</td>\n      <td>1</td>\n      <td>2</td>\n      <td>1</td>\n      <td>3</td>\n      <td>1</td>\n      <td>1</td>\n      <td>2</td>\n    </tr>\n    <tr>\n      <th>1</th>\n      <td>1002945</td>\n      <td>5</td>\n      <td>4</td>\n      <td>4</td>\n      <td>5</td>\n      <td>7</td>\n      <td>10</td>\n      <td>3</td>\n      <td>2</td>\n      <td>1</td>\n      <td>2</td>\n    </tr>\n  </tbody>\n</table>\n</div>"
     },
     "metadata": {},
     "execution_count": 41
    }
   ],
   "source": [
    "df.head(2)"
   ]
  },
  {
   "cell_type": "code",
   "execution_count": 42,
   "metadata": {},
   "outputs": [],
   "source": [
    "X = df.drop([\"name\",\"target\"],axis=1).copy()\n",
    "Y = df[\"target\"]"
   ]
  },
  {
   "cell_type": "code",
   "execution_count": 47,
   "metadata": {},
   "outputs": [],
   "source": [
    "from sklearn.model_selection import train_test_split\n",
    "X_train,X_test,Y_train,Y_test = train_test_split(X,Y,random_state=0,test_size=0.2)"
   ]
  },
  {
   "cell_type": "code",
   "execution_count": 48,
   "metadata": {},
   "outputs": [
    {
     "output_type": "execute_result",
     "data": {
      "text/plain": [
       "KNeighborsClassifier()"
      ]
     },
     "metadata": {},
     "execution_count": 48
    }
   ],
   "source": [
    "clf = neighbors.KNeighborsClassifier()\n",
    "clf.fit(X_train,Y_train)"
   ]
  },
  {
   "cell_type": "code",
   "execution_count": 49,
   "metadata": {},
   "outputs": [
    {
     "output_type": "execute_result",
     "data": {
      "text/plain": [
       "0.9857142857142858"
      ]
     },
     "metadata": {},
     "execution_count": 49
    }
   ],
   "source": [
    "# ya vemos que el score es super alto \n",
    "clf.score(X_test,Y_test)"
   ]
  },
  {
   "source": [
    "### Prediciendo los resultados\n",
    "* aqui hacemos una prediccion individual\n",
    "* ojo con reshape y predict \n",
    "* https://stackoverflow.com/questions/41472015/knearest-neighbors-in-sklearn-valueerror-query-data-dimension-must-match-trai"
   ],
   "cell_type": "markdown",
   "metadata": {}
  },
  {
   "cell_type": "code",
   "execution_count": 59,
   "metadata": {},
   "outputs": [
    {
     "output_type": "execute_result",
     "data": {
      "text/plain": [
       "array([2], dtype=int64)"
      ]
     },
     "metadata": {},
     "execution_count": 59
    }
   ],
   "source": [
    "clf.predict(X_test.iloc[1].values.reshape(1, -1))"
   ]
  },
  {
   "source": [
    "### Creando nuestro propio modelo\n",
    "* recordar que se basa en la distancia (euclidea,manhattan..)\n",
    "* aprendemos tambien a usar warnings (ej si un usario elige un parametro fuera de rango)"
   ],
   "cell_type": "markdown",
   "metadata": {}
  },
  {
   "cell_type": "code",
   "execution_count": 60,
   "metadata": {},
   "outputs": [],
   "source": [
    "import warnings\n",
    "from math import sqrt\n",
    "from collections import Counter"
   ]
  },
  {
   "cell_type": "code",
   "execution_count": 61,
   "metadata": {},
   "outputs": [],
   "source": [
    "# creamos un data set y un nuevo punto\n",
    "dataset = {\n",
    "    \"k\":[[1,2],[2,3],[3,1]],\n",
    "    \"r\":[[6,5],[7,7],[8,6]]\n",
    "}\n",
    "new_point = [5,7]"
   ]
  },
  {
   "cell_type": "code",
   "execution_count": 64,
   "metadata": {},
   "outputs": [
    {
     "output_type": "execute_result",
     "data": {
      "text/plain": [
       "<matplotlib.collections.PathCollection at 0x222ed0070d0>"
      ]
     },
     "metadata": {},
     "execution_count": 64
    },
    {
     "output_type": "display_data",
     "data": {
      "text/plain": "<Figure size 432x288 with 1 Axes>",
      "image/svg+xml": "<?xml version=\"1.0\" encoding=\"utf-8\" standalone=\"no\"?>\r\n<!DOCTYPE svg PUBLIC \"-//W3C//DTD SVG 1.1//EN\"\r\n  \"http://www.w3.org/Graphics/SVG/1.1/DTD/svg11.dtd\">\r\n<!-- Created with matplotlib (https://matplotlib.org/) -->\r\n<svg height=\"248.518125pt\" version=\"1.1\" viewBox=\"0 0 362.5625 248.518125\" width=\"362.5625pt\" xmlns=\"http://www.w3.org/2000/svg\" xmlns:xlink=\"http://www.w3.org/1999/xlink\">\r\n <defs>\r\n  <style type=\"text/css\">\r\n*{stroke-linecap:butt;stroke-linejoin:round;}\r\n  </style>\r\n </defs>\r\n <g id=\"figure_1\">\r\n  <g id=\"patch_1\">\r\n   <path d=\"M 0 248.518125 \r\nL 362.5625 248.518125 \r\nL 362.5625 0 \r\nL 0 0 \r\nz\r\n\" style=\"fill:none;\"/>\r\n  </g>\r\n  <g id=\"axes_1\">\r\n   <g id=\"patch_2\">\r\n    <path d=\"M 20.5625 224.64 \r\nL 355.3625 224.64 \r\nL 355.3625 7.2 \r\nL 20.5625 7.2 \r\nz\r\n\" style=\"fill:#ffffff;\"/>\r\n   </g>\r\n   <g id=\"PathCollection_1\">\r\n    <defs>\r\n     <path d=\"M 0 3.535534 \r\nC 0.937635 3.535534 1.836992 3.163008 2.5 2.5 \r\nC 3.163008 1.836992 3.535534 0.937635 3.535534 0 \r\nC 3.535534 -0.937635 3.163008 -1.836992 2.5 -2.5 \r\nC 1.836992 -3.163008 0.937635 -3.535534 0 -3.535534 \r\nC -0.937635 -3.535534 -1.836992 -3.163008 -2.5 -2.5 \r\nC -3.163008 -1.836992 -3.535534 -0.937635 -3.535534 0 \r\nC -3.535534 0.937635 -3.163008 1.836992 -2.5 2.5 \r\nC -1.836992 3.163008 -0.937635 3.535534 0 3.535534 \r\nz\r\n\" id=\"m4ba1557543\" style=\"stroke:#000000;\"/>\r\n    </defs>\r\n    <g clip-path=\"url(#p8da099744a)\">\r\n     <use style=\"stroke:#000000;\" x=\"35.780682\" xlink:href=\"#m4ba1557543\" y=\"181.810909\"/>\r\n    </g>\r\n   </g>\r\n   <g id=\"PathCollection_2\">\r\n    <g clip-path=\"url(#p8da099744a)\">\r\n     <use style=\"stroke:#000000;\" x=\"79.261201\" xlink:href=\"#m4ba1557543\" y=\"148.865455\"/>\r\n    </g>\r\n   </g>\r\n   <g id=\"PathCollection_3\">\r\n    <g clip-path=\"url(#p8da099744a)\">\r\n     <use style=\"stroke:#000000;\" x=\"122.741721\" xlink:href=\"#m4ba1557543\" y=\"214.756364\"/>\r\n    </g>\r\n   </g>\r\n   <g id=\"PathCollection_4\">\r\n    <defs>\r\n     <path d=\"M 0 3.535534 \r\nC 0.937635 3.535534 1.836992 3.163008 2.5 2.5 \r\nC 3.163008 1.836992 3.535534 0.937635 3.535534 0 \r\nC 3.535534 -0.937635 3.163008 -1.836992 2.5 -2.5 \r\nC 1.836992 -3.163008 0.937635 -3.535534 0 -3.535534 \r\nC -0.937635 -3.535534 -1.836992 -3.163008 -2.5 -2.5 \r\nC -3.163008 -1.836992 -3.535534 -0.937635 -3.535534 0 \r\nC -3.535534 0.937635 -3.163008 1.836992 -2.5 2.5 \r\nC -1.836992 3.163008 -0.937635 3.535534 0 3.535534 \r\nz\r\n\" id=\"m6db9ea8bdf\" style=\"stroke:#ff0000;\"/>\r\n    </defs>\r\n    <g clip-path=\"url(#p8da099744a)\">\r\n     <use style=\"fill:#ff0000;stroke:#ff0000;\" x=\"253.183279\" xlink:href=\"#m6db9ea8bdf\" y=\"82.974545\"/>\r\n    </g>\r\n   </g>\r\n   <g id=\"PathCollection_5\">\r\n    <g clip-path=\"url(#p8da099744a)\">\r\n     <use style=\"fill:#ff0000;stroke:#ff0000;\" x=\"296.663799\" xlink:href=\"#m6db9ea8bdf\" y=\"17.083636\"/>\r\n    </g>\r\n   </g>\r\n   <g id=\"PathCollection_6\">\r\n    <g clip-path=\"url(#p8da099744a)\">\r\n     <use style=\"fill:#ff0000;stroke:#ff0000;\" x=\"340.144318\" xlink:href=\"#m6db9ea8bdf\" y=\"50.029091\"/>\r\n    </g>\r\n   </g>\r\n   <g id=\"PathCollection_7\">\r\n    <defs>\r\n     <path d=\"M 0 3 \r\nC 0.795609 3 1.55874 2.683901 2.12132 2.12132 \r\nC 2.683901 1.55874 3 0.795609 3 0 \r\nC 3 -0.795609 2.683901 -1.55874 2.12132 -2.12132 \r\nC 1.55874 -2.683901 0.795609 -3 0 -3 \r\nC -0.795609 -3 -1.55874 -2.683901 -2.12132 -2.12132 \r\nC -2.683901 -1.55874 -3 -0.795609 -3 0 \r\nC -3 0.795609 -2.683901 1.55874 -2.12132 2.12132 \r\nC -1.55874 2.683901 -0.795609 3 0 3 \r\nz\r\n\" id=\"m6b126c0a13\" style=\"stroke:#003fff;\"/>\r\n    </defs>\r\n    <g clip-path=\"url(#p8da099744a)\">\r\n     <use style=\"fill:#003fff;stroke:#003fff;\" x=\"209.70276\" xlink:href=\"#m6b126c0a13\" y=\"17.083636\"/>\r\n    </g>\r\n   </g>\r\n   <g id=\"matplotlib.axis_1\">\r\n    <g id=\"xtick_1\">\r\n     <g id=\"line2d_1\">\r\n      <defs>\r\n       <path d=\"M 0 0 \r\nL 0 3.5 \r\n\" id=\"md72aaaae3f\" style=\"stroke:#000000;stroke-width:0.8;\"/>\r\n      </defs>\r\n      <g>\r\n       <use style=\"stroke:#000000;stroke-width:0.8;\" x=\"35.780682\" xlink:href=\"#md72aaaae3f\" y=\"224.64\"/>\r\n      </g>\r\n     </g>\r\n     <g id=\"text_1\">\r\n      <!-- 1 -->\r\n      <defs>\r\n       <path d=\"M 12.40625 8.296875 \r\nL 28.515625 8.296875 \r\nL 28.515625 63.921875 \r\nL 10.984375 60.40625 \r\nL 10.984375 69.390625 \r\nL 28.421875 72.90625 \r\nL 38.28125 72.90625 \r\nL 38.28125 8.296875 \r\nL 54.390625 8.296875 \r\nL 54.390625 0 \r\nL 12.40625 0 \r\nz\r\n\" id=\"DejaVuSans-49\"/>\r\n      </defs>\r\n      <g transform=\"translate(32.599432 239.238437)scale(0.1 -0.1)\">\r\n       <use xlink:href=\"#DejaVuSans-49\"/>\r\n      </g>\r\n     </g>\r\n    </g>\r\n    <g id=\"xtick_2\">\r\n     <g id=\"line2d_2\">\r\n      <g>\r\n       <use style=\"stroke:#000000;stroke-width:0.8;\" x=\"79.261201\" xlink:href=\"#md72aaaae3f\" y=\"224.64\"/>\r\n      </g>\r\n     </g>\r\n     <g id=\"text_2\">\r\n      <!-- 2 -->\r\n      <defs>\r\n       <path d=\"M 19.1875 8.296875 \r\nL 53.609375 8.296875 \r\nL 53.609375 0 \r\nL 7.328125 0 \r\nL 7.328125 8.296875 \r\nQ 12.9375 14.109375 22.625 23.890625 \r\nQ 32.328125 33.6875 34.8125 36.53125 \r\nQ 39.546875 41.84375 41.421875 45.53125 \r\nQ 43.3125 49.21875 43.3125 52.78125 \r\nQ 43.3125 58.59375 39.234375 62.25 \r\nQ 35.15625 65.921875 28.609375 65.921875 \r\nQ 23.96875 65.921875 18.8125 64.3125 \r\nQ 13.671875 62.703125 7.8125 59.421875 \r\nL 7.8125 69.390625 \r\nQ 13.765625 71.78125 18.9375 73 \r\nQ 24.125 74.21875 28.421875 74.21875 \r\nQ 39.75 74.21875 46.484375 68.546875 \r\nQ 53.21875 62.890625 53.21875 53.421875 \r\nQ 53.21875 48.921875 51.53125 44.890625 \r\nQ 49.859375 40.875 45.40625 35.40625 \r\nQ 44.1875 33.984375 37.640625 27.21875 \r\nQ 31.109375 20.453125 19.1875 8.296875 \r\nz\r\n\" id=\"DejaVuSans-50\"/>\r\n      </defs>\r\n      <g transform=\"translate(76.079951 239.238437)scale(0.1 -0.1)\">\r\n       <use xlink:href=\"#DejaVuSans-50\"/>\r\n      </g>\r\n     </g>\r\n    </g>\r\n    <g id=\"xtick_3\">\r\n     <g id=\"line2d_3\">\r\n      <g>\r\n       <use style=\"stroke:#000000;stroke-width:0.8;\" x=\"122.741721\" xlink:href=\"#md72aaaae3f\" y=\"224.64\"/>\r\n      </g>\r\n     </g>\r\n     <g id=\"text_3\">\r\n      <!-- 3 -->\r\n      <defs>\r\n       <path d=\"M 40.578125 39.3125 \r\nQ 47.65625 37.796875 51.625 33 \r\nQ 55.609375 28.21875 55.609375 21.1875 \r\nQ 55.609375 10.40625 48.1875 4.484375 \r\nQ 40.765625 -1.421875 27.09375 -1.421875 \r\nQ 22.515625 -1.421875 17.65625 -0.515625 \r\nQ 12.796875 0.390625 7.625 2.203125 \r\nL 7.625 11.71875 \r\nQ 11.71875 9.328125 16.59375 8.109375 \r\nQ 21.484375 6.890625 26.8125 6.890625 \r\nQ 36.078125 6.890625 40.9375 10.546875 \r\nQ 45.796875 14.203125 45.796875 21.1875 \r\nQ 45.796875 27.640625 41.28125 31.265625 \r\nQ 36.765625 34.90625 28.71875 34.90625 \r\nL 20.21875 34.90625 \r\nL 20.21875 43.015625 \r\nL 29.109375 43.015625 \r\nQ 36.375 43.015625 40.234375 45.921875 \r\nQ 44.09375 48.828125 44.09375 54.296875 \r\nQ 44.09375 59.90625 40.109375 62.90625 \r\nQ 36.140625 65.921875 28.71875 65.921875 \r\nQ 24.65625 65.921875 20.015625 65.03125 \r\nQ 15.375 64.15625 9.8125 62.3125 \r\nL 9.8125 71.09375 \r\nQ 15.4375 72.65625 20.34375 73.4375 \r\nQ 25.25 74.21875 29.59375 74.21875 \r\nQ 40.828125 74.21875 47.359375 69.109375 \r\nQ 53.90625 64.015625 53.90625 55.328125 \r\nQ 53.90625 49.265625 50.4375 45.09375 \r\nQ 46.96875 40.921875 40.578125 39.3125 \r\nz\r\n\" id=\"DejaVuSans-51\"/>\r\n      </defs>\r\n      <g transform=\"translate(119.560471 239.238437)scale(0.1 -0.1)\">\r\n       <use xlink:href=\"#DejaVuSans-51\"/>\r\n      </g>\r\n     </g>\r\n    </g>\r\n    <g id=\"xtick_4\">\r\n     <g id=\"line2d_4\">\r\n      <g>\r\n       <use style=\"stroke:#000000;stroke-width:0.8;\" x=\"166.22224\" xlink:href=\"#md72aaaae3f\" y=\"224.64\"/>\r\n      </g>\r\n     </g>\r\n     <g id=\"text_4\">\r\n      <!-- 4 -->\r\n      <defs>\r\n       <path d=\"M 37.796875 64.3125 \r\nL 12.890625 25.390625 \r\nL 37.796875 25.390625 \r\nz\r\nM 35.203125 72.90625 \r\nL 47.609375 72.90625 \r\nL 47.609375 25.390625 \r\nL 58.015625 25.390625 \r\nL 58.015625 17.1875 \r\nL 47.609375 17.1875 \r\nL 47.609375 0 \r\nL 37.796875 0 \r\nL 37.796875 17.1875 \r\nL 4.890625 17.1875 \r\nL 4.890625 26.703125 \r\nz\r\n\" id=\"DejaVuSans-52\"/>\r\n      </defs>\r\n      <g transform=\"translate(163.04099 239.238437)scale(0.1 -0.1)\">\r\n       <use xlink:href=\"#DejaVuSans-52\"/>\r\n      </g>\r\n     </g>\r\n    </g>\r\n    <g id=\"xtick_5\">\r\n     <g id=\"line2d_5\">\r\n      <g>\r\n       <use style=\"stroke:#000000;stroke-width:0.8;\" x=\"209.70276\" xlink:href=\"#md72aaaae3f\" y=\"224.64\"/>\r\n      </g>\r\n     </g>\r\n     <g id=\"text_5\">\r\n      <!-- 5 -->\r\n      <defs>\r\n       <path d=\"M 10.796875 72.90625 \r\nL 49.515625 72.90625 \r\nL 49.515625 64.59375 \r\nL 19.828125 64.59375 \r\nL 19.828125 46.734375 \r\nQ 21.96875 47.46875 24.109375 47.828125 \r\nQ 26.265625 48.1875 28.421875 48.1875 \r\nQ 40.625 48.1875 47.75 41.5 \r\nQ 54.890625 34.8125 54.890625 23.390625 \r\nQ 54.890625 11.625 47.5625 5.09375 \r\nQ 40.234375 -1.421875 26.90625 -1.421875 \r\nQ 22.3125 -1.421875 17.546875 -0.640625 \r\nQ 12.796875 0.140625 7.71875 1.703125 \r\nL 7.71875 11.625 \r\nQ 12.109375 9.234375 16.796875 8.0625 \r\nQ 21.484375 6.890625 26.703125 6.890625 \r\nQ 35.15625 6.890625 40.078125 11.328125 \r\nQ 45.015625 15.765625 45.015625 23.390625 \r\nQ 45.015625 31 40.078125 35.4375 \r\nQ 35.15625 39.890625 26.703125 39.890625 \r\nQ 22.75 39.890625 18.8125 39.015625 \r\nQ 14.890625 38.140625 10.796875 36.28125 \r\nz\r\n\" id=\"DejaVuSans-53\"/>\r\n      </defs>\r\n      <g transform=\"translate(206.52151 239.238437)scale(0.1 -0.1)\">\r\n       <use xlink:href=\"#DejaVuSans-53\"/>\r\n      </g>\r\n     </g>\r\n    </g>\r\n    <g id=\"xtick_6\">\r\n     <g id=\"line2d_6\">\r\n      <g>\r\n       <use style=\"stroke:#000000;stroke-width:0.8;\" x=\"253.183279\" xlink:href=\"#md72aaaae3f\" y=\"224.64\"/>\r\n      </g>\r\n     </g>\r\n     <g id=\"text_6\">\r\n      <!-- 6 -->\r\n      <defs>\r\n       <path d=\"M 33.015625 40.375 \r\nQ 26.375 40.375 22.484375 35.828125 \r\nQ 18.609375 31.296875 18.609375 23.390625 \r\nQ 18.609375 15.53125 22.484375 10.953125 \r\nQ 26.375 6.390625 33.015625 6.390625 \r\nQ 39.65625 6.390625 43.53125 10.953125 \r\nQ 47.40625 15.53125 47.40625 23.390625 \r\nQ 47.40625 31.296875 43.53125 35.828125 \r\nQ 39.65625 40.375 33.015625 40.375 \r\nz\r\nM 52.59375 71.296875 \r\nL 52.59375 62.3125 \r\nQ 48.875 64.0625 45.09375 64.984375 \r\nQ 41.3125 65.921875 37.59375 65.921875 \r\nQ 27.828125 65.921875 22.671875 59.328125 \r\nQ 17.53125 52.734375 16.796875 39.40625 \r\nQ 19.671875 43.65625 24.015625 45.921875 \r\nQ 28.375 48.1875 33.59375 48.1875 \r\nQ 44.578125 48.1875 50.953125 41.515625 \r\nQ 57.328125 34.859375 57.328125 23.390625 \r\nQ 57.328125 12.15625 50.6875 5.359375 \r\nQ 44.046875 -1.421875 33.015625 -1.421875 \r\nQ 20.359375 -1.421875 13.671875 8.265625 \r\nQ 6.984375 17.96875 6.984375 36.375 \r\nQ 6.984375 53.65625 15.1875 63.9375 \r\nQ 23.390625 74.21875 37.203125 74.21875 \r\nQ 40.921875 74.21875 44.703125 73.484375 \r\nQ 48.484375 72.75 52.59375 71.296875 \r\nz\r\n\" id=\"DejaVuSans-54\"/>\r\n      </defs>\r\n      <g transform=\"translate(250.002029 239.238437)scale(0.1 -0.1)\">\r\n       <use xlink:href=\"#DejaVuSans-54\"/>\r\n      </g>\r\n     </g>\r\n    </g>\r\n    <g id=\"xtick_7\">\r\n     <g id=\"line2d_7\">\r\n      <g>\r\n       <use style=\"stroke:#000000;stroke-width:0.8;\" x=\"296.663799\" xlink:href=\"#md72aaaae3f\" y=\"224.64\"/>\r\n      </g>\r\n     </g>\r\n     <g id=\"text_7\">\r\n      <!-- 7 -->\r\n      <defs>\r\n       <path d=\"M 8.203125 72.90625 \r\nL 55.078125 72.90625 \r\nL 55.078125 68.703125 \r\nL 28.609375 0 \r\nL 18.3125 0 \r\nL 43.21875 64.59375 \r\nL 8.203125 64.59375 \r\nz\r\n\" id=\"DejaVuSans-55\"/>\r\n      </defs>\r\n      <g transform=\"translate(293.482549 239.238437)scale(0.1 -0.1)\">\r\n       <use xlink:href=\"#DejaVuSans-55\"/>\r\n      </g>\r\n     </g>\r\n    </g>\r\n    <g id=\"xtick_8\">\r\n     <g id=\"line2d_8\">\r\n      <g>\r\n       <use style=\"stroke:#000000;stroke-width:0.8;\" x=\"340.144318\" xlink:href=\"#md72aaaae3f\" y=\"224.64\"/>\r\n      </g>\r\n     </g>\r\n     <g id=\"text_8\">\r\n      <!-- 8 -->\r\n      <defs>\r\n       <path d=\"M 31.78125 34.625 \r\nQ 24.75 34.625 20.71875 30.859375 \r\nQ 16.703125 27.09375 16.703125 20.515625 \r\nQ 16.703125 13.921875 20.71875 10.15625 \r\nQ 24.75 6.390625 31.78125 6.390625 \r\nQ 38.8125 6.390625 42.859375 10.171875 \r\nQ 46.921875 13.96875 46.921875 20.515625 \r\nQ 46.921875 27.09375 42.890625 30.859375 \r\nQ 38.875 34.625 31.78125 34.625 \r\nz\r\nM 21.921875 38.8125 \r\nQ 15.578125 40.375 12.03125 44.71875 \r\nQ 8.5 49.078125 8.5 55.328125 \r\nQ 8.5 64.0625 14.71875 69.140625 \r\nQ 20.953125 74.21875 31.78125 74.21875 \r\nQ 42.671875 74.21875 48.875 69.140625 \r\nQ 55.078125 64.0625 55.078125 55.328125 \r\nQ 55.078125 49.078125 51.53125 44.71875 \r\nQ 48 40.375 41.703125 38.8125 \r\nQ 48.828125 37.15625 52.796875 32.3125 \r\nQ 56.78125 27.484375 56.78125 20.515625 \r\nQ 56.78125 9.90625 50.3125 4.234375 \r\nQ 43.84375 -1.421875 31.78125 -1.421875 \r\nQ 19.734375 -1.421875 13.25 4.234375 \r\nQ 6.78125 9.90625 6.78125 20.515625 \r\nQ 6.78125 27.484375 10.78125 32.3125 \r\nQ 14.796875 37.15625 21.921875 38.8125 \r\nz\r\nM 18.3125 54.390625 \r\nQ 18.3125 48.734375 21.84375 45.5625 \r\nQ 25.390625 42.390625 31.78125 42.390625 \r\nQ 38.140625 42.390625 41.71875 45.5625 \r\nQ 45.3125 48.734375 45.3125 54.390625 \r\nQ 45.3125 60.0625 41.71875 63.234375 \r\nQ 38.140625 66.40625 31.78125 66.40625 \r\nQ 25.390625 66.40625 21.84375 63.234375 \r\nQ 18.3125 60.0625 18.3125 54.390625 \r\nz\r\n\" id=\"DejaVuSans-56\"/>\r\n      </defs>\r\n      <g transform=\"translate(336.963068 239.238437)scale(0.1 -0.1)\">\r\n       <use xlink:href=\"#DejaVuSans-56\"/>\r\n      </g>\r\n     </g>\r\n    </g>\r\n   </g>\r\n   <g id=\"matplotlib.axis_2\">\r\n    <g id=\"ytick_1\">\r\n     <g id=\"line2d_9\">\r\n      <defs>\r\n       <path d=\"M 0 0 \r\nL -3.5 0 \r\n\" id=\"mfa54f02a78\" style=\"stroke:#000000;stroke-width:0.8;\"/>\r\n      </defs>\r\n      <g>\r\n       <use style=\"stroke:#000000;stroke-width:0.8;\" x=\"20.5625\" xlink:href=\"#mfa54f02a78\" y=\"214.756364\"/>\r\n      </g>\r\n     </g>\r\n     <g id=\"text_9\">\r\n      <!-- 1 -->\r\n      <g transform=\"translate(7.2 218.555582)scale(0.1 -0.1)\">\r\n       <use xlink:href=\"#DejaVuSans-49\"/>\r\n      </g>\r\n     </g>\r\n    </g>\r\n    <g id=\"ytick_2\">\r\n     <g id=\"line2d_10\">\r\n      <g>\r\n       <use style=\"stroke:#000000;stroke-width:0.8;\" x=\"20.5625\" xlink:href=\"#mfa54f02a78\" y=\"181.810909\"/>\r\n      </g>\r\n     </g>\r\n     <g id=\"text_10\">\r\n      <!-- 2 -->\r\n      <g transform=\"translate(7.2 185.610128)scale(0.1 -0.1)\">\r\n       <use xlink:href=\"#DejaVuSans-50\"/>\r\n      </g>\r\n     </g>\r\n    </g>\r\n    <g id=\"ytick_3\">\r\n     <g id=\"line2d_11\">\r\n      <g>\r\n       <use style=\"stroke:#000000;stroke-width:0.8;\" x=\"20.5625\" xlink:href=\"#mfa54f02a78\" y=\"148.865455\"/>\r\n      </g>\r\n     </g>\r\n     <g id=\"text_11\">\r\n      <!-- 3 -->\r\n      <g transform=\"translate(7.2 152.664673)scale(0.1 -0.1)\">\r\n       <use xlink:href=\"#DejaVuSans-51\"/>\r\n      </g>\r\n     </g>\r\n    </g>\r\n    <g id=\"ytick_4\">\r\n     <g id=\"line2d_12\">\r\n      <g>\r\n       <use style=\"stroke:#000000;stroke-width:0.8;\" x=\"20.5625\" xlink:href=\"#mfa54f02a78\" y=\"115.92\"/>\r\n      </g>\r\n     </g>\r\n     <g id=\"text_12\">\r\n      <!-- 4 -->\r\n      <g transform=\"translate(7.2 119.719219)scale(0.1 -0.1)\">\r\n       <use xlink:href=\"#DejaVuSans-52\"/>\r\n      </g>\r\n     </g>\r\n    </g>\r\n    <g id=\"ytick_5\">\r\n     <g id=\"line2d_13\">\r\n      <g>\r\n       <use style=\"stroke:#000000;stroke-width:0.8;\" x=\"20.5625\" xlink:href=\"#mfa54f02a78\" y=\"82.974545\"/>\r\n      </g>\r\n     </g>\r\n     <g id=\"text_13\">\r\n      <!-- 5 -->\r\n      <g transform=\"translate(7.2 86.773764)scale(0.1 -0.1)\">\r\n       <use xlink:href=\"#DejaVuSans-53\"/>\r\n      </g>\r\n     </g>\r\n    </g>\r\n    <g id=\"ytick_6\">\r\n     <g id=\"line2d_14\">\r\n      <g>\r\n       <use style=\"stroke:#000000;stroke-width:0.8;\" x=\"20.5625\" xlink:href=\"#mfa54f02a78\" y=\"50.029091\"/>\r\n      </g>\r\n     </g>\r\n     <g id=\"text_14\">\r\n      <!-- 6 -->\r\n      <g transform=\"translate(7.2 53.82831)scale(0.1 -0.1)\">\r\n       <use xlink:href=\"#DejaVuSans-54\"/>\r\n      </g>\r\n     </g>\r\n    </g>\r\n    <g id=\"ytick_7\">\r\n     <g id=\"line2d_15\">\r\n      <g>\r\n       <use style=\"stroke:#000000;stroke-width:0.8;\" x=\"20.5625\" xlink:href=\"#mfa54f02a78\" y=\"17.083636\"/>\r\n      </g>\r\n     </g>\r\n     <g id=\"text_15\">\r\n      <!-- 7 -->\r\n      <g transform=\"translate(7.2 20.882855)scale(0.1 -0.1)\">\r\n       <use xlink:href=\"#DejaVuSans-55\"/>\r\n      </g>\r\n     </g>\r\n    </g>\r\n   </g>\r\n   <g id=\"patch_3\">\r\n    <path d=\"M 20.5625 224.64 \r\nL 20.5625 7.2 \r\n\" style=\"fill:none;stroke:#000000;stroke-linecap:square;stroke-linejoin:miter;stroke-width:0.8;\"/>\r\n   </g>\r\n   <g id=\"patch_4\">\r\n    <path d=\"M 355.3625 224.64 \r\nL 355.3625 7.2 \r\n\" style=\"fill:none;stroke:#000000;stroke-linecap:square;stroke-linejoin:miter;stroke-width:0.8;\"/>\r\n   </g>\r\n   <g id=\"patch_5\">\r\n    <path d=\"M 20.5625 224.64 \r\nL 355.3625 224.64 \r\n\" style=\"fill:none;stroke:#000000;stroke-linecap:square;stroke-linejoin:miter;stroke-width:0.8;\"/>\r\n   </g>\r\n   <g id=\"patch_6\">\r\n    <path d=\"M 20.5625 7.2 \r\nL 355.3625 7.2 \r\n\" style=\"fill:none;stroke:#000000;stroke-linecap:square;stroke-linejoin:miter;stroke-width:0.8;\"/>\r\n   </g>\r\n  </g>\r\n </g>\r\n <defs>\r\n  <clipPath id=\"p8da099744a\">\r\n   <rect height=\"217.44\" width=\"334.8\" x=\"20.5625\" y=\"7.2\"/>\r\n  </clipPath>\r\n </defs>\r\n</svg>\r\n",
      "image/png": "[encoded data removed]"
     },
     "metadata": {
      "needs_background": "light"
     }
    }
   ],
   "source": [
    "[[plt.scatter(ii[0],ii[1], s=50,color=i) for ii in dataset[i]] for i in dataset]\n",
    "plt.scatter(new_point[0],new_point[1])"
   ]
  },
  {
   "cell_type": "code",
   "execution_count": null,
   "metadata": {},
   "outputs": [],
   "source": [
    "# ver los notebooks como desarolla el algoritmo :)"
   ]
  },
  {
   "source": [
    "### Decision trees and nearest neighbors method in a customer churn prediction task (mlcourse.ai)"
   ],
   "cell_type": "markdown",
   "metadata": {}
  },
  {
   "cell_type": "code",
   "execution_count": 2,
   "metadata": {},
   "outputs": [
    {
     "output_type": "execute_result",
     "data": {
      "text/plain": [
       "  State  Account length  Area code International plan Voice mail plan  \\\n",
       "0    KS             128        415                 No             Yes   \n",
       "1    OH             107        415                 No             Yes   \n",
       "\n",
       "   Number vmail messages  Total day minutes  Total day calls  \\\n",
       "0                     25              265.1              110   \n",
       "1                     26              161.6              123   \n",
       "\n",
       "   Total day charge  Total eve minutes  Total eve calls  Total eve charge  \\\n",
       "0             45.07              197.4               99             16.78   \n",
       "1             27.47              195.5              103             16.62   \n",
       "\n",
       "   Total night minutes  Total night calls  Total night charge  \\\n",
       "0                244.7                 91               11.01   \n",
       "1                254.4                103               11.45   \n",
       "\n",
       "   Total intl minutes  Total intl calls  Total intl charge  \\\n",
       "0                10.0                 3                2.7   \n",
       "1                13.7                 3                3.7   \n",
       "\n",
       "   Customer service calls  Churn  \n",
       "0                       1  False  \n",
       "1                       1  False  "
      ],
      "text/html": "<div>\n<style scoped>\n    .dataframe tbody tr th:only-of-type {\n        vertical-align: middle;\n    }\n\n    .dataframe tbody tr th {\n        vertical-align: top;\n    }\n\n    .dataframe thead th {\n        text-align: right;\n    }\n</style>\n<table border=\"1\" class=\"dataframe\">\n  <thead>\n    <tr style=\"text-align: right;\">\n      <th></th>\n      <th>State</th>\n      <th>Account length</th>\n      <th>Area code</th>\n      <th>International plan</th>\n      <th>Voice mail plan</th>\n      <th>Number vmail messages</th>\n      <th>Total day minutes</th>\n      <th>Total day calls</th>\n      <th>Total day charge</th>\n      <th>Total eve minutes</th>\n      <th>Total eve calls</th>\n      <th>Total eve charge</th>\n      <th>Total night minutes</th>\n      <th>Total night calls</th>\n      <th>Total night charge</th>\n      <th>Total intl minutes</th>\n      <th>Total intl calls</th>\n      <th>Total intl charge</th>\n      <th>Customer service calls</th>\n      <th>Churn</th>\n    </tr>\n  </thead>\n  <tbody>\n    <tr>\n      <th>0</th>\n      <td>KS</td>\n      <td>128</td>\n      <td>415</td>\n      <td>No</td>\n      <td>Yes</td>\n      <td>25</td>\n      <td>265.1</td>\n      <td>110</td>\n      <td>45.07</td>\n      <td>197.4</td>\n      <td>99</td>\n      <td>16.78</td>\n      <td>244.7</td>\n      <td>91</td>\n      <td>11.01</td>\n      <td>10.0</td>\n      <td>3</td>\n      <td>2.7</td>\n      <td>1</td>\n      <td>False</td>\n    </tr>\n    <tr>\n      <th>1</th>\n      <td>OH</td>\n      <td>107</td>\n      <td>415</td>\n      <td>No</td>\n      <td>Yes</td>\n      <td>26</td>\n      <td>161.6</td>\n      <td>123</td>\n      <td>27.47</td>\n      <td>195.5</td>\n      <td>103</td>\n      <td>16.62</td>\n      <td>254.4</td>\n      <td>103</td>\n      <td>11.45</td>\n      <td>13.7</td>\n      <td>3</td>\n      <td>3.7</td>\n      <td>1</td>\n      <td>False</td>\n    </tr>\n  </tbody>\n</table>\n</div>"
     },
     "metadata": {},
     "execution_count": 2
    }
   ],
   "source": [
    "url = r\"C:\\Users\\gonza\\OneDrive\\Documentos\\datascience-thebridge-master\\ejercicios gonzalo\\DATA\\telecom_churn.csv\"\n",
    "df = pd.read_csv(url)\n",
    "df.head(2)"
   ]
  },
  {
   "cell_type": "code",
   "execution_count": 5,
   "metadata": {},
   "outputs": [],
   "source": [
    "# mira como tranforma columnas categoricas (factorize yes/no,astype false/true)\n",
    "df[\"International plan\"] = pd.factorize(df[\"International plan\"])[0]\n",
    "df[\"Voice mail plan\"] = pd.factorize(df[\"Voice mail plan\"])[0]\n",
    "df[\"Churn\"] = df[\"Churn\"].astype(\"int\")\n",
    "states = df[\"State\"]\n",
    "y = df[\"Churn\"]\n",
    "df.drop([\"Churn\",\"State\"],axis=1,inplace=True)"
   ]
  },
  {
   "cell_type": "code",
   "execution_count": 6,
   "metadata": {},
   "outputs": [
    {
     "output_type": "execute_result",
     "data": {
      "text/plain": [
       "   Account length  Area code  International plan  Voice mail plan  \\\n",
       "0             128        415                   0                0   \n",
       "1             107        415                   0                0   \n",
       "2             137        415                   0                1   \n",
       "\n",
       "   Number vmail messages  Total day minutes  Total day calls  \\\n",
       "0                     25              265.1              110   \n",
       "1                     26              161.6              123   \n",
       "2                      0              243.4              114   \n",
       "\n",
       "   Total day charge  Total eve minutes  Total eve calls  Total eve charge  \\\n",
       "0             45.07              197.4               99             16.78   \n",
       "1             27.47              195.5              103             16.62   \n",
       "2             41.38              121.2              110             10.30   \n",
       "\n",
       "   Total night minutes  Total night calls  Total night charge  \\\n",
       "0                244.7                 91               11.01   \n",
       "1                254.4                103               11.45   \n",
       "2                162.6                104                7.32   \n",
       "\n",
       "   Total intl minutes  Total intl calls  Total intl charge  \\\n",
       "0                10.0                 3               2.70   \n",
       "1                13.7                 3               3.70   \n",
       "2                12.2                 5               3.29   \n",
       "\n",
       "   Customer service calls  \n",
       "0                       1  \n",
       "1                       1  \n",
       "2                       0  "
      ],
      "text/html": "<div>\n<style scoped>\n    .dataframe tbody tr th:only-of-type {\n        vertical-align: middle;\n    }\n\n    .dataframe tbody tr th {\n        vertical-align: top;\n    }\n\n    .dataframe thead th {\n        text-align: right;\n    }\n</style>\n<table border=\"1\" class=\"dataframe\">\n  <thead>\n    <tr style=\"text-align: right;\">\n      <th></th>\n      <th>Account length</th>\n      <th>Area code</th>\n      <th>International plan</th>\n      <th>Voice mail plan</th>\n      <th>Number vmail messages</th>\n      <th>Total day minutes</th>\n      <th>Total day calls</th>\n      <th>Total day charge</th>\n      <th>Total eve minutes</th>\n      <th>Total eve calls</th>\n      <th>Total eve charge</th>\n      <th>Total night minutes</th>\n      <th>Total night calls</th>\n      <th>Total night charge</th>\n      <th>Total intl minutes</th>\n      <th>Total intl calls</th>\n      <th>Total intl charge</th>\n      <th>Customer service calls</th>\n    </tr>\n  </thead>\n  <tbody>\n    <tr>\n      <th>0</th>\n      <td>128</td>\n      <td>415</td>\n      <td>0</td>\n      <td>0</td>\n      <td>25</td>\n      <td>265.1</td>\n      <td>110</td>\n      <td>45.07</td>\n      <td>197.4</td>\n      <td>99</td>\n      <td>16.78</td>\n      <td>244.7</td>\n      <td>91</td>\n      <td>11.01</td>\n      <td>10.0</td>\n      <td>3</td>\n      <td>2.70</td>\n      <td>1</td>\n    </tr>\n    <tr>\n      <th>1</th>\n      <td>107</td>\n      <td>415</td>\n      <td>0</td>\n      <td>0</td>\n      <td>26</td>\n      <td>161.6</td>\n      <td>123</td>\n      <td>27.47</td>\n      <td>195.5</td>\n      <td>103</td>\n      <td>16.62</td>\n      <td>254.4</td>\n      <td>103</td>\n      <td>11.45</td>\n      <td>13.7</td>\n      <td>3</td>\n      <td>3.70</td>\n      <td>1</td>\n    </tr>\n    <tr>\n      <th>2</th>\n      <td>137</td>\n      <td>415</td>\n      <td>0</td>\n      <td>1</td>\n      <td>0</td>\n      <td>243.4</td>\n      <td>114</td>\n      <td>41.38</td>\n      <td>121.2</td>\n      <td>110</td>\n      <td>10.30</td>\n      <td>162.6</td>\n      <td>104</td>\n      <td>7.32</td>\n      <td>12.2</td>\n      <td>5</td>\n      <td>3.29</td>\n      <td>0</td>\n    </tr>\n  </tbody>\n</table>\n</div>"
     },
     "metadata": {},
     "execution_count": 6
    }
   ],
   "source": [
    "df.head(3)"
   ]
  },
  {
   "source": [
    "Let's allocate 70% of the set for training (X_train, y_train) and 30% for the hold-out set (X_holdout, y_holdout). The hold-out set will not be involved in tuning the parameters of the models. We'll use it at the end, after tuning, to assess the quality of the resulting model. Let's train 2 models: decision tree and k-NN. We do not know what parameters are good, so we will assume some random ones: a tree depth of 5 and the number of nearest neighbors equal 10."
   ],
   "cell_type": "markdown",
   "metadata": {}
  },
  {
   "cell_type": "code",
   "execution_count": 9,
   "metadata": {},
   "outputs": [
    {
     "output_type": "execute_result",
     "data": {
      "text/plain": [
       "KNeighborsClassifier(n_neighbors=10)"
      ]
     },
     "metadata": {},
     "execution_count": 9
    }
   ],
   "source": [
    "from sklearn.model_selection import train_test_split, StratifiedKFold\n",
    "from sklearn.neighbors import KNeighborsClassifier\n",
    "from sklearn.preprocessing import StandardScaler\n",
    "from sklearn.tree import DecisionTreeClassifier\n",
    "\n",
    "X_train, X_holdout, y_train, y_holdout = train_test_split(df.values,y,test_size=0.3,\n",
    "                                        random_state=17)\n",
    "\n",
    "tree = DecisionTreeClassifier(max_depth=5,random_state=17)\n",
    "knn = KNeighborsClassifier(n_neighbors=10 )\n",
    "\n",
    "tree.fit(X_train, y_train)\n",
    "\n",
    "#for knn we need to scale the features\n",
    "scaler = StandardScaler()\n",
    "X_train_scaled = scaler.fit_transform(X_train)\n",
    "X_holdout_scaled = scaler.fit_transform(X_holdout)\n",
    "knn.fit(X_train_scaled,y_train)"
   ]
  },
  {
   "source": [
    "Let's assess prediction quality on our hold-out set with a simple metric, the proportion of correct answers (accuracy). The decision tree did better: the percentage of correct answers is about 94% (decision tree) versus 88% (k-NN). Note that this performance is achieved by using random parameters."
   ],
   "cell_type": "markdown",
   "metadata": {}
  },
  {
   "cell_type": "code",
   "execution_count": 10,
   "metadata": {},
   "outputs": [
    {
     "output_type": "execute_result",
     "data": {
      "text/plain": [
       "0.94"
      ]
     },
     "metadata": {},
     "execution_count": 10
    }
   ],
   "source": [
    "from sklearn.metrics import accuracy_score\n",
    "\n",
    "tree_pred = tree.predict(X_holdout)\n",
    "accuracy_score(y_holdout,tree_pred)"
   ]
  },
  {
   "cell_type": "code",
   "execution_count": 12,
   "metadata": {},
   "outputs": [
    {
     "output_type": "execute_result",
     "data": {
      "text/plain": [
       "0.886"
      ]
     },
     "metadata": {},
     "execution_count": 12
    }
   ],
   "source": [
    "knn_predict = knn.predict(X_holdout_scaled)\n",
    "accuracy_score(y_holdout,knn_predict)"
   ]
  },
  {
   "source": [
    "Now, let's identify the parameters for the tree using cross-validation. We'll tune the maximum depth and the maximum number of features used at each split. Here is the essence of how the GridSearchCV works: for each unique pair of values of max_depth and max_features, compute model performance with 5-fold cross-validation, and then select the best combination of parameters."
   ],
   "cell_type": "markdown",
   "metadata": {}
  },
  {
   "cell_type": "code",
   "execution_count": 13,
   "metadata": {},
   "outputs": [
    {
     "output_type": "stream",
     "name": "stdout",
     "text": [
      "Fitting 5 folds for each of 150 candidates, totalling 750 fits\n",
      "[Parallel(n_jobs=-1)]: Using backend LokyBackend with 8 concurrent workers.\n",
      "[Parallel(n_jobs=-1)]: Done  34 tasks      | elapsed:    4.0s\n",
      "[Parallel(n_jobs=-1)]: Done 672 tasks      | elapsed:    5.2s\n",
      "[Parallel(n_jobs=-1)]: Done 750 out of 750 | elapsed:    5.4s finished\n"
     ]
    },
    {
     "output_type": "execute_result",
     "data": {
      "text/plain": [
       "GridSearchCV(cv=5,\n",
       "             estimator=DecisionTreeClassifier(max_depth=5, random_state=17),\n",
       "             n_jobs=-1,\n",
       "             param_grid={'max_depth': range(1, 11),\n",
       "                         'max_features': range(4, 19)},\n",
       "             verbose=True)"
      ]
     },
     "metadata": {},
     "execution_count": 13
    }
   ],
   "source": [
    "from sklearn.model_selection import GridSearchCV,cross_val_score\n",
    "\n",
    "tree_params = {\"max_depth\":range(1,11),\n",
    "                \"max_features\":range(4,19)}\n",
    "tree_grid = GridSearchCV(tree,tree_params,cv=5,n_jobs=-1,verbose=True)\n",
    "tree_grid.fit(X_train, y_train)"
   ]
  },
  {
   "cell_type": "code",
   "execution_count": 14,
   "metadata": {},
   "outputs": [
    {
     "output_type": "execute_result",
     "data": {
      "text/plain": [
       "{'max_depth': 6, 'max_features': 17}"
      ]
     },
     "metadata": {},
     "execution_count": 14
    }
   ],
   "source": [
    "#Let's list the best parameters and the corresponding mean accuracy from cross-validation.\n",
    "tree_grid.best_params_"
   ]
  },
  {
   "cell_type": "code",
   "execution_count": 15,
   "metadata": {},
   "outputs": [
    {
     "output_type": "execute_result",
     "data": {
      "text/plain": [
       "0.94257014456259"
      ]
     },
     "metadata": {},
     "execution_count": 15
    }
   ],
   "source": [
    "tree_grid.best_score_"
   ]
  },
  {
   "cell_type": "code",
   "execution_count": 16,
   "metadata": {},
   "outputs": [
    {
     "output_type": "execute_result",
     "data": {
      "text/plain": [
       "0.946"
      ]
     },
     "metadata": {},
     "execution_count": 16
    }
   ],
   "source": [
    "accuracy_score(y_holdout,tree_grid.predict(X_holdout))"
   ]
  },
  {
   "cell_type": "code",
   "execution_count": 20,
   "metadata": {},
   "outputs": [
    {
     "output_type": "stream",
     "name": "stdout",
     "text": [
      "Fitting 5 folds for each of 9 candidates, totalling 45 fits\n",
      "[Parallel(n_jobs=-1)]: Using backend LokyBackend with 8 concurrent workers.\n",
      "[Parallel(n_jobs=-1)]: Done  30 out of  45 | elapsed:    0.5s remaining:    0.2s\n",
      "-----------------------------------------\n",
      "los mejores parametros y el mejor score son:\n",
      "{'knn__n_neighbors': 7} 0.8859867109023905\n",
      "[Parallel(n_jobs=-1)]: Done  45 out of  45 | elapsed:    0.8s finished\n"
     ]
    }
   ],
   "source": [
    "#Now, let's tune the number of neighbors  k  for k-NN:\n",
    "from sklearn.pipeline import Pipeline\n",
    "\n",
    "knn_pipeline = Pipeline([(\"scaler\",StandardScaler()),(\"knn\",KNeighborsClassifier(n_jobs=-1))])\n",
    "knn_params = {\"knn__n_neighbors\": range(1, 10)}\n",
    "\n",
    "knn_grid = GridSearchCV(knn_pipeline,knn_params,cv=5,n_jobs=-1,verbose=True)\n",
    "\n",
    "knn_grid.fit(X_train,y_train)\n",
    "print(\"-----------------------------------------\")\n",
    "print(\"los mejores parametros y el mejor score son:\")\n",
    "print(knn_grid.best_params_,knn_grid.best_score_)"
   ]
  },
  {
   "cell_type": "code",
   "execution_count": 21,
   "metadata": {},
   "outputs": [
    {
     "output_type": "execute_result",
     "data": {
      "text/plain": [
       "0.89"
      ]
     },
     "metadata": {},
     "execution_count": 21
    }
   ],
   "source": [
    "accuracy_score(y_holdout,knn_grid.predict(X_holdout))"
   ]
  },
  {
   "source": [
    "Here, the tree proved to be better than the nearest neighbors algorithm: 94.2%/94.6% accuracy for cross-validation and hold-out respectively. Decision trees perform very well, and even random forest (let's think of it for now as a bunch of trees that work better together) in this example cannot achieve much better performance (95.1%/95.3%) despite being trained for much longer."
   ],
   "cell_type": "markdown",
   "metadata": {}
  },
  {
   "cell_type": "code",
   "execution_count": 22,
   "metadata": {},
   "outputs": [
    {
     "output_type": "stream",
     "name": "stdout",
     "text": [
      "0.9494233119813256\n"
     ]
    }
   ],
   "source": [
    "from sklearn.ensemble import RandomForestClassifier\n",
    "\n",
    "forest = RandomForestClassifier(n_estimators=100,n_jobs=-1,random_state=17)\n",
    "print(np.mean(cross_val_score(forest,X_train,y_train,cv=5)))"
   ]
  },
  {
   "cell_type": "code",
   "execution_count": 23,
   "metadata": {},
   "outputs": [
    {
     "output_type": "stream",
     "name": "stdout",
     "text": [
      "Fitting 5 folds for each of 90 candidates, totalling 450 fits\n",
      "[Parallel(n_jobs=-1)]: Using backend LokyBackend with 8 concurrent workers.\n",
      "[Parallel(n_jobs=-1)]: Done  34 tasks      | elapsed:    7.7s\n",
      "[Parallel(n_jobs=-1)]: Done 184 tasks      | elapsed:   29.8s\n",
      "[Parallel(n_jobs=-1)]: Done 434 tasks      | elapsed:  1.4min\n",
      "[Parallel(n_jobs=-1)]: Done 450 out of 450 | elapsed:  1.4min finished\n",
      "-------------------------\n",
      "{'max_depth': 9, 'max_features': 6} 0.9511372931045574\n"
     ]
    }
   ],
   "source": [
    "forest_params = {\"max_depth\":range(6,12),\"max_features\":range(4,19)}\n",
    "forest_grid = GridSearchCV(forest,forest_params,cv=5,n_jobs=-1,verbose=True)\n",
    "\n",
    "forest_grid.fit(X_train,y_train)\n",
    "print(\"-------------------------\")\n",
    "print(forest_grid.best_params_,forest_grid.best_score_)"
   ]
  },
  {
   "cell_type": "code",
   "execution_count": 24,
   "metadata": {},
   "outputs": [
    {
     "output_type": "execute_result",
     "data": {
      "text/plain": [
       "0.953"
      ]
     },
     "metadata": {},
     "execution_count": 24
    }
   ],
   "source": [
    "accuracy_score(y_holdout,forest_grid.predict(X_holdout))"
   ]
  },
  {
   "cell_type": "code",
   "execution_count": null,
   "metadata": {},
   "outputs": [],
   "source": []
  }
 ]
}