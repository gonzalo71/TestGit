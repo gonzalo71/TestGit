{
 "metadata": {
  "language_info": {
   "codemirror_mode": {
    "name": "ipython",
    "version": 3
   },
   "file_extension": ".py",
   "mimetype": "text/x-python",
   "name": "python",
   "nbconvert_exporter": "python",
   "pygments_lexer": "ipython3",
   "version": "3.7.4-final"
  },
  "orig_nbformat": 2,
  "kernelspec": {
   "name": "Python 3.7.4 64-bit ('base': conda)",
   "display_name": "Python 3.7.4 64-bit ('base': conda)",
   "metadata": {
    "interpreter": {
     "hash": "a7cb9cceea441171a2e966a1c3f976240aa3d419c12ddfd24f2e5663e6d67b20"
    }
   }
  }
 },
 "nbformat": 4,
 "nbformat_minor": 2,
 "cells": [
  {
   "cell_type": "code",
   "execution_count": 2,
   "metadata": {},
   "outputs": [],
   "source": [
    "import pandas as pd\n",
    "import numpy as np\n",
    "import matplotlib.pyplot as plt\n",
    "%matplotlib inline"
   ]
  },
  {
   "source": [
    "### Validacion modelo\n",
    "Muchos modelos lo hacen muy bien con los datos que ha usado, pero despues falla con nuevos datos (overfiting); para evitar eso dividimos el set entre entrenamiento y validadcion (training y test).\n",
    "Hay otros metodos como el cross validation que veremos mas tarde"
   ],
   "cell_type": "markdown",
   "metadata": {}
  },
  {
   "cell_type": "code",
   "execution_count": 3,
   "metadata": {},
   "outputs": [
    {
     "output_type": "execute_result",
     "data": {
      "text/plain": "      TV  Radio  Newspaper  Sales\n0  230.1   37.8       69.2   22.1\n1   44.5   39.3       45.1   10.4\n2   17.2   45.9       69.3    9.3",
      "text/html": "<div>\n<style scoped>\n    .dataframe tbody tr th:only-of-type {\n        vertical-align: middle;\n    }\n\n    .dataframe tbody tr th {\n        vertical-align: top;\n    }\n\n    .dataframe thead th {\n        text-align: right;\n    }\n</style>\n<table border=\"1\" class=\"dataframe\">\n  <thead>\n    <tr style=\"text-align: right;\">\n      <th></th>\n      <th>TV</th>\n      <th>Radio</th>\n      <th>Newspaper</th>\n      <th>Sales</th>\n    </tr>\n  </thead>\n  <tbody>\n    <tr>\n      <td>0</td>\n      <td>230.1</td>\n      <td>37.8</td>\n      <td>69.2</td>\n      <td>22.1</td>\n    </tr>\n    <tr>\n      <td>1</td>\n      <td>44.5</td>\n      <td>39.3</td>\n      <td>45.1</td>\n      <td>10.4</td>\n    </tr>\n    <tr>\n      <td>2</td>\n      <td>17.2</td>\n      <td>45.9</td>\n      <td>69.3</td>\n      <td>9.3</td>\n    </tr>\n  </tbody>\n</table>\n</div>"
     },
     "metadata": {},
     "execution_count": 3
    }
   ],
   "source": [
    "url2 = \"https://raw.githubusercontent.com/joanby/python-ml-course/master/datasets/ads/Advertising.csv\"\n",
    "data_ads = pd.read_csv(url2)\n",
    "data_ads.head(3)"
   ]
  },
  {
   "cell_type": "code",
   "execution_count": 7,
   "metadata": {},
   "outputs": [],
   "source": [
    "a = np.random.randn(len(data_ads))"
   ]
  },
  {
   "cell_type": "code",
   "execution_count": 8,
   "metadata": {},
   "outputs": [
    {
     "output_type": "execute_result",
     "data": {
      "text/plain": "(array([ 1.,  5., 10., 24., 36., 43., 43., 24.,  7.,  7.]),\n array([-3.29645844, -2.7079326 , -2.11940677, -1.53088094, -0.9423551 ,\n        -0.35382927,  0.23469657,  0.8232224 ,  1.41174823,  2.00027407,\n         2.5887999 ]),\n <a list of 10 Patch objects>)"
     },
     "metadata": {},
     "execution_count": 8
    },
    {
     "output_type": "display_data",
     "data": {
      "text/plain": "<Figure size 432x288 with 1 Axes>",
      "image/svg+xml": "<?xml version=\"1.0\" encoding=\"utf-8\" standalone=\"no\"?>\r\n<!DOCTYPE svg PUBLIC \"-//W3C//DTD SVG 1.1//EN\"\r\n  \"http://www.w3.org/Graphics/SVG/1.1/DTD/svg11.dtd\">\r\n<!-- Created with matplotlib (https://matplotlib.org/) -->\r\n<svg height=\"248.518125pt\" version=\"1.1\" viewBox=\"0 0 368.925 248.518125\" width=\"368.925pt\" xmlns=\"http://www.w3.org/2000/svg\" xmlns:xlink=\"http://www.w3.org/1999/xlink\">\r\n <defs>\r\n  <style type=\"text/css\">\r\n*{stroke-linecap:butt;stroke-linejoin:round;}\r\n  </style>\r\n </defs>\r\n <g id=\"figure_1\">\r\n  <g id=\"patch_1\">\r\n   <path d=\"M -0 248.518125 \r\nL 368.925 248.518125 \r\nL 368.925 0 \r\nL -0 0 \r\nz\r\n\" style=\"fill:none;\"/>\r\n  </g>\r\n  <g id=\"axes_1\">\r\n   <g id=\"patch_2\">\r\n    <path d=\"M 26.925 224.64 \r\nL 361.725 224.64 \r\nL 361.725 7.2 \r\nL 26.925 7.2 \r\nz\r\n\" style=\"fill:#ffffff;\"/>\r\n   </g>\r\n   <g id=\"patch_3\">\r\n    <path clip-path=\"url(#pb589515463)\" d=\"M 42.143182 224.64 \r\nL 72.579545 224.64 \r\nL 72.579545 219.824053 \r\nL 42.143182 219.824053 \r\nz\r\n\" style=\"fill:#1f77b4;\"/>\r\n   </g>\r\n   <g id=\"patch_4\">\r\n    <path clip-path=\"url(#pb589515463)\" d=\"M 72.579545 224.64 \r\nL 103.015909 224.64 \r\nL 103.015909 200.560266 \r\nL 72.579545 200.560266 \r\nz\r\n\" style=\"fill:#1f77b4;\"/>\r\n   </g>\r\n   <g id=\"patch_5\">\r\n    <path clip-path=\"url(#pb589515463)\" d=\"M 103.015909 224.64 \r\nL 133.452273 224.64 \r\nL 133.452273 176.480532 \r\nL 103.015909 176.480532 \r\nz\r\n\" style=\"fill:#1f77b4;\"/>\r\n   </g>\r\n   <g id=\"patch_6\">\r\n    <path clip-path=\"url(#pb589515463)\" d=\"M 133.452273 224.64 \r\nL 163.888636 224.64 \r\nL 163.888636 109.057276 \r\nL 133.452273 109.057276 \r\nz\r\n\" style=\"fill:#1f77b4;\"/>\r\n   </g>\r\n   <g id=\"patch_7\">\r\n    <path clip-path=\"url(#pb589515463)\" d=\"M 163.888636 224.64 \r\nL 194.325 224.64 \r\nL 194.325 51.265914 \r\nL 163.888636 51.265914 \r\nz\r\n\" style=\"fill:#1f77b4;\"/>\r\n   </g>\r\n   <g id=\"patch_8\">\r\n    <path clip-path=\"url(#pb589515463)\" d=\"M 194.325 224.64 \r\nL 224.761364 224.64 \r\nL 224.761364 17.554286 \r\nL 194.325 17.554286 \r\nz\r\n\" style=\"fill:#1f77b4;\"/>\r\n   </g>\r\n   <g id=\"patch_9\">\r\n    <path clip-path=\"url(#pb589515463)\" d=\"M 224.761364 224.64 \r\nL 255.197727 224.64 \r\nL 255.197727 17.554286 \r\nL 224.761364 17.554286 \r\nz\r\n\" style=\"fill:#1f77b4;\"/>\r\n   </g>\r\n   <g id=\"patch_10\">\r\n    <path clip-path=\"url(#pb589515463)\" d=\"M 255.197727 224.64 \r\nL 285.634091 224.64 \r\nL 285.634091 109.057276 \r\nL 255.197727 109.057276 \r\nz\r\n\" style=\"fill:#1f77b4;\"/>\r\n   </g>\r\n   <g id=\"patch_11\">\r\n    <path clip-path=\"url(#pb589515463)\" d=\"M 285.634091 224.64 \r\nL 316.070455 224.64 \r\nL 316.070455 190.928372 \r\nL 285.634091 190.928372 \r\nz\r\n\" style=\"fill:#1f77b4;\"/>\r\n   </g>\r\n   <g id=\"patch_12\">\r\n    <path clip-path=\"url(#pb589515463)\" d=\"M 316.070455 224.64 \r\nL 346.506818 224.64 \r\nL 346.506818 190.928372 \r\nL 316.070455 190.928372 \r\nz\r\n\" style=\"fill:#1f77b4;\"/>\r\n   </g>\r\n   <g id=\"matplotlib.axis_1\">\r\n    <g id=\"xtick_1\">\r\n     <g id=\"line2d_1\">\r\n      <defs>\r\n       <path d=\"M 0 0 \r\nL 0 3.5 \r\n\" id=\"m080a324239\" style=\"stroke:#000000;stroke-width:0.8;\"/>\r\n      </defs>\r\n      <g>\r\n       <use style=\"stroke:#000000;stroke-width:0.8;\" x=\"57.474908\" xlink:href=\"#m080a324239\" y=\"224.64\"/>\r\n      </g>\r\n     </g>\r\n     <g id=\"text_1\">\r\n      <!-- −3 -->\r\n      <defs>\r\n       <path d=\"M 10.59375 35.5 \r\nL 73.1875 35.5 \r\nL 73.1875 27.203125 \r\nL 10.59375 27.203125 \r\nz\r\n\" id=\"DejaVuSans-8722\"/>\r\n       <path d=\"M 40.578125 39.3125 \r\nQ 47.65625 37.796875 51.625 33 \r\nQ 55.609375 28.21875 55.609375 21.1875 \r\nQ 55.609375 10.40625 48.1875 4.484375 \r\nQ 40.765625 -1.421875 27.09375 -1.421875 \r\nQ 22.515625 -1.421875 17.65625 -0.515625 \r\nQ 12.796875 0.390625 7.625 2.203125 \r\nL 7.625 11.71875 \r\nQ 11.71875 9.328125 16.59375 8.109375 \r\nQ 21.484375 6.890625 26.8125 6.890625 \r\nQ 36.078125 6.890625 40.9375 10.546875 \r\nQ 45.796875 14.203125 45.796875 21.1875 \r\nQ 45.796875 27.640625 41.28125 31.265625 \r\nQ 36.765625 34.90625 28.71875 34.90625 \r\nL 20.21875 34.90625 \r\nL 20.21875 43.015625 \r\nL 29.109375 43.015625 \r\nQ 36.375 43.015625 40.234375 45.921875 \r\nQ 44.09375 48.828125 44.09375 54.296875 \r\nQ 44.09375 59.90625 40.109375 62.90625 \r\nQ 36.140625 65.921875 28.71875 65.921875 \r\nQ 24.65625 65.921875 20.015625 65.03125 \r\nQ 15.375 64.15625 9.8125 62.3125 \r\nL 9.8125 71.09375 \r\nQ 15.4375 72.65625 20.34375 73.4375 \r\nQ 25.25 74.21875 29.59375 74.21875 \r\nQ 40.828125 74.21875 47.359375 69.109375 \r\nQ 53.90625 64.015625 53.90625 55.328125 \r\nQ 53.90625 49.265625 50.4375 45.09375 \r\nQ 46.96875 40.921875 40.578125 39.3125 \r\nz\r\n\" id=\"DejaVuSans-51\"/>\r\n      </defs>\r\n      <g transform=\"translate(50.103814 239.238437)scale(0.1 -0.1)\">\r\n       <use xlink:href=\"#DejaVuSans-8722\"/>\r\n       <use x=\"83.789062\" xlink:href=\"#DejaVuSans-51\"/>\r\n      </g>\r\n     </g>\r\n    </g>\r\n    <g id=\"xtick_2\">\r\n     <g id=\"line2d_2\">\r\n      <g>\r\n       <use style=\"stroke:#000000;stroke-width:0.8;\" x=\"109.191182\" xlink:href=\"#m080a324239\" y=\"224.64\"/>\r\n      </g>\r\n     </g>\r\n     <g id=\"text_2\">\r\n      <!-- −2 -->\r\n      <defs>\r\n       <path d=\"M 19.1875 8.296875 \r\nL 53.609375 8.296875 \r\nL 53.609375 0 \r\nL 7.328125 0 \r\nL 7.328125 8.296875 \r\nQ 12.9375 14.109375 22.625 23.890625 \r\nQ 32.328125 33.6875 34.8125 36.53125 \r\nQ 39.546875 41.84375 41.421875 45.53125 \r\nQ 43.3125 49.21875 43.3125 52.78125 \r\nQ 43.3125 58.59375 39.234375 62.25 \r\nQ 35.15625 65.921875 28.609375 65.921875 \r\nQ 23.96875 65.921875 18.8125 64.3125 \r\nQ 13.671875 62.703125 7.8125 59.421875 \r\nL 7.8125 69.390625 \r\nQ 13.765625 71.78125 18.9375 73 \r\nQ 24.125 74.21875 28.421875 74.21875 \r\nQ 39.75 74.21875 46.484375 68.546875 \r\nQ 53.21875 62.890625 53.21875 53.421875 \r\nQ 53.21875 48.921875 51.53125 44.890625 \r\nQ 49.859375 40.875 45.40625 35.40625 \r\nQ 44.1875 33.984375 37.640625 27.21875 \r\nQ 31.109375 20.453125 19.1875 8.296875 \r\nz\r\n\" id=\"DejaVuSans-50\"/>\r\n      </defs>\r\n      <g transform=\"translate(101.820089 239.238437)scale(0.1 -0.1)\">\r\n       <use xlink:href=\"#DejaVuSans-8722\"/>\r\n       <use x=\"83.789062\" xlink:href=\"#DejaVuSans-50\"/>\r\n      </g>\r\n     </g>\r\n    </g>\r\n    <g id=\"xtick_3\">\r\n     <g id=\"line2d_3\">\r\n      <g>\r\n       <use style=\"stroke:#000000;stroke-width:0.8;\" x=\"160.907457\" xlink:href=\"#m080a324239\" y=\"224.64\"/>\r\n      </g>\r\n     </g>\r\n     <g id=\"text_3\">\r\n      <!-- −1 -->\r\n      <defs>\r\n       <path d=\"M 12.40625 8.296875 \r\nL 28.515625 8.296875 \r\nL 28.515625 63.921875 \r\nL 10.984375 60.40625 \r\nL 10.984375 69.390625 \r\nL 28.421875 72.90625 \r\nL 38.28125 72.90625 \r\nL 38.28125 8.296875 \r\nL 54.390625 8.296875 \r\nL 54.390625 0 \r\nL 12.40625 0 \r\nz\r\n\" id=\"DejaVuSans-49\"/>\r\n      </defs>\r\n      <g transform=\"translate(153.536363 239.238437)scale(0.1 -0.1)\">\r\n       <use xlink:href=\"#DejaVuSans-8722\"/>\r\n       <use x=\"83.789062\" xlink:href=\"#DejaVuSans-49\"/>\r\n      </g>\r\n     </g>\r\n    </g>\r\n    <g id=\"xtick_4\">\r\n     <g id=\"line2d_4\">\r\n      <g>\r\n       <use style=\"stroke:#000000;stroke-width:0.8;\" x=\"212.623732\" xlink:href=\"#m080a324239\" y=\"224.64\"/>\r\n      </g>\r\n     </g>\r\n     <g id=\"text_4\">\r\n      <!-- 0 -->\r\n      <defs>\r\n       <path d=\"M 31.78125 66.40625 \r\nQ 24.171875 66.40625 20.328125 58.90625 \r\nQ 16.5 51.421875 16.5 36.375 \r\nQ 16.5 21.390625 20.328125 13.890625 \r\nQ 24.171875 6.390625 31.78125 6.390625 \r\nQ 39.453125 6.390625 43.28125 13.890625 \r\nQ 47.125 21.390625 47.125 36.375 \r\nQ 47.125 51.421875 43.28125 58.90625 \r\nQ 39.453125 66.40625 31.78125 66.40625 \r\nz\r\nM 31.78125 74.21875 \r\nQ 44.046875 74.21875 50.515625 64.515625 \r\nQ 56.984375 54.828125 56.984375 36.375 \r\nQ 56.984375 17.96875 50.515625 8.265625 \r\nQ 44.046875 -1.421875 31.78125 -1.421875 \r\nQ 19.53125 -1.421875 13.0625 8.265625 \r\nQ 6.59375 17.96875 6.59375 36.375 \r\nQ 6.59375 54.828125 13.0625 64.515625 \r\nQ 19.53125 74.21875 31.78125 74.21875 \r\nz\r\n\" id=\"DejaVuSans-48\"/>\r\n      </defs>\r\n      <g transform=\"translate(209.442482 239.238437)scale(0.1 -0.1)\">\r\n       <use xlink:href=\"#DejaVuSans-48\"/>\r\n      </g>\r\n     </g>\r\n    </g>\r\n    <g id=\"xtick_5\">\r\n     <g id=\"line2d_5\">\r\n      <g>\r\n       <use style=\"stroke:#000000;stroke-width:0.8;\" x=\"264.340006\" xlink:href=\"#m080a324239\" y=\"224.64\"/>\r\n      </g>\r\n     </g>\r\n     <g id=\"text_5\">\r\n      <!-- 1 -->\r\n      <g transform=\"translate(261.158756 239.238437)scale(0.1 -0.1)\">\r\n       <use xlink:href=\"#DejaVuSans-49\"/>\r\n      </g>\r\n     </g>\r\n    </g>\r\n    <g id=\"xtick_6\">\r\n     <g id=\"line2d_6\">\r\n      <g>\r\n       <use style=\"stroke:#000000;stroke-width:0.8;\" x=\"316.056281\" xlink:href=\"#m080a324239\" y=\"224.64\"/>\r\n      </g>\r\n     </g>\r\n     <g id=\"text_6\">\r\n      <!-- 2 -->\r\n      <g transform=\"translate(312.875031 239.238437)scale(0.1 -0.1)\">\r\n       <use xlink:href=\"#DejaVuSans-50\"/>\r\n      </g>\r\n     </g>\r\n    </g>\r\n   </g>\r\n   <g id=\"matplotlib.axis_2\">\r\n    <g id=\"ytick_1\">\r\n     <g id=\"line2d_7\">\r\n      <defs>\r\n       <path d=\"M 0 0 \r\nL -3.5 0 \r\n\" id=\"m83a061d28c\" style=\"stroke:#000000;stroke-width:0.8;\"/>\r\n      </defs>\r\n      <g>\r\n       <use style=\"stroke:#000000;stroke-width:0.8;\" x=\"26.925\" xlink:href=\"#m83a061d28c\" y=\"224.64\"/>\r\n      </g>\r\n     </g>\r\n     <g id=\"text_7\">\r\n      <!-- 0 -->\r\n      <g transform=\"translate(13.5625 228.439219)scale(0.1 -0.1)\">\r\n       <use xlink:href=\"#DejaVuSans-48\"/>\r\n      </g>\r\n     </g>\r\n    </g>\r\n    <g id=\"ytick_2\">\r\n     <g id=\"line2d_8\">\r\n      <g>\r\n       <use style=\"stroke:#000000;stroke-width:0.8;\" x=\"26.925\" xlink:href=\"#m83a061d28c\" y=\"176.480532\"/>\r\n      </g>\r\n     </g>\r\n     <g id=\"text_8\">\r\n      <!-- 10 -->\r\n      <g transform=\"translate(7.2 180.27975)scale(0.1 -0.1)\">\r\n       <use xlink:href=\"#DejaVuSans-49\"/>\r\n       <use x=\"63.623047\" xlink:href=\"#DejaVuSans-48\"/>\r\n      </g>\r\n     </g>\r\n    </g>\r\n    <g id=\"ytick_3\">\r\n     <g id=\"line2d_9\">\r\n      <g>\r\n       <use style=\"stroke:#000000;stroke-width:0.8;\" x=\"26.925\" xlink:href=\"#m83a061d28c\" y=\"128.321063\"/>\r\n      </g>\r\n     </g>\r\n     <g id=\"text_9\">\r\n      <!-- 20 -->\r\n      <g transform=\"translate(7.2 132.120282)scale(0.1 -0.1)\">\r\n       <use xlink:href=\"#DejaVuSans-50\"/>\r\n       <use x=\"63.623047\" xlink:href=\"#DejaVuSans-48\"/>\r\n      </g>\r\n     </g>\r\n    </g>\r\n    <g id=\"ytick_4\">\r\n     <g id=\"line2d_10\">\r\n      <g>\r\n       <use style=\"stroke:#000000;stroke-width:0.8;\" x=\"26.925\" xlink:href=\"#m83a061d28c\" y=\"80.161595\"/>\r\n      </g>\r\n     </g>\r\n     <g id=\"text_10\">\r\n      <!-- 30 -->\r\n      <g transform=\"translate(7.2 83.960813)scale(0.1 -0.1)\">\r\n       <use xlink:href=\"#DejaVuSans-51\"/>\r\n       <use x=\"63.623047\" xlink:href=\"#DejaVuSans-48\"/>\r\n      </g>\r\n     </g>\r\n    </g>\r\n    <g id=\"ytick_5\">\r\n     <g id=\"line2d_11\">\r\n      <g>\r\n       <use style=\"stroke:#000000;stroke-width:0.8;\" x=\"26.925\" xlink:href=\"#m83a061d28c\" y=\"32.002126\"/>\r\n      </g>\r\n     </g>\r\n     <g id=\"text_11\">\r\n      <!-- 40 -->\r\n      <defs>\r\n       <path d=\"M 37.796875 64.3125 \r\nL 12.890625 25.390625 \r\nL 37.796875 25.390625 \r\nz\r\nM 35.203125 72.90625 \r\nL 47.609375 72.90625 \r\nL 47.609375 25.390625 \r\nL 58.015625 25.390625 \r\nL 58.015625 17.1875 \r\nL 47.609375 17.1875 \r\nL 47.609375 0 \r\nL 37.796875 0 \r\nL 37.796875 17.1875 \r\nL 4.890625 17.1875 \r\nL 4.890625 26.703125 \r\nz\r\n\" id=\"DejaVuSans-52\"/>\r\n      </defs>\r\n      <g transform=\"translate(7.2 35.801345)scale(0.1 -0.1)\">\r\n       <use xlink:href=\"#DejaVuSans-52\"/>\r\n       <use x=\"63.623047\" xlink:href=\"#DejaVuSans-48\"/>\r\n      </g>\r\n     </g>\r\n    </g>\r\n   </g>\r\n   <g id=\"patch_13\">\r\n    <path d=\"M 26.925 224.64 \r\nL 26.925 7.2 \r\n\" style=\"fill:none;stroke:#000000;stroke-linecap:square;stroke-linejoin:miter;stroke-width:0.8;\"/>\r\n   </g>\r\n   <g id=\"patch_14\">\r\n    <path d=\"M 361.725 224.64 \r\nL 361.725 7.2 \r\n\" style=\"fill:none;stroke:#000000;stroke-linecap:square;stroke-linejoin:miter;stroke-width:0.8;\"/>\r\n   </g>\r\n   <g id=\"patch_15\">\r\n    <path d=\"M 26.925 224.64 \r\nL 361.725 224.64 \r\n\" style=\"fill:none;stroke:#000000;stroke-linecap:square;stroke-linejoin:miter;stroke-width:0.8;\"/>\r\n   </g>\r\n   <g id=\"patch_16\">\r\n    <path d=\"M 26.925 7.2 \r\nL 361.725 7.2 \r\n\" style=\"fill:none;stroke:#000000;stroke-linecap:square;stroke-linejoin:miter;stroke-width:0.8;\"/>\r\n   </g>\r\n  </g>\r\n </g>\r\n <defs>\r\n  <clipPath id=\"pb589515463\">\r\n   <rect height=\"217.44\" width=\"334.8\" x=\"26.925\" y=\"7.2\"/>\r\n  </clipPath>\r\n </defs>\r\n</svg>\r\n",
      "image/png": "[encoded data removed]"
     },
     "metadata": {
      "needs_background": "light"
     }
    }
   ],
   "source": [
    "plt.hist(a)"
   ]
  },
  {
   "cell_type": "code",
   "execution_count": 9,
   "metadata": {},
   "outputs": [],
   "source": [
    " check = (a<0.8)\n",
    " training = data_ads[check]\n",
    " test = data_ads[~check] "
   ]
  },
  {
   "cell_type": "code",
   "execution_count": 10,
   "metadata": {
    "tags": []
   },
   "outputs": [
    {
     "output_type": "stream",
     "name": "stdout",
     "text": "160 40\n"
    }
   ],
   "source": [
    "print(len(training),len(test))"
   ]
  },
  {
   "cell_type": "code",
   "execution_count": 11,
   "metadata": {},
   "outputs": [],
   "source": [
    "import statsmodels.formula.api as smf\n",
    "lm = smf.ols(formula=\"Sales~TV+Radio\", data=training).fit()"
   ]
  },
  {
   "cell_type": "code",
   "execution_count": 12,
   "metadata": {},
   "outputs": [
    {
     "output_type": "execute_result",
     "data": {
      "text/plain": "<class 'statsmodels.iolib.summary.Summary'>\n\"\"\"\n                            OLS Regression Results                            \n==============================================================================\nDep. Variable:                  Sales   R-squared:                       0.891\nModel:                            OLS   Adj. R-squared:                  0.890\nMethod:                 Least Squares   F-statistic:                     642.8\nDate:                Mon, 28 Sep 2020   Prob (F-statistic):           2.44e-76\nTime:                        18:07:09   Log-Likelihood:                -312.72\nNo. Observations:                 160   AIC:                             631.4\nDf Residuals:                     157   BIC:                             640.7\nDf Model:                           2                                         \nCovariance Type:            nonrobust                                         \n==============================================================================\n                 coef    std err          t      P>|t|      [0.025      0.975]\n------------------------------------------------------------------------------\nIntercept      2.7986      0.346      8.081      0.000       2.115       3.483\nTV             0.0457      0.002     28.744      0.000       0.043       0.049\nRadio          0.1896      0.009     20.241      0.000       0.171       0.208\n==============================================================================\nOmnibus:                       54.939   Durbin-Watson:                   2.016\nProb(Omnibus):                  0.000   Jarque-Bera (JB):              140.579\nSkew:                          -1.433   Prob(JB):                     2.98e-31\nKurtosis:                       6.589   Cond. No.                         450.\n==============================================================================\n\nWarnings:\n[1] Standard Errors assume that the covariance matrix of the errors is correctly specified.\n\"\"\"",
      "text/html": "<table class=\"simpletable\">\n<caption>OLS Regression Results</caption>\n<tr>\n  <th>Dep. Variable:</th>          <td>Sales</td>      <th>  R-squared:         </th> <td>   0.891</td>\n</tr>\n<tr>\n  <th>Model:</th>                   <td>OLS</td>       <th>  Adj. R-squared:    </th> <td>   0.890</td>\n</tr>\n<tr>\n  <th>Method:</th>             <td>Least Squares</td>  <th>  F-statistic:       </th> <td>   642.8</td>\n</tr>\n<tr>\n  <th>Date:</th>             <td>Mon, 28 Sep 2020</td> <th>  Prob (F-statistic):</th> <td>2.44e-76</td>\n</tr>\n<tr>\n  <th>Time:</th>                 <td>18:07:09</td>     <th>  Log-Likelihood:    </th> <td> -312.72</td>\n</tr>\n<tr>\n  <th>No. Observations:</th>      <td>   160</td>      <th>  AIC:               </th> <td>   631.4</td>\n</tr>\n<tr>\n  <th>Df Residuals:</th>          <td>   157</td>      <th>  BIC:               </th> <td>   640.7</td>\n</tr>\n<tr>\n  <th>Df Model:</th>              <td>     2</td>      <th>                     </th>     <td> </td>   \n</tr>\n<tr>\n  <th>Covariance Type:</th>      <td>nonrobust</td>    <th>                     </th>     <td> </td>   \n</tr>\n</table>\n<table class=\"simpletable\">\n<tr>\n      <td></td>         <th>coef</th>     <th>std err</th>      <th>t</th>      <th>P>|t|</th>  <th>[0.025</th>    <th>0.975]</th>  \n</tr>\n<tr>\n  <th>Intercept</th> <td>    2.7986</td> <td>    0.346</td> <td>    8.081</td> <td> 0.000</td> <td>    2.115</td> <td>    3.483</td>\n</tr>\n<tr>\n  <th>TV</th>        <td>    0.0457</td> <td>    0.002</td> <td>   28.744</td> <td> 0.000</td> <td>    0.043</td> <td>    0.049</td>\n</tr>\n<tr>\n  <th>Radio</th>     <td>    0.1896</td> <td>    0.009</td> <td>   20.241</td> <td> 0.000</td> <td>    0.171</td> <td>    0.208</td>\n</tr>\n</table>\n<table class=\"simpletable\">\n<tr>\n  <th>Omnibus:</th>       <td>54.939</td> <th>  Durbin-Watson:     </th> <td>   2.016</td>\n</tr>\n<tr>\n  <th>Prob(Omnibus):</th> <td> 0.000</td> <th>  Jarque-Bera (JB):  </th> <td> 140.579</td>\n</tr>\n<tr>\n  <th>Skew:</th>          <td>-1.433</td> <th>  Prob(JB):          </th> <td>2.98e-31</td>\n</tr>\n<tr>\n  <th>Kurtosis:</th>      <td> 6.589</td> <th>  Cond. No.          </th> <td>    450.</td>\n</tr>\n</table><br/><br/>Warnings:<br/>[1] Standard Errors assume that the covariance matrix of the errors is correctly specified."
     },
     "metadata": {},
     "execution_count": 12
    }
   ],
   "source": [
    "lm.summary()"
   ]
  },
  {
   "source": [
    "vemos que todos los parametros (R2,pvalue, prob(f-satitics), etc) son muy buenos\n",
    "\n",
    "### validacion del modelo con el conjunto de testing"
   ],
   "cell_type": "markdown",
   "metadata": {}
  },
  {
   "cell_type": "code",
   "execution_count": 15,
   "metadata": {
    "tags": []
   },
   "outputs": [
    {
     "output_type": "stream",
     "name": "stdout",
     "text": "91.85536406032206 1.5756196898476902\n"
    }
   ],
   "source": [
    "sales_pred = lm.predict(test)\n",
    "# suma cuadrado de las diferencias\n",
    "SSD = sum((test[\"Sales\"]-sales_pred)**2)\n",
    "# desviacion estandar de los residuos\n",
    "RSE = np.sqrt(SSD/(len(test)-2-1))\n",
    "\n",
    "print(SSD, RSE)"
   ]
  },
  {
   "cell_type": "code",
   "execution_count": 16,
   "metadata": {},
   "outputs": [
    {
     "output_type": "execute_result",
     "data": {
      "text/plain": "0.11686406006658187"
     },
     "metadata": {},
     "execution_count": 16
    }
   ],
   "source": [
    "sales_mean = np.mean(test[\"Sales\"])\n",
    "error = RSE/sales_mean\n",
    "# el porcentaje que no se puede explicar\n",
    "error"
   ]
  },
  {
   "source": [
    "### Datos a tener en cuenta en la regresion\n",
    "* R^2\n",
    "* R^2 ajustado\n",
    "* estadistico f (fisher) un incremento del estadistico, cuando añadimos nueva variable, es positivo\n",
    "* p_valor (cuando menor sea mejor)\n",
    "* RSE (la desviacion estandar de los residuos): deberia bajar cuando añadimos mas variables\n",
    "* error (porcentaje que no se puede explicar): igual que antes ,deberia bajar a medida que añadimos variables"
   ],
   "cell_type": "markdown",
   "metadata": {}
  },
  {
   "source": [
    "### Regresion linear con sklearn\n",
    "vamos a ver con sklearn lo mismo que antes ,y como el programa de forma automatica elige las variables adecuadas para la regresion. Solamente tenemos que decirle cuantas variables quieres usar, y el va jugando con ellas para ver cuales son las buenas (recurse feature elminiation y svr)"
   ],
   "cell_type": "markdown",
   "metadata": {}
  },
  {
   "cell_type": "code",
   "execution_count": 17,
   "metadata": {},
   "outputs": [],
   "source": [
    "from sklearn.feature_selection import RFE\n",
    "from sklearn.svm import SVR"
   ]
  },
  {
   "cell_type": "code",
   "execution_count": 18,
   "metadata": {},
   "outputs": [],
   "source": [
    "data = data_ads.copy()\n",
    "feature_cols = [\"TV\",\"Radio\",\"Newspaper\"]\n",
    "X = data[feature_cols]\n",
    "Y = data[\"Sales\"]"
   ]
  },
  {
   "cell_type": "code",
   "execution_count": 19,
   "metadata": {},
   "outputs": [],
   "source": [
    "# indicamos que queremos un modelo lineal, el numero de variables (2) y en un solo paso (step=1)\n",
    "estimator = SVR(kernel=\"linear\")\n",
    "selector = RFE(estimator,2,step=1)\n",
    "selector = selector.fit(X,Y)\n"
   ]
  },
  {
   "cell_type": "code",
   "execution_count": 20,
   "metadata": {},
   "outputs": [
    {
     "output_type": "execute_result",
     "data": {
      "text/plain": "array([ True,  True, False])"
     },
     "metadata": {},
     "execution_count": 20
    }
   ],
   "source": [
    "# aqui vemos cuaales se han usado (no se usa newspaper)\n",
    "selector.support_"
   ]
  },
  {
   "cell_type": "code",
   "execution_count": 21,
   "metadata": {},
   "outputs": [
    {
     "output_type": "execute_result",
     "data": {
      "text/plain": "LinearRegression(copy_X=True, fit_intercept=True, n_jobs=None, normalize=False)"
     },
     "metadata": {},
     "execution_count": 21
    }
   ],
   "source": [
    "from sklearn.linear_model import LinearRegression\n",
    "X_pred = X[[\"TV\",\"Radio\"]]\n",
    "lm = LinearRegression()\n",
    "lm.fit(X_pred,Y)"
   ]
  },
  {
   "cell_type": "code",
   "execution_count": 23,
   "metadata": {},
   "outputs": [
    {
     "output_type": "display_data",
     "data": {
      "text/plain": "2.921099912405138"
     },
     "metadata": {}
    },
    {
     "output_type": "display_data",
     "data": {
      "text/plain": "array([0.04575482, 0.18799423])"
     },
     "metadata": {}
    }
   ],
   "source": [
    "display(lm.intercept_, lm.coef_) # vemos los coeficientes ( ordenada origen y coeficiengte)"
   ]
  },
  {
   "cell_type": "code",
   "execution_count": 24,
   "metadata": {},
   "outputs": [
    {
     "output_type": "execute_result",
     "data": {
      "text/plain": "0.8971942610828956"
     },
     "metadata": {},
     "execution_count": 24
    }
   ],
   "source": [
    "# valor de R^2\n",
    "lm.score(X_pred,Y)"
   ]
  },
  {
   "source": [
    "### Variables categoricas   "
   ],
   "cell_type": "markdown",
   "metadata": {}
  },
  {
   "cell_type": "code",
   "execution_count": 27,
   "metadata": {},
   "outputs": [
    {
     "output_type": "execute_result",
     "data": {
      "text/plain": "  Transaction ID  Age    Items   Monthly Income  Transaction Time  Record  \\\n0         TXN001    42       10            7313        627.668127       5   \n1         TXN002    24        8           17747        126.904567       3   \n2         TXN003    47       11           22845        873.469701       2   \n3         TXN004    50       11           18552        380.219428       7   \n4         TXN005    60        2           14439        403.374223       2   \n\n   Gender City Tier  Total Spend  \n0  Female    Tier 1  4198.385084  \n1  Female    Tier 2  4134.976648  \n2    Male    Tier 2  5166.614455  \n3  Female    Tier 1  7784.447676  \n4  Female    Tier 2  3254.160485  ",
      "text/html": "<div>\n<style scoped>\n    .dataframe tbody tr th:only-of-type {\n        vertical-align: middle;\n    }\n\n    .dataframe tbody tr th {\n        vertical-align: top;\n    }\n\n    .dataframe thead th {\n        text-align: right;\n    }\n</style>\n<table border=\"1\" class=\"dataframe\">\n  <thead>\n    <tr style=\"text-align: right;\">\n      <th></th>\n      <th>Transaction ID</th>\n      <th>Age</th>\n      <th>Items</th>\n      <th>Monthly Income</th>\n      <th>Transaction Time</th>\n      <th>Record</th>\n      <th>Gender</th>\n      <th>City Tier</th>\n      <th>Total Spend</th>\n    </tr>\n  </thead>\n  <tbody>\n    <tr>\n      <td>0</td>\n      <td>TXN001</td>\n      <td>42</td>\n      <td>10</td>\n      <td>7313</td>\n      <td>627.668127</td>\n      <td>5</td>\n      <td>Female</td>\n      <td>Tier 1</td>\n      <td>4198.385084</td>\n    </tr>\n    <tr>\n      <td>1</td>\n      <td>TXN002</td>\n      <td>24</td>\n      <td>8</td>\n      <td>17747</td>\n      <td>126.904567</td>\n      <td>3</td>\n      <td>Female</td>\n      <td>Tier 2</td>\n      <td>4134.976648</td>\n    </tr>\n    <tr>\n      <td>2</td>\n      <td>TXN003</td>\n      <td>47</td>\n      <td>11</td>\n      <td>22845</td>\n      <td>873.469701</td>\n      <td>2</td>\n      <td>Male</td>\n      <td>Tier 2</td>\n      <td>5166.614455</td>\n    </tr>\n    <tr>\n      <td>3</td>\n      <td>TXN004</td>\n      <td>50</td>\n      <td>11</td>\n      <td>18552</td>\n      <td>380.219428</td>\n      <td>7</td>\n      <td>Female</td>\n      <td>Tier 1</td>\n      <td>7784.447676</td>\n    </tr>\n    <tr>\n      <td>4</td>\n      <td>TXN005</td>\n      <td>60</td>\n      <td>2</td>\n      <td>14439</td>\n      <td>403.374223</td>\n      <td>2</td>\n      <td>Female</td>\n      <td>Tier 2</td>\n      <td>3254.160485</td>\n    </tr>\n  </tbody>\n</table>\n</div>"
     },
     "metadata": {},
     "execution_count": 27
    }
   ],
   "source": [
    "url4 = \"https://raw.githubusercontent.com/joanby/python-ml-course/master/datasets/ecom-expense/Ecom%20Expense.csv\"\n",
    "df = pd.read_csv(url4)\n",
    "df.head(5)"
   ]
  },
  {
   "cell_type": "code",
   "execution_count": 28,
   "metadata": {},
   "outputs": [],
   "source": [
    "# creamos variables dummy para las categoricas\n",
    "dummy_gender = pd.get_dummies(df[\"Gender\"], prefix=\"Gender\")\n",
    "dummy_city_tier = pd.get_dummies(df[\"City Tier\"], prefix=\"City\")"
   ]
  },
  {
   "cell_type": "code",
   "execution_count": 29,
   "metadata": {},
   "outputs": [
    {
     "output_type": "execute_result",
     "data": {
      "text/plain": "   Gender_Female  Gender_Male\n0              1            0\n1              1            0\n2              0            1\n3              1            0\n4              1            0",
      "text/html": "<div>\n<style scoped>\n    .dataframe tbody tr th:only-of-type {\n        vertical-align: middle;\n    }\n\n    .dataframe tbody tr th {\n        vertical-align: top;\n    }\n\n    .dataframe thead th {\n        text-align: right;\n    }\n</style>\n<table border=\"1\" class=\"dataframe\">\n  <thead>\n    <tr style=\"text-align: right;\">\n      <th></th>\n      <th>Gender_Female</th>\n      <th>Gender_Male</th>\n    </tr>\n  </thead>\n  <tbody>\n    <tr>\n      <td>0</td>\n      <td>1</td>\n      <td>0</td>\n    </tr>\n    <tr>\n      <td>1</td>\n      <td>1</td>\n      <td>0</td>\n    </tr>\n    <tr>\n      <td>2</td>\n      <td>0</td>\n      <td>1</td>\n    </tr>\n    <tr>\n      <td>3</td>\n      <td>1</td>\n      <td>0</td>\n    </tr>\n    <tr>\n      <td>4</td>\n      <td>1</td>\n      <td>0</td>\n    </tr>\n  </tbody>\n</table>\n</div>"
     },
     "metadata": {},
     "execution_count": 29
    }
   ],
   "source": [
    "dummy_gender.head()"
   ]
  },
  {
   "cell_type": "code",
   "execution_count": 30,
   "metadata": {},
   "outputs": [
    {
     "output_type": "execute_result",
     "data": {
      "text/plain": "['Transaction ID',\n 'Age ',\n ' Items ',\n 'Monthly Income',\n 'Transaction Time',\n 'Record',\n 'Gender',\n 'City Tier',\n 'Total Spend']"
     },
     "metadata": {},
     "execution_count": 30
    }
   ],
   "source": [
    "# usamos join para juntarlos (usamos columns names para no afectar al df original ?)\n",
    "columns_names = df.columns.values.tolist()\n",
    "columns_names"
   ]
  },
  {
   "cell_type": "code",
   "execution_count": 31,
   "metadata": {},
   "outputs": [
    {
     "output_type": "execute_result",
     "data": {
      "text/plain": "  Transaction ID  Age    Items   Monthly Income  Transaction Time  Record  \\\n0         TXN001    42       10            7313        627.668127       5   \n1         TXN002    24        8           17747        126.904567       3   \n2         TXN003    47       11           22845        873.469701       2   \n3         TXN004    50       11           18552        380.219428       7   \n4         TXN005    60        2           14439        403.374223       2   \n\n   Gender City Tier  Total Spend  Gender_Female  Gender_Male  \n0  Female    Tier 1  4198.385084              1            0  \n1  Female    Tier 2  4134.976648              1            0  \n2    Male    Tier 2  5166.614455              0            1  \n3  Female    Tier 1  7784.447676              1            0  \n4  Female    Tier 2  3254.160485              1            0  ",
      "text/html": "<div>\n<style scoped>\n    .dataframe tbody tr th:only-of-type {\n        vertical-align: middle;\n    }\n\n    .dataframe tbody tr th {\n        vertical-align: top;\n    }\n\n    .dataframe thead th {\n        text-align: right;\n    }\n</style>\n<table border=\"1\" class=\"dataframe\">\n  <thead>\n    <tr style=\"text-align: right;\">\n      <th></th>\n      <th>Transaction ID</th>\n      <th>Age</th>\n      <th>Items</th>\n      <th>Monthly Income</th>\n      <th>Transaction Time</th>\n      <th>Record</th>\n      <th>Gender</th>\n      <th>City Tier</th>\n      <th>Total Spend</th>\n      <th>Gender_Female</th>\n      <th>Gender_Male</th>\n    </tr>\n  </thead>\n  <tbody>\n    <tr>\n      <td>0</td>\n      <td>TXN001</td>\n      <td>42</td>\n      <td>10</td>\n      <td>7313</td>\n      <td>627.668127</td>\n      <td>5</td>\n      <td>Female</td>\n      <td>Tier 1</td>\n      <td>4198.385084</td>\n      <td>1</td>\n      <td>0</td>\n    </tr>\n    <tr>\n      <td>1</td>\n      <td>TXN002</td>\n      <td>24</td>\n      <td>8</td>\n      <td>17747</td>\n      <td>126.904567</td>\n      <td>3</td>\n      <td>Female</td>\n      <td>Tier 2</td>\n      <td>4134.976648</td>\n      <td>1</td>\n      <td>0</td>\n    </tr>\n    <tr>\n      <td>2</td>\n      <td>TXN003</td>\n      <td>47</td>\n      <td>11</td>\n      <td>22845</td>\n      <td>873.469701</td>\n      <td>2</td>\n      <td>Male</td>\n      <td>Tier 2</td>\n      <td>5166.614455</td>\n      <td>0</td>\n      <td>1</td>\n    </tr>\n    <tr>\n      <td>3</td>\n      <td>TXN004</td>\n      <td>50</td>\n      <td>11</td>\n      <td>18552</td>\n      <td>380.219428</td>\n      <td>7</td>\n      <td>Female</td>\n      <td>Tier 1</td>\n      <td>7784.447676</td>\n      <td>1</td>\n      <td>0</td>\n    </tr>\n    <tr>\n      <td>4</td>\n      <td>TXN005</td>\n      <td>60</td>\n      <td>2</td>\n      <td>14439</td>\n      <td>403.374223</td>\n      <td>2</td>\n      <td>Female</td>\n      <td>Tier 2</td>\n      <td>3254.160485</td>\n      <td>1</td>\n      <td>0</td>\n    </tr>\n  </tbody>\n</table>\n</div>"
     },
     "metadata": {},
     "execution_count": 31
    }
   ],
   "source": [
    "df_new = df[columns_names].join(dummy_gender)\n",
    "columns_name = df_new.columns.values.tolist()\n",
    "df_new.head(5)"
   ]
  },
  {
   "cell_type": "code",
   "execution_count": 32,
   "metadata": {},
   "outputs": [
    {
     "output_type": "execute_result",
     "data": {
      "text/plain": "  Transaction ID  Age    Items   Monthly Income  Transaction Time  Record  \\\n0         TXN001    42       10            7313        627.668127       5   \n1         TXN002    24        8           17747        126.904567       3   \n2         TXN003    47       11           22845        873.469701       2   \n3         TXN004    50       11           18552        380.219428       7   \n4         TXN005    60        2           14439        403.374223       2   \n\n   Gender City Tier  Total Spend  Gender_Female  Gender_Male  City_Tier 1  \\\n0  Female    Tier 1  4198.385084              1            0            1   \n1  Female    Tier 2  4134.976648              1            0            0   \n2    Male    Tier 2  5166.614455              0            1            0   \n3  Female    Tier 1  7784.447676              1            0            1   \n4  Female    Tier 2  3254.160485              1            0            0   \n\n   City_Tier 2  City_Tier 3  \n0            0            0  \n1            1            0  \n2            1            0  \n3            0            0  \n4            1            0  ",
      "text/html": "<div>\n<style scoped>\n    .dataframe tbody tr th:only-of-type {\n        vertical-align: middle;\n    }\n\n    .dataframe tbody tr th {\n        vertical-align: top;\n    }\n\n    .dataframe thead th {\n        text-align: right;\n    }\n</style>\n<table border=\"1\" class=\"dataframe\">\n  <thead>\n    <tr style=\"text-align: right;\">\n      <th></th>\n      <th>Transaction ID</th>\n      <th>Age</th>\n      <th>Items</th>\n      <th>Monthly Income</th>\n      <th>Transaction Time</th>\n      <th>Record</th>\n      <th>Gender</th>\n      <th>City Tier</th>\n      <th>Total Spend</th>\n      <th>Gender_Female</th>\n      <th>Gender_Male</th>\n      <th>City_Tier 1</th>\n      <th>City_Tier 2</th>\n      <th>City_Tier 3</th>\n    </tr>\n  </thead>\n  <tbody>\n    <tr>\n      <td>0</td>\n      <td>TXN001</td>\n      <td>42</td>\n      <td>10</td>\n      <td>7313</td>\n      <td>627.668127</td>\n      <td>5</td>\n      <td>Female</td>\n      <td>Tier 1</td>\n      <td>4198.385084</td>\n      <td>1</td>\n      <td>0</td>\n      <td>1</td>\n      <td>0</td>\n      <td>0</td>\n    </tr>\n    <tr>\n      <td>1</td>\n      <td>TXN002</td>\n      <td>24</td>\n      <td>8</td>\n      <td>17747</td>\n      <td>126.904567</td>\n      <td>3</td>\n      <td>Female</td>\n      <td>Tier 2</td>\n      <td>4134.976648</td>\n      <td>1</td>\n      <td>0</td>\n      <td>0</td>\n      <td>1</td>\n      <td>0</td>\n    </tr>\n    <tr>\n      <td>2</td>\n      <td>TXN003</td>\n      <td>47</td>\n      <td>11</td>\n      <td>22845</td>\n      <td>873.469701</td>\n      <td>2</td>\n      <td>Male</td>\n      <td>Tier 2</td>\n      <td>5166.614455</td>\n      <td>0</td>\n      <td>1</td>\n      <td>0</td>\n      <td>1</td>\n      <td>0</td>\n    </tr>\n    <tr>\n      <td>3</td>\n      <td>TXN004</td>\n      <td>50</td>\n      <td>11</td>\n      <td>18552</td>\n      <td>380.219428</td>\n      <td>7</td>\n      <td>Female</td>\n      <td>Tier 1</td>\n      <td>7784.447676</td>\n      <td>1</td>\n      <td>0</td>\n      <td>1</td>\n      <td>0</td>\n      <td>0</td>\n    </tr>\n    <tr>\n      <td>4</td>\n      <td>TXN005</td>\n      <td>60</td>\n      <td>2</td>\n      <td>14439</td>\n      <td>403.374223</td>\n      <td>2</td>\n      <td>Female</td>\n      <td>Tier 2</td>\n      <td>3254.160485</td>\n      <td>1</td>\n      <td>0</td>\n      <td>0</td>\n      <td>1</td>\n      <td>0</td>\n    </tr>\n  </tbody>\n</table>\n</div>"
     },
     "metadata": {},
     "execution_count": 32
    }
   ],
   "source": [
    "df_new = df_new[columns_name].join(dummy_city_tier)\n",
    "df_new.head(5)"
   ]
  },
  {
   "cell_type": "code",
   "execution_count": 41,
   "metadata": {},
   "outputs": [],
   "source": [
    "# decidimos que variables queremos usar (ojo tambien podemos usar sklearn, como vimos antes svr y sfe)\n",
    "feature_cols = [\"Monthly Income\", \"Transaction Time\", \"Gender_Female\", \"Gender_Male\",\n",
    "                \"City_Tier 1\",\"City_Tier 2\",\"City_Tier 3\",\"Record\"]"
   ]
  },
  {
   "cell_type": "code",
   "execution_count": 42,
   "metadata": {},
   "outputs": [],
   "source": [
    "X = df_new[feature_cols]\n",
    "Y = df_new[\"Total Spend\"]"
   ]
  },
  {
   "cell_type": "code",
   "execution_count": 43,
   "metadata": {},
   "outputs": [
    {
     "output_type": "execute_result",
     "data": {
      "text/plain": "LinearRegression(copy_X=True, fit_intercept=True, n_jobs=None, normalize=False)"
     },
     "metadata": {},
     "execution_count": 43
    }
   ],
   "source": [
    "lm = LinearRegression()\n",
    "lm.fit(X,Y)"
   ]
  },
  {
   "cell_type": "code",
   "execution_count": 44,
   "metadata": {
    "tags": []
   },
   "outputs": [
    {
     "output_type": "stream",
     "name": "stdout",
     "text": "-79.41713030137362\n[ 1.47538980e-01  1.54946125e-01 -1.31025013e+02  1.31025013e+02\n  7.67643260e+01  5.51389743e+01 -1.31903300e+02  7.72233446e+02]\n"
    }
   ],
   "source": [
    "print(lm.intercept_)\n",
    "print(lm.coef_)"
   ]
  },
  {
   "cell_type": "code",
   "execution_count": 45,
   "metadata": {},
   "outputs": [
    {
     "output_type": "execute_result",
     "data": {
      "text/plain": "[('Monthly Income', 0.14753898049205738),\n ('Transaction Time', 0.1549461254958966),\n ('Gender_Female', -131.02501325554675),\n ('Gender_Male', 131.02501325554695),\n ('City_Tier 1', 76.76432601049535),\n ('City_Tier 2', 55.138974309232445),\n ('City_Tier 3', -131.9033003197278),\n ('Record', 772.2334457445648)]"
     },
     "metadata": {},
     "execution_count": 45
    }
   ],
   "source": [
    "# para ver los coeficientes\n",
    "list(zip(feature_cols,lm.coef_))"
   ]
  },
  {
   "cell_type": "code",
   "execution_count": 46,
   "metadata": {},
   "outputs": [
    {
     "output_type": "execute_result",
     "data": {
      "text/plain": "0.9179923586131016"
     },
     "metadata": {},
     "execution_count": 46
    }
   ],
   "source": [
    "lm.score(X,Y)"
   ]
  },
  {
   "cell_type": "code",
   "execution_count": null,
   "metadata": {},
   "outputs": [],
   "source": [
    "# podemos añadir mas variables y vamos jugando con ellos"
   ]
  },
  {
   "source": [
    "### summary de sklearn manual"
   ],
   "cell_type": "markdown",
   "metadata": {}
  },
  {
   "cell_type": "code",
   "execution_count": 47,
   "metadata": {},
   "outputs": [],
   "source": [
    "import sklearn.metrics as metrics\n",
    "def regression_results(y_true, y_pred):\n",
    "\n",
    "    # Regression metrics\n",
    "    explained_variance=metrics.explained_variance_score(y_true, y_pred)\n",
    "    mean_absolute_error=metrics.mean_absolute_error(y_true, y_pred) \n",
    "    mse=metrics.mean_squared_error(y_true, y_pred) \n",
    "    mean_squared_log_error=metrics.mean_squared_log_error(y_true, y_pred)\n",
    "    median_absolute_error=metrics.median_absolute_error(y_true, y_pred)\n",
    "    r2=metrics.r2_score(y_true, y_pred)\n",
    "\n",
    "    print('explained_variance: ', round(explained_variance,4))    \n",
    "    print('mean_squared_log_error: ', round(mean_squared_log_error,4))\n",
    "    print('r2: ', round(r2,4))\n",
    "    print('MAE: ', round(mean_absolute_error,4))\n",
    "    print('MSE: ', round(mse,4))\n",
    "    print('RMSE: ', round(np.sqrt(mse),4))"
   ]
  },
  {
   "cell_type": "code",
   "execution_count": 49,
   "metadata": {},
   "outputs": [],
   "source": [
    "total_spend_pred = lm.predict(X)"
   ]
  },
  {
   "cell_type": "code",
   "execution_count": 50,
   "metadata": {
    "tags": []
   },
   "outputs": [
    {
     "output_type": "stream",
     "name": "stdout",
     "text": "explained_variance:  0.918\nmean_squared_log_error:  0.0562\nr2:  0.918\nMAE:  682.4664\nMSE:  642563.0759\nRMSE:  801.6003\n"
    }
   ],
   "source": [
    "regression_results(Y,total_spend_pred)"
   ]
  },
  {
   "cell_type": "code",
   "execution_count": 57,
   "metadata": {},
   "outputs": [
    {
     "output_type": "execute_result",
     "data": {
      "text/plain": "1517733985.340816"
     },
     "metadata": {},
     "execution_count": 57
    }
   ],
   "source": [
    "# manual, suma de los cuadrados de la diferencia (SSD)\n",
    "SSD = np.sum((total_spend_pred-Y)**2)\n",
    "SSD"
   ]
  },
  {
   "cell_type": "code",
   "execution_count": 58,
   "metadata": {},
   "outputs": [
    {
     "output_type": "execute_result",
     "data": {
      "text/plain": "803.1318809818165"
     },
     "metadata": {},
     "execution_count": 58
    }
   ],
   "source": [
    "RSE = np.sqrt(SSD/(len(df_new)-len(feature_cols)-1))\n",
    "RSE"
   ]
  },
  {
   "cell_type": "code",
   "execution_count": 59,
   "metadata": {},
   "outputs": [
    {
     "output_type": "execute_result",
     "data": {
      "text/plain": "6163.176415976714"
     },
     "metadata": {},
     "execution_count": 59
    }
   ],
   "source": [
    "sales_mean = np.mean(Y)\n",
    "sales_mean"
   ]
  },
  {
   "cell_type": "code",
   "execution_count": 60,
   "metadata": {
    "tags": []
   },
   "outputs": [
    {
     "output_type": "stream",
     "name": "stdout",
     "text": "El porcentajes de error que no se puede explicar es : 13.031135680294161\n"
    }
   ],
   "source": [
    "error = RSE/sales_mean\n",
    "print(\"El porcentajes de error que no se puede explicar es :\",error*100)"
   ]
  },
  {
   "cell_type": "code",
   "execution_count": null,
   "metadata": {},
   "outputs": [],
   "source": [
    "# las prediciones estan 803 (desviacion estandar de los residuos) por encima/debajo de la media 6163 lo cual es mas o menos aceptables"
   ]
  },
  {
   "cell_type": "code",
   "execution_count": 64,
   "metadata": {},
   "outputs": [
    {
     "output_type": "execute_result",
     "data": {
      "text/plain": "const               -43.318435\nMonthly Income        0.147539\nTransaction Time      0.154946\nGender_Female      -152.684231\nGender_Male         109.365796\nCity_Tier 1          62.324848\nCity_Tier 2          40.699496\nCity_Tier 3        -146.342779\nRecord              772.233446\ndtype: float64"
     },
     "metadata": {},
     "execution_count": 64
    }
   ],
   "source": [
    "### ahora usamos stadmodel\n",
    "import statsmodels.api as sm\n",
    "Xs = sm.add_constant(X)\n",
    "model = sm.OLS(Y,Xs)\n",
    "results = model.fit()\n",
    "results.params"
   ]
  },
  {
   "cell_type": "code",
   "execution_count": 65,
   "metadata": {},
   "outputs": [
    {
     "output_type": "execute_result",
     "data": {
      "text/plain": "<class 'statsmodels.iolib.summary.Summary'>\n\"\"\"\n                            OLS Regression Results                            \n==============================================================================\nDep. Variable:            Total Spend   R-squared:                       0.918\nModel:                            OLS   Adj. R-squared:                  0.918\nMethod:                 Least Squares   F-statistic:                     4394.\nDate:                Mon, 28 Sep 2020   Prob (F-statistic):               0.00\nTime:                        20:25:06   Log-Likelihood:                -19145.\nNo. Observations:                2362   AIC:                         3.830e+04\nDf Residuals:                    2355   BIC:                         3.834e+04\nDf Model:                           6                                         \nCovariance Type:            nonrobust                                         \n====================================================================================\n                       coef    std err          t      P>|t|      [0.025      0.975]\n------------------------------------------------------------------------------------\nconst              -43.3184     29.550     -1.466      0.143    -101.266      14.629\nMonthly Income       0.1475      0.002     71.753      0.000       0.144       0.152\nTransaction Time     0.1549      0.058      2.678      0.007       0.041       0.268\nGender_Female     -152.6842     22.033     -6.930      0.000    -195.891    -109.478\nGender_Male        109.3658     22.316      4.901      0.000      65.606     153.126\nCity_Tier 1         62.3248     25.108      2.482      0.013      13.089     111.560\nCity_Tier 2         40.6995     25.263      1.611      0.107      -8.841      90.240\nCity_Tier 3       -146.3428     25.719     -5.690      0.000    -196.777     -95.909\nRecord             772.2334      5.359    144.111      0.000     761.725     782.741\n==============================================================================\nOmnibus:                      342.099   Durbin-Watson:                   1.986\nProb(Omnibus):                  0.000   Jarque-Bera (JB):              197.310\nSkew:                           0.573   Prob(JB):                     1.43e-43\nKurtosis:                       2.168   Cond. No.                     1.55e+20\n==============================================================================\n\nWarnings:\n[1] Standard Errors assume that the covariance matrix of the errors is correctly specified.\n[2] The smallest eigenvalue is 3.13e-29. This might indicate that there are\nstrong multicollinearity problems or that the design matrix is singular.\n\"\"\"",
      "text/html": "<table class=\"simpletable\">\n<caption>OLS Regression Results</caption>\n<tr>\n  <th>Dep. Variable:</th>       <td>Total Spend</td>   <th>  R-squared:         </th> <td>   0.918</td> \n</tr>\n<tr>\n  <th>Model:</th>                   <td>OLS</td>       <th>  Adj. R-squared:    </th> <td>   0.918</td> \n</tr>\n<tr>\n  <th>Method:</th>             <td>Least Squares</td>  <th>  F-statistic:       </th> <td>   4394.</td> \n</tr>\n<tr>\n  <th>Date:</th>             <td>Mon, 28 Sep 2020</td> <th>  Prob (F-statistic):</th>  <td>  0.00</td>  \n</tr>\n<tr>\n  <th>Time:</th>                 <td>20:25:06</td>     <th>  Log-Likelihood:    </th> <td> -19145.</td> \n</tr>\n<tr>\n  <th>No. Observations:</th>      <td>  2362</td>      <th>  AIC:               </th> <td>3.830e+04</td>\n</tr>\n<tr>\n  <th>Df Residuals:</th>          <td>  2355</td>      <th>  BIC:               </th> <td>3.834e+04</td>\n</tr>\n<tr>\n  <th>Df Model:</th>              <td>     6</td>      <th>                     </th>     <td> </td>    \n</tr>\n<tr>\n  <th>Covariance Type:</th>      <td>nonrobust</td>    <th>                     </th>     <td> </td>    \n</tr>\n</table>\n<table class=\"simpletable\">\n<tr>\n          <td></td>            <th>coef</th>     <th>std err</th>      <th>t</th>      <th>P>|t|</th>  <th>[0.025</th>    <th>0.975]</th>  \n</tr>\n<tr>\n  <th>const</th>            <td>  -43.3184</td> <td>   29.550</td> <td>   -1.466</td> <td> 0.143</td> <td> -101.266</td> <td>   14.629</td>\n</tr>\n<tr>\n  <th>Monthly Income</th>   <td>    0.1475</td> <td>    0.002</td> <td>   71.753</td> <td> 0.000</td> <td>    0.144</td> <td>    0.152</td>\n</tr>\n<tr>\n  <th>Transaction Time</th> <td>    0.1549</td> <td>    0.058</td> <td>    2.678</td> <td> 0.007</td> <td>    0.041</td> <td>    0.268</td>\n</tr>\n<tr>\n  <th>Gender_Female</th>    <td> -152.6842</td> <td>   22.033</td> <td>   -6.930</td> <td> 0.000</td> <td> -195.891</td> <td> -109.478</td>\n</tr>\n<tr>\n  <th>Gender_Male</th>      <td>  109.3658</td> <td>   22.316</td> <td>    4.901</td> <td> 0.000</td> <td>   65.606</td> <td>  153.126</td>\n</tr>\n<tr>\n  <th>City_Tier 1</th>      <td>   62.3248</td> <td>   25.108</td> <td>    2.482</td> <td> 0.013</td> <td>   13.089</td> <td>  111.560</td>\n</tr>\n<tr>\n  <th>City_Tier 2</th>      <td>   40.6995</td> <td>   25.263</td> <td>    1.611</td> <td> 0.107</td> <td>   -8.841</td> <td>   90.240</td>\n</tr>\n<tr>\n  <th>City_Tier 3</th>      <td> -146.3428</td> <td>   25.719</td> <td>   -5.690</td> <td> 0.000</td> <td> -196.777</td> <td>  -95.909</td>\n</tr>\n<tr>\n  <th>Record</th>           <td>  772.2334</td> <td>    5.359</td> <td>  144.111</td> <td> 0.000</td> <td>  761.725</td> <td>  782.741</td>\n</tr>\n</table>\n<table class=\"simpletable\">\n<tr>\n  <th>Omnibus:</th>       <td>342.099</td> <th>  Durbin-Watson:     </th> <td>   1.986</td>\n</tr>\n<tr>\n  <th>Prob(Omnibus):</th> <td> 0.000</td>  <th>  Jarque-Bera (JB):  </th> <td> 197.310</td>\n</tr>\n<tr>\n  <th>Skew:</th>          <td> 0.573</td>  <th>  Prob(JB):          </th> <td>1.43e-43</td>\n</tr>\n<tr>\n  <th>Kurtosis:</th>      <td> 2.168</td>  <th>  Cond. No.          </th> <td>1.55e+20</td>\n</tr>\n</table><br/><br/>Warnings:<br/>[1] Standard Errors assume that the covariance matrix of the errors is correctly specified.<br/>[2] The smallest eigenvalue is 3.13e-29. This might indicate that there are<br/>strong multicollinearity problems or that the design matrix is singular."
     },
     "metadata": {},
     "execution_count": 65
    }
   ],
   "source": [
    "results.summary()"
   ]
  },
  {
   "cell_type": "code",
   "execution_count": 69,
   "metadata": {},
   "outputs": [],
   "source": [
    "stat_pred = results.predict(Xs)"
   ]
  },
  {
   "cell_type": "code",
   "execution_count": 70,
   "metadata": {},
   "outputs": [
    {
     "output_type": "execute_result",
     "data": {
      "text/plain": "1517733985.3408165"
     },
     "metadata": {},
     "execution_count": 70
    }
   ],
   "source": [
    "SSD1 = np.sum((Y-stat_pred)**2)\n",
    "SSD1"
   ]
  },
  {
   "cell_type": "code",
   "execution_count": 71,
   "metadata": {},
   "outputs": [
    {
     "output_type": "execute_result",
     "data": {
      "text/plain": "803.1318809818166"
     },
     "metadata": {},
     "execution_count": 71
    }
   ],
   "source": [
    "RSE1 = np.sqrt(SSD1/(len(df_new)-len(feature_cols)-1))\n",
    "RSE1"
   ]
  },
  {
   "cell_type": "code",
   "execution_count": null,
   "metadata": {},
   "outputs": [],
   "source": []
  }
 ]
}