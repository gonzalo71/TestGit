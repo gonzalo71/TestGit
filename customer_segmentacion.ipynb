{
 "metadata": {
  "language_info": {
   "codemirror_mode": {
    "name": "ipython",
    "version": 3
   },
   "file_extension": ".py",
   "mimetype": "text/x-python",
   "name": "python",
   "nbconvert_exporter": "python",
   "pygments_lexer": "ipython3",
   "version": "3.8.3-final"
  },
  "orig_nbformat": 2,
  "kernelspec": {
   "name": "python37464bitbaseconda69e58c37ea7d4cdf93b91f6c517dcb7c",
   "display_name": "Python 3.7.4 64-bit ('base': conda)",
   "language": "python"
  }
 },
 "nbformat": 4,
 "nbformat_minor": 2,
 "cells": [
  {
   "cell_type": "code",
   "execution_count": 5,
   "metadata": {},
   "outputs": [],
   "source": [
    "import pandas as pd\n",
    "import numpy as np\n",
    "import seaborn as sns\n",
    "import matplotlib.pyplot as plt\n",
    "%matplotlib inline\n",
    "\n",
    "import os\n",
    "from sklearn import preprocessing\n",
    "import sklearn\n",
    "from sklearn.svm import SVC\n",
    "from sklearn.preprocessing import StandardScaler\n",
    "from sklearn.datasets import make_classification\n",
    "from sklearn.preprocessing import LabelEncoder\n",
    "from sklearn.preprocessing import OneHotEncoder\n",
    "from sklearn.model_selection import train_test_split\n",
    "from sklearn.pipeline import Pipeline\n",
    "from sklearn.compose import ColumnTransformer\n",
    "from sklearn.preprocessing import Normalizer\n"
   ]
  },
  {
   "source": [
    " tenemos que encontrar los mejores clientes (As per the Pareto Principle, 80% of outcomes result from 20% of all the causes of any given event. n business terms, we can say that 20% of customers contribute 80% share of the total revenue of a company) ya que son los que nos proporcionan el 80 por ciento de los ingresos.\n",
    " \n",
    "tambien buscaremos los que estan a punto de irse o dejar la compañia (churn)"
   ],
   "cell_type": "markdown",
   "metadata": {}
  },
  {
   "cell_type": "code",
   "execution_count": 6,
   "metadata": {},
   "outputs": [
    {
     "output_type": "execute_result",
     "data": {
      "text/plain": [
       "  InvoiceNo StockCode                         Description  Quantity  \\\n",
       "0    536365    85123A  WHITE HANGING HEART T-LIGHT HOLDER         6   \n",
       "1    536365     71053                 WHITE METAL LANTERN         6   \n",
       "2    536365    84406B      CREAM CUPID HEARTS COAT HANGER         8   \n",
       "\n",
       "          InvoiceDate  UnitPrice  CustomerID         Country  \n",
       "0 2010-12-01 08:26:00       2.55     17850.0  United Kingdom  \n",
       "1 2010-12-01 08:26:00       3.39     17850.0  United Kingdom  \n",
       "2 2010-12-01 08:26:00       2.75     17850.0  United Kingdom  "
      ],
      "text/html": "<div>\n<style scoped>\n    .dataframe tbody tr th:only-of-type {\n        vertical-align: middle;\n    }\n\n    .dataframe tbody tr th {\n        vertical-align: top;\n    }\n\n    .dataframe thead th {\n        text-align: right;\n    }\n</style>\n<table border=\"1\" class=\"dataframe\">\n  <thead>\n    <tr style=\"text-align: right;\">\n      <th></th>\n      <th>InvoiceNo</th>\n      <th>StockCode</th>\n      <th>Description</th>\n      <th>Quantity</th>\n      <th>InvoiceDate</th>\n      <th>UnitPrice</th>\n      <th>CustomerID</th>\n      <th>Country</th>\n    </tr>\n  </thead>\n  <tbody>\n    <tr>\n      <th>0</th>\n      <td>536365</td>\n      <td>85123A</td>\n      <td>WHITE HANGING HEART T-LIGHT HOLDER</td>\n      <td>6</td>\n      <td>2010-12-01 08:26:00</td>\n      <td>2.55</td>\n      <td>17850.0</td>\n      <td>United Kingdom</td>\n    </tr>\n    <tr>\n      <th>1</th>\n      <td>536365</td>\n      <td>71053</td>\n      <td>WHITE METAL LANTERN</td>\n      <td>6</td>\n      <td>2010-12-01 08:26:00</td>\n      <td>3.39</td>\n      <td>17850.0</td>\n      <td>United Kingdom</td>\n    </tr>\n    <tr>\n      <th>2</th>\n      <td>536365</td>\n      <td>84406B</td>\n      <td>CREAM CUPID HEARTS COAT HANGER</td>\n      <td>8</td>\n      <td>2010-12-01 08:26:00</td>\n      <td>2.75</td>\n      <td>17850.0</td>\n      <td>United Kingdom</td>\n    </tr>\n  </tbody>\n</table>\n</div>"
     },
     "metadata": {},
     "execution_count": 6
    }
   ],
   "source": [
    "path = \"C:/Users/gonza/OneDrive/Documentos/datascience-thebridge-master/ejercicios gonzalo/DATA\"\n",
    "df = pd.read_excel(os.path.join(path,\"Online Retail.xlsx\"))\n",
    "df.head(3)\n"
   ]
  },
  {
   "cell_type": "code",
   "execution_count": 14,
   "metadata": {},
   "outputs": [
    {
     "output_type": "stream",
     "name": "stdout",
     "text": [
      "el numero de duplicados son 5268\n",
      "el porcentaje de duplicados son: 0.97\n"
     ]
    }
   ],
   "source": [
    "# duplicados\n",
    "print(f\"el numero de duplicados son {df.duplicated().sum()}\")\n",
    "print(f\"el porcentaje de duplicados son: {round((df.duplicated().sum() / len(df) ) * 100,2)}\")"
   ]
  },
  {
   "cell_type": "code",
   "execution_count": 15,
   "metadata": {},
   "outputs": [],
   "source": [
    "# remove duplicate\n",
    "df.drop_duplicates(inplace=True)"
   ]
  },
  {
   "cell_type": "code",
   "execution_count": 23,
   "metadata": {},
   "outputs": [],
   "source": [
    "# contamos valores unicos de las siguientes columnas\n",
    "lista_unique = [\"StockCode\",\"InvoiceNo\",\"CustomerID\"]\n",
    "dict_unique = {i:len(df[i].unique()) for i in lista_unique}"
   ]
  },
  {
   "cell_type": "code",
   "execution_count": 27,
   "metadata": {},
   "outputs": [
    {
     "output_type": "execute_result",
     "data": {
      "text/plain": [
       "          StockCode  InvoiceNo  CustomerID\n",
       "quantity       4070      25900        4373"
      ],
      "text/html": "<div>\n<style scoped>\n    .dataframe tbody tr th:only-of-type {\n        vertical-align: middle;\n    }\n\n    .dataframe tbody tr th {\n        vertical-align: top;\n    }\n\n    .dataframe thead th {\n        text-align: right;\n    }\n</style>\n<table border=\"1\" class=\"dataframe\">\n  <thead>\n    <tr style=\"text-align: right;\">\n      <th></th>\n      <th>StockCode</th>\n      <th>InvoiceNo</th>\n      <th>CustomerID</th>\n    </tr>\n  </thead>\n  <tbody>\n    <tr>\n      <th>quantity</th>\n      <td>4070</td>\n      <td>25900</td>\n      <td>4373</td>\n    </tr>\n  </tbody>\n</table>\n</div>"
     },
     "metadata": {},
     "execution_count": 27
    }
   ],
   "source": [
    "pd.DataFrame(dict_unique,index=[\"quantity\"])"
   ]
  },
  {
   "cell_type": "code",
   "execution_count": 41,
   "metadata": {},
   "outputs": [],
   "source": [
    "# vamos a ver cuantos pedidos por paises\n",
    "country_orders = df.groupby(\"Country\",as_index=False).agg({\"InvoiceNo\":\"nunique\"}).rename(columns={\"InvoiceNo\":\"Orders\"})\n",
    "total_country_orders = country_orders[\"Orders\"].sum(axis=0)\n",
    "country_orders[\"%Orders\"] = round(country_orders[\"Orders\"] / total_country_orders * 100,2)\n"
   ]
  },
  {
   "cell_type": "code",
   "execution_count": 46,
   "metadata": {},
   "outputs": [
    {
     "output_type": "execute_result",
     "data": {
      "text/plain": [
       "<pandas.io.formats.style.Styler at 0x1d51ce71370>"
      ],
      "text/html": "<style  type=\"text/css\" >\n    #T_ba9fc4f2_4e7c_11eb_9636_040e3ccec28erow0_col1 {\n            background-color:  #08306b;\n            color:  #f1f1f1;\n        }    #T_ba9fc4f2_4e7c_11eb_9636_040e3ccec28erow0_col2 {\n            background-color:  #08306b;\n            color:  #f1f1f1;\n        }    #T_ba9fc4f2_4e7c_11eb_9636_040e3ccec28erow1_col1 {\n            background-color:  #f3f8fe;\n            color:  #000000;\n        }    #T_ba9fc4f2_4e7c_11eb_9636_040e3ccec28erow1_col2 {\n            background-color:  #f3f8fe;\n            color:  #000000;\n        }    #T_ba9fc4f2_4e7c_11eb_9636_040e3ccec28erow2_col1 {\n            background-color:  #f4f9fe;\n            color:  #000000;\n        }    #T_ba9fc4f2_4e7c_11eb_9636_040e3ccec28erow2_col2 {\n            background-color:  #f4f9fe;\n            color:  #000000;\n        }    #T_ba9fc4f2_4e7c_11eb_9636_040e3ccec28erow3_col1 {\n            background-color:  #f5f9fe;\n            color:  #000000;\n        }    #T_ba9fc4f2_4e7c_11eb_9636_040e3ccec28erow3_col2 {\n            background-color:  #f5f9fe;\n            color:  #000000;\n        }    #T_ba9fc4f2_4e7c_11eb_9636_040e3ccec28erow4_col1 {\n            background-color:  #f7fbff;\n            color:  #000000;\n        }    #T_ba9fc4f2_4e7c_11eb_9636_040e3ccec28erow4_col2 {\n            background-color:  #f7fbff;\n            color:  #000000;\n        }    #T_ba9fc4f2_4e7c_11eb_9636_040e3ccec28erow5_col1 {\n            background-color:  #f7fbff;\n            color:  #000000;\n        }    #T_ba9fc4f2_4e7c_11eb_9636_040e3ccec28erow5_col2 {\n            background-color:  #f7fbff;\n            color:  #000000;\n        }    #T_ba9fc4f2_4e7c_11eb_9636_040e3ccec28erow6_col1 {\n            background-color:  #f7fbff;\n            color:  #000000;\n        }    #T_ba9fc4f2_4e7c_11eb_9636_040e3ccec28erow6_col2 {\n            background-color:  #f7fbff;\n            color:  #000000;\n        }    #T_ba9fc4f2_4e7c_11eb_9636_040e3ccec28erow7_col1 {\n            background-color:  #f7fbff;\n            color:  #000000;\n        }    #T_ba9fc4f2_4e7c_11eb_9636_040e3ccec28erow7_col2 {\n            background-color:  #f7fbff;\n            color:  #000000;\n        }    #T_ba9fc4f2_4e7c_11eb_9636_040e3ccec28erow8_col1 {\n            background-color:  #f7fbff;\n            color:  #000000;\n        }    #T_ba9fc4f2_4e7c_11eb_9636_040e3ccec28erow8_col2 {\n            background-color:  #f7fbff;\n            color:  #000000;\n        }    #T_ba9fc4f2_4e7c_11eb_9636_040e3ccec28erow9_col1 {\n            background-color:  #f7fbff;\n            color:  #000000;\n        }    #T_ba9fc4f2_4e7c_11eb_9636_040e3ccec28erow9_col2 {\n            background-color:  #f7fbff;\n            color:  #000000;\n        }</style><table id=\"T_ba9fc4f2_4e7c_11eb_9636_040e3ccec28e\" ><thead>    <tr>        <th class=\"blank level0\" ></th>        <th class=\"col_heading level0 col0\" >Country</th>        <th class=\"col_heading level0 col1\" >Orders</th>        <th class=\"col_heading level0 col2\" >%Orders</th>    </tr></thead><tbody>\n                <tr>\n                        <th id=\"T_ba9fc4f2_4e7c_11eb_9636_040e3ccec28elevel0_row0\" class=\"row_heading level0 row0\" >36</th>\n                        <td id=\"T_ba9fc4f2_4e7c_11eb_9636_040e3ccec28erow0_col0\" class=\"data row0 col0\" >United Kingdom</td>\n                        <td id=\"T_ba9fc4f2_4e7c_11eb_9636_040e3ccec28erow0_col1\" class=\"data row0 col1\" >23494</td>\n                        <td id=\"T_ba9fc4f2_4e7c_11eb_9636_040e3ccec28erow0_col2\" class=\"data row0 col2\" >90.710000</td>\n            </tr>\n            <tr>\n                        <th id=\"T_ba9fc4f2_4e7c_11eb_9636_040e3ccec28elevel0_row1\" class=\"row_heading level0 row1\" >14</th>\n                        <td id=\"T_ba9fc4f2_4e7c_11eb_9636_040e3ccec28erow1_col0\" class=\"data row1 col0\" >Germany</td>\n                        <td id=\"T_ba9fc4f2_4e7c_11eb_9636_040e3ccec28erow1_col1\" class=\"data row1 col1\" >603</td>\n                        <td id=\"T_ba9fc4f2_4e7c_11eb_9636_040e3ccec28erow1_col2\" class=\"data row1 col2\" >2.330000</td>\n            </tr>\n            <tr>\n                        <th id=\"T_ba9fc4f2_4e7c_11eb_9636_040e3ccec28elevel0_row2\" class=\"row_heading level0 row2\" >13</th>\n                        <td id=\"T_ba9fc4f2_4e7c_11eb_9636_040e3ccec28erow2_col0\" class=\"data row2 col0\" >France</td>\n                        <td id=\"T_ba9fc4f2_4e7c_11eb_9636_040e3ccec28erow2_col1\" class=\"data row2 col1\" >461</td>\n                        <td id=\"T_ba9fc4f2_4e7c_11eb_9636_040e3ccec28erow2_col2\" class=\"data row2 col2\" >1.780000</td>\n            </tr>\n            <tr>\n                        <th id=\"T_ba9fc4f2_4e7c_11eb_9636_040e3ccec28elevel0_row3\" class=\"row_heading level0 row3\" >10</th>\n                        <td id=\"T_ba9fc4f2_4e7c_11eb_9636_040e3ccec28erow3_col0\" class=\"data row3 col0\" >EIRE</td>\n                        <td id=\"T_ba9fc4f2_4e7c_11eb_9636_040e3ccec28erow3_col1\" class=\"data row3 col1\" >360</td>\n                        <td id=\"T_ba9fc4f2_4e7c_11eb_9636_040e3ccec28erow3_col2\" class=\"data row3 col2\" >1.390000</td>\n            </tr>\n            <tr>\n                        <th id=\"T_ba9fc4f2_4e7c_11eb_9636_040e3ccec28elevel0_row4\" class=\"row_heading level0 row4\" >3</th>\n                        <td id=\"T_ba9fc4f2_4e7c_11eb_9636_040e3ccec28erow4_col0\" class=\"data row4 col0\" >Belgium</td>\n                        <td id=\"T_ba9fc4f2_4e7c_11eb_9636_040e3ccec28erow4_col1\" class=\"data row4 col1\" >119</td>\n                        <td id=\"T_ba9fc4f2_4e7c_11eb_9636_040e3ccec28erow4_col2\" class=\"data row4 col2\" >0.460000</td>\n            </tr>\n            <tr>\n                        <th id=\"T_ba9fc4f2_4e7c_11eb_9636_040e3ccec28elevel0_row5\" class=\"row_heading level0 row5\" >31</th>\n                        <td id=\"T_ba9fc4f2_4e7c_11eb_9636_040e3ccec28erow5_col0\" class=\"data row5 col0\" >Spain</td>\n                        <td id=\"T_ba9fc4f2_4e7c_11eb_9636_040e3ccec28erow5_col1\" class=\"data row5 col1\" >105</td>\n                        <td id=\"T_ba9fc4f2_4e7c_11eb_9636_040e3ccec28erow5_col2\" class=\"data row5 col2\" >0.410000</td>\n            </tr>\n            <tr>\n                        <th id=\"T_ba9fc4f2_4e7c_11eb_9636_040e3ccec28elevel0_row6\" class=\"row_heading level0 row6\" >24</th>\n                        <td id=\"T_ba9fc4f2_4e7c_11eb_9636_040e3ccec28erow6_col0\" class=\"data row6 col0\" >Netherlands</td>\n                        <td id=\"T_ba9fc4f2_4e7c_11eb_9636_040e3ccec28erow6_col1\" class=\"data row6 col1\" >101</td>\n                        <td id=\"T_ba9fc4f2_4e7c_11eb_9636_040e3ccec28erow6_col2\" class=\"data row6 col2\" >0.390000</td>\n            </tr>\n            <tr>\n                        <th id=\"T_ba9fc4f2_4e7c_11eb_9636_040e3ccec28elevel0_row7\" class=\"row_heading level0 row7\" >33</th>\n                        <td id=\"T_ba9fc4f2_4e7c_11eb_9636_040e3ccec28erow7_col0\" class=\"data row7 col0\" >Switzerland</td>\n                        <td id=\"T_ba9fc4f2_4e7c_11eb_9636_040e3ccec28erow7_col1\" class=\"data row7 col1\" >74</td>\n                        <td id=\"T_ba9fc4f2_4e7c_11eb_9636_040e3ccec28erow7_col2\" class=\"data row7 col2\" >0.290000</td>\n            </tr>\n            <tr>\n                        <th id=\"T_ba9fc4f2_4e7c_11eb_9636_040e3ccec28elevel0_row8\" class=\"row_heading level0 row8\" >0</th>\n                        <td id=\"T_ba9fc4f2_4e7c_11eb_9636_040e3ccec28erow8_col0\" class=\"data row8 col0\" >Australia</td>\n                        <td id=\"T_ba9fc4f2_4e7c_11eb_9636_040e3ccec28erow8_col1\" class=\"data row8 col1\" >69</td>\n                        <td id=\"T_ba9fc4f2_4e7c_11eb_9636_040e3ccec28erow8_col2\" class=\"data row8 col2\" >0.270000</td>\n            </tr>\n            <tr>\n                        <th id=\"T_ba9fc4f2_4e7c_11eb_9636_040e3ccec28elevel0_row9\" class=\"row_heading level0 row9\" >27</th>\n                        <td id=\"T_ba9fc4f2_4e7c_11eb_9636_040e3ccec28erow9_col0\" class=\"data row9 col0\" >Portugal</td>\n                        <td id=\"T_ba9fc4f2_4e7c_11eb_9636_040e3ccec28erow9_col1\" class=\"data row9 col1\" >71</td>\n                        <td id=\"T_ba9fc4f2_4e7c_11eb_9636_040e3ccec28erow9_col2\" class=\"data row9 col2\" >0.270000</td>\n            </tr>\n    </tbody></table>"
     },
     "metadata": {},
     "execution_count": 46
    }
   ],
   "source": [
    "country_orders.sort_values(by=\"%Orders\",ascending=False).head(10).style.background_gradient(cmap='Blues')"
   ]
  },
  {
   "cell_type": "code",
   "execution_count": 61,
   "metadata": {},
   "outputs": [],
   "source": [
    "# total cancelaciones\n",
    "invoices = df['InvoiceNo']\n",
    "x = invoices.str.contains(\"C\",regex=True)\n",
    "x.fillna(0,inplace=True)\n",
    "x = x.astype(int)"
   ]
  },
  {
   "cell_type": "code",
   "execution_count": 64,
   "metadata": {},
   "outputs": [
    {
     "output_type": "execute_result",
     "data": {
      "text/plain": [
       "0    98.276129\n",
       "1     1.723871\n",
       "Name: InvoiceNo, dtype: float64"
      ]
     },
     "metadata": {},
     "execution_count": 64
    }
   ],
   "source": [
    "x.value_counts(normalize=True) * 100"
   ]
  },
  {
   "cell_type": "code",
   "execution_count": 63,
   "metadata": {},
   "outputs": [],
   "source": [
    "# añadimos columna de canceladas\n",
    "df[\"order_canceled\"] = x"
   ]
  },
  {
   "cell_type": "code",
   "execution_count": 70,
   "metadata": {},
   "outputs": [],
   "source": [
    "# vamos a trabajar con las no canceladas\n",
    "df = df.loc[df[\"order_canceled\"] == 0]"
   ]
  },
  {
   "cell_type": "code",
   "execution_count": 71,
   "metadata": {},
   "outputs": [
    {
     "output_type": "execute_result",
     "data": {
      "text/plain": [
       "       InvoiceNo StockCode Description  Quantity         InvoiceDate  \\\n",
       "2406      536589     21777         NaN       -10 2010-12-01 16:50:00   \n",
       "4347      536764    84952C         NaN       -38 2010-12-02 14:42:00   \n",
       "7188      536996     22712         NaN       -20 2010-12-03 15:30:00   \n",
       "7189      536997     22028         NaN       -20 2010-12-03 15:30:00   \n",
       "7190      536998     85067         NaN        -6 2010-12-03 15:30:00   \n",
       "...          ...       ...         ...       ...                 ...   \n",
       "535333    581210     23395       check       -26 2011-12-07 18:36:00   \n",
       "535335    581212     22578        lost     -1050 2011-12-07 18:38:00   \n",
       "535336    581213     22576       check       -30 2011-12-07 18:38:00   \n",
       "536908    581226     23090     missing      -338 2011-12-08 09:56:00   \n",
       "538919    581422     23169     smashed      -235 2011-12-08 15:24:00   \n",
       "\n",
       "        UnitPrice  CustomerID         Country  order_canceled  \n",
       "2406          0.0         NaN  United Kingdom               0  \n",
       "4347          0.0         NaN  United Kingdom               0  \n",
       "7188          0.0         NaN  United Kingdom               0  \n",
       "7189          0.0         NaN  United Kingdom               0  \n",
       "7190          0.0         NaN  United Kingdom               0  \n",
       "...           ...         ...             ...             ...  \n",
       "535333        0.0         NaN  United Kingdom               0  \n",
       "535335        0.0         NaN  United Kingdom               0  \n",
       "535336        0.0         NaN  United Kingdom               0  \n",
       "536908        0.0         NaN  United Kingdom               0  \n",
       "538919        0.0         NaN  United Kingdom               0  \n",
       "\n",
       "[1336 rows x 9 columns]"
      ],
      "text/html": "<div>\n<style scoped>\n    .dataframe tbody tr th:only-of-type {\n        vertical-align: middle;\n    }\n\n    .dataframe tbody tr th {\n        vertical-align: top;\n    }\n\n    .dataframe thead th {\n        text-align: right;\n    }\n</style>\n<table border=\"1\" class=\"dataframe\">\n  <thead>\n    <tr style=\"text-align: right;\">\n      <th></th>\n      <th>InvoiceNo</th>\n      <th>StockCode</th>\n      <th>Description</th>\n      <th>Quantity</th>\n      <th>InvoiceDate</th>\n      <th>UnitPrice</th>\n      <th>CustomerID</th>\n      <th>Country</th>\n      <th>order_canceled</th>\n    </tr>\n  </thead>\n  <tbody>\n    <tr>\n      <th>2406</th>\n      <td>536589</td>\n      <td>21777</td>\n      <td>NaN</td>\n      <td>-10</td>\n      <td>2010-12-01 16:50:00</td>\n      <td>0.0</td>\n      <td>NaN</td>\n      <td>United Kingdom</td>\n      <td>0</td>\n    </tr>\n    <tr>\n      <th>4347</th>\n      <td>536764</td>\n      <td>84952C</td>\n      <td>NaN</td>\n      <td>-38</td>\n      <td>2010-12-02 14:42:00</td>\n      <td>0.0</td>\n      <td>NaN</td>\n      <td>United Kingdom</td>\n      <td>0</td>\n    </tr>\n    <tr>\n      <th>7188</th>\n      <td>536996</td>\n      <td>22712</td>\n      <td>NaN</td>\n      <td>-20</td>\n      <td>2010-12-03 15:30:00</td>\n      <td>0.0</td>\n      <td>NaN</td>\n      <td>United Kingdom</td>\n      <td>0</td>\n    </tr>\n    <tr>\n      <th>7189</th>\n      <td>536997</td>\n      <td>22028</td>\n      <td>NaN</td>\n      <td>-20</td>\n      <td>2010-12-03 15:30:00</td>\n      <td>0.0</td>\n      <td>NaN</td>\n      <td>United Kingdom</td>\n      <td>0</td>\n    </tr>\n    <tr>\n      <th>7190</th>\n      <td>536998</td>\n      <td>85067</td>\n      <td>NaN</td>\n      <td>-6</td>\n      <td>2010-12-03 15:30:00</td>\n      <td>0.0</td>\n      <td>NaN</td>\n      <td>United Kingdom</td>\n      <td>0</td>\n    </tr>\n    <tr>\n      <th>...</th>\n      <td>...</td>\n      <td>...</td>\n      <td>...</td>\n      <td>...</td>\n      <td>...</td>\n      <td>...</td>\n      <td>...</td>\n      <td>...</td>\n      <td>...</td>\n    </tr>\n    <tr>\n      <th>535333</th>\n      <td>581210</td>\n      <td>23395</td>\n      <td>check</td>\n      <td>-26</td>\n      <td>2011-12-07 18:36:00</td>\n      <td>0.0</td>\n      <td>NaN</td>\n      <td>United Kingdom</td>\n      <td>0</td>\n    </tr>\n    <tr>\n      <th>535335</th>\n      <td>581212</td>\n      <td>22578</td>\n      <td>lost</td>\n      <td>-1050</td>\n      <td>2011-12-07 18:38:00</td>\n      <td>0.0</td>\n      <td>NaN</td>\n      <td>United Kingdom</td>\n      <td>0</td>\n    </tr>\n    <tr>\n      <th>535336</th>\n      <td>581213</td>\n      <td>22576</td>\n      <td>check</td>\n      <td>-30</td>\n      <td>2011-12-07 18:38:00</td>\n      <td>0.0</td>\n      <td>NaN</td>\n      <td>United Kingdom</td>\n      <td>0</td>\n    </tr>\n    <tr>\n      <th>536908</th>\n      <td>581226</td>\n      <td>23090</td>\n      <td>missing</td>\n      <td>-338</td>\n      <td>2011-12-08 09:56:00</td>\n      <td>0.0</td>\n      <td>NaN</td>\n      <td>United Kingdom</td>\n      <td>0</td>\n    </tr>\n    <tr>\n      <th>538919</th>\n      <td>581422</td>\n      <td>23169</td>\n      <td>smashed</td>\n      <td>-235</td>\n      <td>2011-12-08 15:24:00</td>\n      <td>0.0</td>\n      <td>NaN</td>\n      <td>United Kingdom</td>\n      <td>0</td>\n    </tr>\n  </tbody>\n</table>\n<p>1336 rows × 9 columns</p>\n</div>"
     },
     "metadata": {},
     "execution_count": 71
    }
   ],
   "source": [
    "# hay que comprobar si hay facturas negativas que no constan como canceladas\n",
    "df.loc[df[\"Quantity\"] < 0]"
   ]
  },
  {
   "cell_type": "code",
   "execution_count": 74,
   "metadata": {},
   "outputs": [
    {
     "output_type": "execute_result",
     "data": {
      "text/plain": [
       "  InvoiceNo StockCode                         Description  Quantity  \\\n",
       "0    536365    85123A  WHITE HANGING HEART T-LIGHT HOLDER         6   \n",
       "1    536365     71053                 WHITE METAL LANTERN         6   \n",
       "2    536365    84406B      CREAM CUPID HEARTS COAT HANGER         8   \n",
       "\n",
       "          InvoiceDate  UnitPrice  CustomerID         Country  order_canceled  \n",
       "0 2010-12-01 08:26:00       2.55     17850.0  United Kingdom               0  \n",
       "1 2010-12-01 08:26:00       3.39     17850.0  United Kingdom               0  \n",
       "2 2010-12-01 08:26:00       2.75     17850.0  United Kingdom               0  "
      ],
      "text/html": "<div>\n<style scoped>\n    .dataframe tbody tr th:only-of-type {\n        vertical-align: middle;\n    }\n\n    .dataframe tbody tr th {\n        vertical-align: top;\n    }\n\n    .dataframe thead th {\n        text-align: right;\n    }\n</style>\n<table border=\"1\" class=\"dataframe\">\n  <thead>\n    <tr style=\"text-align: right;\">\n      <th></th>\n      <th>InvoiceNo</th>\n      <th>StockCode</th>\n      <th>Description</th>\n      <th>Quantity</th>\n      <th>InvoiceDate</th>\n      <th>UnitPrice</th>\n      <th>CustomerID</th>\n      <th>Country</th>\n      <th>order_canceled</th>\n    </tr>\n  </thead>\n  <tbody>\n    <tr>\n      <th>0</th>\n      <td>536365</td>\n      <td>85123A</td>\n      <td>WHITE HANGING HEART T-LIGHT HOLDER</td>\n      <td>6</td>\n      <td>2010-12-01 08:26:00</td>\n      <td>2.55</td>\n      <td>17850.0</td>\n      <td>United Kingdom</td>\n      <td>0</td>\n    </tr>\n    <tr>\n      <th>1</th>\n      <td>536365</td>\n      <td>71053</td>\n      <td>WHITE METAL LANTERN</td>\n      <td>6</td>\n      <td>2010-12-01 08:26:00</td>\n      <td>3.39</td>\n      <td>17850.0</td>\n      <td>United Kingdom</td>\n      <td>0</td>\n    </tr>\n    <tr>\n      <th>2</th>\n      <td>536365</td>\n      <td>84406B</td>\n      <td>CREAM CUPID HEARTS COAT HANGER</td>\n      <td>8</td>\n      <td>2010-12-01 08:26:00</td>\n      <td>2.75</td>\n      <td>17850.0</td>\n      <td>United Kingdom</td>\n      <td>0</td>\n    </tr>\n  </tbody>\n</table>\n</div>"
     },
     "metadata": {},
     "execution_count": 74
    }
   ],
   "source": [
    "# vemos que cuando son cantidades negativas tambien customerid es Nan. Vamos a descartarlas y selecionar solamente UK\n",
    "df_uk = df.loc[(df[\"Country\"] == \"United Kingdom\") & (df[\"CustomerID\"].notna())]\n",
    "df_uk.head(3)"
   ]
  },
  {
   "cell_type": "code",
   "execution_count": null,
   "metadata": {},
   "outputs": [],
   "source": []
  }
 ]
}