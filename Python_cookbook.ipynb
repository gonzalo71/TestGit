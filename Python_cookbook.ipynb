{
 "metadata": {
  "language_info": {
   "codemirror_mode": {
    "name": "ipython",
    "version": 3
   },
   "file_extension": ".py",
   "mimetype": "text/x-python",
   "name": "python",
   "nbconvert_exporter": "python",
   "pygments_lexer": "ipython3",
   "version": "3.8.3-final"
  },
  "orig_nbformat": 2,
  "kernelspec": {
   "name": "python3",
   "display_name": "Python 3",
   "language": "python"
  }
 },
 "nbformat": 4,
 "nbformat_minor": 2,
 "cells": [
  {
   "source": [
    "### Machine Learning Cookbook"
   ],
   "cell_type": "markdown",
   "metadata": {}
  },
  {
   "cell_type": "code",
   "execution_count": 1,
   "metadata": {},
   "outputs": [],
   "source": [
    "import numpy as np\n",
    "import pandas as pd\n",
    "import matplotlib.pyplot as plt\n",
    "import seaborn as sns\n",
    "%matplotlib inline"
   ]
  },
  {
   "cell_type": "code",
   "execution_count": 2,
   "metadata": {},
   "outputs": [],
   "source": [
    "# creating a vector as a row\n",
    "vector_row = np.array([1,2,3])\n",
    "# as a column\n",
    "vector_column = np.array([[1],\n",
    "                        [2],\n",
    "                        [3]])\n",
    "\n"
   ]
  },
  {
   "cell_type": "code",
   "execution_count": 3,
   "metadata": {},
   "outputs": [
    {
     "output_type": "stream",
     "name": "stdout",
     "text": [
      "[[0 0]\n [0 1]\n [3 0]]\n  (1, 1)\t1\n  (2, 0)\t3\n"
     ]
    }
   ],
   "source": [
    "# sparse matrix (reduce una matrix de muchos ceros a nonzeros)\n",
    "from scipy import sparse\n",
    "matrix = np.array([[0, 0],\n",
    "                    [0, 1],\n",
    "                    [3, 0]])\n",
    "matrix_sparse = sparse.csr_matrix(matrix)\n",
    "print(matrix)\n",
    "print(matrix_sparse)"
   ]
  }
 ]
}