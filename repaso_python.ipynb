{
 "metadata": {
  "language_info": {
   "codemirror_mode": {
    "name": "ipython",
    "version": 3
   },
   "file_extension": ".py",
   "mimetype": "text/x-python",
   "name": "python",
   "nbconvert_exporter": "python",
   "pygments_lexer": "ipython3",
   "version": "3.8.3-final"
  },
  "orig_nbformat": 2,
  "kernelspec": {
   "name": "python3",
   "display_name": "Python 3",
   "language": "python"
  }
 },
 "nbformat": 4,
 "nbformat_minor": 2,
 "cells": [
  {
   "cell_type": "code",
   "execution_count": 7,
   "metadata": {},
   "outputs": [],
   "source": [
    "import pandas as pd\n",
    "import numpy as np\n",
    "import matplotlib.pyplot as plt\n",
    "%matplotlib inline"
   ]
  },
  {
   "source": [
    "### generadores"
   ],
   "cell_type": "markdown",
   "metadata": {}
  },
  {
   "cell_type": "code",
   "execution_count": 1,
   "metadata": {},
   "outputs": [],
   "source": [
    "# usamos un generador que devulve objeto iterable y con next nos devuelve uno a uno (se usa para ahorrar recursos ya que no genera la lista entera sino uno a uno medida que se lo pides)\n",
    "def generador(limite):\n",
    "    num = 1\n",
    "    while num<limite:\n",
    "        yield num*2\n",
    "        num = 1+num"
   ]
  },
  {
   "cell_type": "code",
   "execution_count": 2,
   "metadata": {},
   "outputs": [],
   "source": [
    "devuelvePares1 = generador(10)"
   ]
  },
  {
   "source": [
    "ojo una vez que se ha vaciado la lista no se puede volver a iterar\n",
    "https://stackoverflow.com/questions/14413969/why-does-next-raise-a-stopiteration-but-for-do-a-normal-return\n",
    "\n",
    "https://es.stackoverflow.com/questions/6048/cu%C3%A1l-es-el-funcionamiento-de-yield-en-python"
   ],
   "cell_type": "markdown",
   "metadata": {}
  },
  {
   "cell_type": "code",
   "execution_count": 3,
   "metadata": {},
   "outputs": [
    {
     "output_type": "stream",
     "name": "stdout",
     "text": [
      "2\nel primer numero\n4\nel segundo numero\n"
     ]
    }
   ],
   "source": [
    "print(next(devuelvePares1))\n",
    "print(\"el primer numero\")\n",
    "print(next(devuelvePares1))\n",
    "print(\"el segundo numero\")"
   ]
  },
  {
   "cell_type": "code",
   "execution_count": 4,
   "metadata": {},
   "outputs": [],
   "source": [
    "# generado en bucles anidados (ej for for)\n",
    "def devuelve_ciudades(*ciudades): \n",
    "    # cuando usamos asterisco decimos a python que no sabemos cuantos elementos van a ser los   argumentos, y que se van a organizar en tuplas\n",
    "    for elemento in ciudades:\n",
    "        yield from elemento #nos devuelve el primer elemento del primer elemento"
   ]
  },
  {
   "cell_type": "code",
   "execution_count": 5,
   "metadata": {},
   "outputs": [
    {
     "output_type": "stream",
     "name": "stdout",
     "text": [
      "M\na\n"
     ]
    }
   ],
   "source": [
    "ciudades_devueltas = devuelve_ciudades(\"Madrid\",\"barcelona\",\"valencia\")\n",
    "print(next(ciudades_devueltas))\n",
    "print(next(ciudades_devueltas))"
   ]
  },
  {
   "cell_type": "code",
   "execution_count": 2,
   "metadata": {},
   "outputs": [],
   "source": [
    "### captura o control de excepciones\n",
    "hay veces que un programa esta bien escrito , sin ningun fallo, y aun asi da error (pensemos en una simple calculadora donde introducimos dividir por 0, esto nos devuelve un error porque no se puede)\n",
    "\n",
    "ver TRY, EXCEPT, RAISE,FINALLY"
   ]
  },
  {
   "cell_type": "code",
   "execution_count": 63,
   "metadata": {},
   "outputs": [],
   "source": [
    "import findspark\n",
    "findspark.init()\n",
    "\n",
    "from pyspark import SparkConf, SparkContext\n",
    "from pyspark.sql import SparkSession\n",
    "from pyspark.sql import Row\n",
    "from pyspark.sql import functions as func\n",
    "\n",
    "\n",
    "conf = SparkConf().setAppName(\"rdd\").setMaster(\"local\")\n",
    "sc = SparkContext(conf=conf)\n",
    "\n",
    "\n",
    "\n",
    "\n"
   ]
  },
  {
   "cell_type": "code",
   "execution_count": 64,
   "metadata": {},
   "outputs": [
    {
     "output_type": "stream",
     "name": "stdout",
     "text": [
      "1\n4\n9\n16\n"
     ]
    }
   ],
   "source": [
    "# map\n",
    "\n",
    "nums = sc.parallelize([1,2,3,4])\n",
    "squared = nums.map(lambda x: x*x).collect()\n",
    "for num in squared:\n",
    "    print(num)"
   ]
  },
  {
   "cell_type": "code",
   "execution_count": 66,
   "metadata": {},
   "outputs": [
    {
     "output_type": "execute_result",
     "data": {
      "text/plain": [
       "'hello'"
      ]
     },
     "metadata": {},
     "execution_count": 66
    }
   ],
   "source": [
    "# flatmap (return multiple outputs in iterable form)\n",
    "lines = sc.parallelize([\"hello world\",\"hi\"])\n",
    "words = lines.flatMap(lambda line:line.split(\" \"))\n",
    "words.first()"
   ]
  },
  {
   "cell_type": "code",
   "execution_count": 62,
   "metadata": {},
   "outputs": [],
   "source": [
    "spark.stop()"
   ]
  },
  {
   "cell_type": "code",
   "execution_count": null,
   "metadata": {},
   "outputs": [],
   "source": []
  }
 ]
}