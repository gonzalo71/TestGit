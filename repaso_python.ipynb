{
 "metadata": {
  "language_info": {
   "codemirror_mode": {
    "name": "ipython",
    "version": 3
   },
   "file_extension": ".py",
   "mimetype": "text/x-python",
   "name": "python",
   "nbconvert_exporter": "python",
   "pygments_lexer": "ipython3",
   "version": "3.8.3-final"
  },
  "orig_nbformat": 2,
  "kernelspec": {
   "name": "python3",
   "display_name": "Python 3",
   "language": "python"
  }
 },
 "nbformat": 4,
 "nbformat_minor": 2,
 "cells": [
  {
   "cell_type": "code",
   "execution_count": 36,
   "metadata": {},
   "outputs": [],
   "source": [
    "import pandas as pd\n",
    "import numpy as np\n",
    "import matplotlib.pyplot as plt\n",
    "%matplotlib inline"
   ]
  },
  {
   "source": [
    "### generadores"
   ],
   "cell_type": "markdown",
   "metadata": {}
  },
  {
   "cell_type": "code",
   "execution_count": 37,
   "metadata": {},
   "outputs": [],
   "source": [
    "# usamos un generador que devulve objeto iterable y con next nos devuelve uno a uno (se usa para ahorrar recursos ya que no genera la lista entera sino uno a uno medida que se lo pides)\n",
    "def generador(limite):\n",
    "    num = 1\n",
    "    while num<limite:\n",
    "        yield num*2\n",
    "        num = 1+num"
   ]
  },
  {
   "cell_type": "code",
   "execution_count": 38,
   "metadata": {},
   "outputs": [],
   "source": [
    "devuelvePares1 = generador(10)"
   ]
  },
  {
   "source": [
    "ojo una vez que se ha vaciado la lista no se puede volver a iterar\n",
    "https://stackoverflow.com/questions/14413969/why-does-next-raise-a-stopiteration-but-for-do-a-normal-return\n",
    "\n",
    "https://es.stackoverflow.com/questions/6048/cu%C3%A1l-es-el-funcionamiento-de-yield-en-python"
   ],
   "cell_type": "markdown",
   "metadata": {}
  },
  {
   "cell_type": "code",
   "execution_count": 39,
   "metadata": {},
   "outputs": [
    {
     "output_type": "stream",
     "name": "stdout",
     "text": [
      "2\nel primer numero\n4\nel segundo numero\n"
     ]
    }
   ],
   "source": [
    "print(next(devuelvePares1))\n",
    "print(\"el primer numero\")\n",
    "print(next(devuelvePares1))\n",
    "print(\"el segundo numero\")"
   ]
  },
  {
   "cell_type": "code",
   "execution_count": 40,
   "metadata": {},
   "outputs": [],
   "source": [
    "# generado en bucles anidados (ej for for)\n",
    "def devuelve_ciudades(*ciudades): \n",
    "    # cuando usamos asterisco decimos a python que no sabemos cuantos elementos van a ser los   argumentos, y que se van a organizar en tuplas\n",
    "    for elemento in ciudades:\n",
    "        yield from elemento #nos devuelve el primer elemento del primer elemento"
   ]
  },
  {
   "cell_type": "code",
   "execution_count": 41,
   "metadata": {},
   "outputs": [
    {
     "output_type": "stream",
     "name": "stdout",
     "text": [
      "M\na\n"
     ]
    }
   ],
   "source": [
    "ciudades_devueltas = devuelve_ciudades(\"Madrid\",\"barcelona\",\"valencia\")\n",
    "print(next(ciudades_devueltas))\n",
    "print(next(ciudades_devueltas))"
   ]
  },
  {
   "source": [
    "### captura o control de excepciones\n",
    "hay veces que un programa esta bien escrito , sin ningun fallo, y aun asi da error (pensemos en una simple calculadora donde introducimos dividir por 0, esto nos devuelve un error porque no se puede)\n",
    "\n",
    "ver TRY, EXCEPT, RAISE,FINALLY"
   ],
   "cell_type": "markdown",
   "metadata": {}
  },
  {
   "source": [
    "### POO (CLASES, PROGRAMACION ORIENTADO OBJETO)"
   ],
   "cell_type": "markdown",
   "metadata": {}
  },
  {
   "cell_type": "code",
   "execution_count": 8,
   "metadata": {},
   "outputs": [],
   "source": [
    "class Coche():\n",
    "    # creamos un constructor , son los atributos // propiedades de inicio\n",
    "    def __init__(self):\n",
    "        self.largoChasis=250\n",
    "        self.anchoChasis=120\n",
    "        self.ruedas=4\n",
    "        self.enmarcha=False\n",
    "    #comportamiento (a traves de: metodos, funcion que pertence a una clase)\n",
    "    # self hace ref a un objeto pertenciente a la clase\n",
    "    def arrancar(self,arrancamos):# esto no es una funcion es un metodo ¡\n",
    "        self.enmarcha = arrancamos\n",
    "\n",
    "        if(self.enmarcha):\n",
    "            chequeo = self.__chequeo_interno()\n",
    "\n",
    "        if(self.enmarcha and chequeo):\n",
    "            return \"el coche esta en marcha\"\n",
    "        elif(self.enmarcha and chequeo == False):\n",
    "            return \"Algo ha ido mal en el chequeo\"\n",
    "        else:\n",
    "            return \"el coche esta parado\"\n",
    "\n",
    "    \n",
    "    def estado(self):\n",
    "        print(\"el coche tiene\", self.ruedas, \" ruedas. Un ancho de \", self.anchoChasis, \" y un largo de \", self.largoChasis)\n",
    "\n",
    "    def __chequeo_interno(self):# con dos lineas encapsulamos el metodo(solo se ejecuta dentro de la clase)\n",
    "        print(\"realizando chequeo interno\")\n",
    "        self.gasolina = \"ok\"\n",
    "        self.aceite = \"ok\"\n",
    "        self.puertas = \"cerradas\"\n",
    "\n",
    "        if(self.gasolina == \"ok\" and self.aceite == \"ok\" and self.puertas == \"cerradas\"):\n",
    "            return True\n",
    "        else:\n",
    "            return False\n",
    "\n",
    "#instanciar una clase (creamos un objeto)\n",
    "miCoche=Coche()"
   ]
  },
  {
   "cell_type": "code",
   "execution_count": 51,
   "metadata": {},
   "outputs": [
    {
     "output_type": "stream",
     "name": "stdout",
     "text": [
      "el largo del coche es 250\n"
     ]
    }
   ],
   "source": [
    "print(f\"el largo del coche es {miCoche.largoChasis}\")"
   ]
  },
  {
   "cell_type": "code",
   "execution_count": 9,
   "metadata": {},
   "outputs": [
    {
     "output_type": "stream",
     "name": "stdout",
     "text": [
      "realizando chequeo interno\n"
     ]
    },
    {
     "output_type": "execute_result",
     "data": {
      "text/plain": [
       "'el coche esta en marcha'"
      ]
     },
     "metadata": {},
     "execution_count": 9
    }
   ],
   "source": [
    "miCoche.arrancar(True)  # esto es lo mismo que decir self.enmarcha = True // self = miCoche"
   ]
  },
  {
   "cell_type": "code",
   "execution_count": 4,
   "metadata": {},
   "outputs": [
    {
     "output_type": "stream",
     "name": "stdout",
     "text": [
      "el coche tiene 4  ruedas. Un ancho de  120  y un largo de  250\nNone\n"
     ]
    }
   ],
   "source": [
    "print(miCoche.estado())"
   ]
  },
  {
   "cell_type": "code",
   "execution_count": 5,
   "metadata": {},
   "outputs": [
    {
     "output_type": "stream",
     "name": "stdout",
     "text": [
      "el largo del coche es 250\nel coche tiene 4 ruedas\n"
     ]
    }
   ],
   "source": [
    "# creamos el segundo objeto\n",
    "miCoche2 = Coche()\n",
    "print(f\"el largo del coche es {miCoche2.largoChasis}\")\n",
    "print(f\"el coche tiene {miCoche2.ruedas} ruedas\")"
   ]
  },
  {
   "cell_type": "code",
   "execution_count": 6,
   "metadata": {},
   "outputs": [
    {
     "output_type": "stream",
     "name": "stdout",
     "text": [
      "el coche tiene 4  ruedas. Un ancho de  120  y un largo de  250\nNone\n"
     ]
    }
   ],
   "source": [
    "print(miCoche2.estado())"
   ]
  },
  {
   "cell_type": "code",
   "execution_count": 7,
   "metadata": {},
   "outputs": [
    {
     "output_type": "execute_result",
     "data": {
      "text/plain": [
       "'el coche esta parado'"
      ]
     },
     "metadata": {},
     "execution_count": 7
    }
   ],
   "source": [
    "miCoche2.arrancar(False)"
   ]
  },
  {
   "cell_type": "code",
   "execution_count": null,
   "metadata": {},
   "outputs": [],
   "source": []
  }
 ]
}