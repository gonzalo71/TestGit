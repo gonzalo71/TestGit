{
 "metadata": {
  "language_info": {
   "codemirror_mode": {
    "name": "ipython",
    "version": 3
   },
   "file_extension": ".py",
   "mimetype": "text/x-python",
   "name": "python",
   "nbconvert_exporter": "python",
   "pygments_lexer": "ipython3",
   "version": "3.8.3-final"
  },
  "orig_nbformat": 2,
  "kernelspec": {
   "name": "python3",
   "display_name": "Python 3",
   "language": "python"
  }
 },
 "nbformat": 4,
 "nbformat_minor": 2,
 "cells": [
  {
   "cell_type": "code",
   "execution_count": 1,
   "metadata": {},
   "outputs": [],
   "source": [
    "import pandas as pd\n",
    "import numpy as np\n",
    "import matplotlib.pyplot as plt\n",
    "%matplotlib inline"
   ]
  },
  {
   "source": [
    "### generadores"
   ],
   "cell_type": "markdown",
   "metadata": {}
  },
  {
   "cell_type": "code",
   "execution_count": 2,
   "metadata": {},
   "outputs": [],
   "source": [
    "# usamos un generador que devulve objeto iterable y con next nos devuelve uno a uno (se usa para ahorrar recursos ya que no genera la lista entera sino uno a uno medida que se lo pides)\n",
    "def generador(limite):\n",
    "    num = 1\n",
    "    while num<limite:\n",
    "        yield num*2\n",
    "        num = 1+num"
   ]
  },
  {
   "cell_type": "code",
   "execution_count": 3,
   "metadata": {},
   "outputs": [],
   "source": [
    "devuelvePares1 = generador(10)"
   ]
  },
  {
   "source": [
    "ojo una vez que se ha vaciado la lista no se puede volver a iterar\n",
    "https://stackoverflow.com/questions/14413969/why-does-next-raise-a-stopiteration-but-for-do-a-normal-return\n",
    "\n",
    "https://es.stackoverflow.com/questions/6048/cu%C3%A1l-es-el-funcionamiento-de-yield-en-python"
   ],
   "cell_type": "markdown",
   "metadata": {}
  },
  {
   "cell_type": "code",
   "execution_count": 4,
   "metadata": {},
   "outputs": [
    {
     "output_type": "stream",
     "name": "stdout",
     "text": [
      "2\nel primer numero\n4\nel segundo numero\n"
     ]
    }
   ],
   "source": [
    "print(next(devuelvePares1))\n",
    "print(\"el primer numero\")\n",
    "print(next(devuelvePares1))\n",
    "print(\"el segundo numero\")"
   ]
  },
  {
   "cell_type": "code",
   "execution_count": 5,
   "metadata": {},
   "outputs": [],
   "source": [
    "# generado en bucles anidados (ej for for)\n",
    "def devuelve_ciudades(*ciudades): \n",
    "    # cuando usamos asterisco decimos a python que no sabemos cuantos elementos van a ser los   argumentos, y que se van a organizar en tuplas\n",
    "    for elemento in ciudades:\n",
    "        yield from elemento #nos devuelve el primer elemento del primer elemento"
   ]
  },
  {
   "cell_type": "code",
   "execution_count": 6,
   "metadata": {},
   "outputs": [
    {
     "output_type": "stream",
     "name": "stdout",
     "text": [
      "M\na\n"
     ]
    }
   ],
   "source": [
    "ciudades_devueltas = devuelve_ciudades(\"Madrid\",\"barcelona\",\"valencia\")\n",
    "print(next(ciudades_devueltas))\n",
    "print(next(ciudades_devueltas))"
   ]
  },
  {
   "source": [
    "### captura o control de excepciones\n",
    "hay veces que un programa esta bien escrito , sin ningun fallo, y aun asi da error (pensemos en una simple calculadora donde introducimos dividir por 0, esto nos devuelve un error porque no se puede)\n",
    "\n",
    "ver TRY, EXCEPT, RAISE,FINALLY"
   ],
   "cell_type": "markdown",
   "metadata": {}
  },
  {
   "source": [
    "### POO (CLASES, PROGRAMACION ORIENTADO OBJETO)"
   ],
   "cell_type": "markdown",
   "metadata": {}
  },
  {
   "cell_type": "code",
   "execution_count": 7,
   "metadata": {},
   "outputs": [],
   "source": [
    "class Coche():\n",
    "    # creamos un constructor , son los atributos // propiedades de inicio\n",
    "    def __init__(self):\n",
    "        self.largoChasis=250\n",
    "        self.anchoChasis=120\n",
    "        self.ruedas=4\n",
    "        self.enmarcha=False\n",
    "    #comportamiento (a traves de: metodos, funcion que pertence a una clase)\n",
    "    # self hace ref a un objeto pertenciente a la clase\n",
    "    def arrancar(self,arrancamos):# esto no es una funcion es un metodo ¡\n",
    "        self.enmarcha = arrancamos\n",
    "\n",
    "        if(self.enmarcha):\n",
    "            chequeo = self.__chequeo_interno()\n",
    "\n",
    "        if(self.enmarcha and chequeo):\n",
    "            return \"el coche esta en marcha\"\n",
    "        elif(self.enmarcha and chequeo == False):\n",
    "            return \"Algo ha ido mal en el chequeo\"\n",
    "        else:\n",
    "            return \"el coche esta parado\"\n",
    "\n",
    "    \n",
    "    def estado(self):\n",
    "        print(\"el coche tiene\", self.ruedas, \" ruedas. Un ancho de \", self.anchoChasis, \" y un largo de \", self.largoChasis)\n",
    "\n",
    "    def __chequeo_interno(self):# con dos lineas encapsulamos el metodo(solo se ejecuta dentro de la clase)\n",
    "        print(\"realizando chequeo interno\")\n",
    "        self.gasolina = \"ok\"\n",
    "        self.aceite = \"ok\"\n",
    "        self.puertas = \"cerradas\"\n",
    "\n",
    "        if(self.gasolina == \"ok\" and self.aceite == \"ok\" and self.puertas == \"cerradas\"):\n",
    "            return True\n",
    "        else:\n",
    "            return False\n",
    "\n",
    "#instanciar una clase (creamos un objeto)\n",
    "miCoche=Coche()"
   ]
  },
  {
   "cell_type": "code",
   "execution_count": 8,
   "metadata": {},
   "outputs": [
    {
     "output_type": "stream",
     "name": "stdout",
     "text": [
      "el largo del coche es 250\n"
     ]
    }
   ],
   "source": [
    "print(f\"el largo del coche es {miCoche.largoChasis}\")"
   ]
  },
  {
   "cell_type": "code",
   "execution_count": 9,
   "metadata": {},
   "outputs": [
    {
     "output_type": "stream",
     "name": "stdout",
     "text": [
      "realizando chequeo interno\n"
     ]
    },
    {
     "output_type": "execute_result",
     "data": {
      "text/plain": [
       "'el coche esta en marcha'"
      ]
     },
     "metadata": {},
     "execution_count": 9
    }
   ],
   "source": [
    "miCoche.arrancar(True)  # esto es lo mismo que decir self.enmarcha = True // self = miCoche"
   ]
  },
  {
   "cell_type": "code",
   "execution_count": 10,
   "metadata": {},
   "outputs": [
    {
     "output_type": "stream",
     "name": "stdout",
     "text": [
      "el coche tiene 4  ruedas. Un ancho de  120  y un largo de  250\nNone\n"
     ]
    }
   ],
   "source": [
    "print(miCoche.estado())"
   ]
  },
  {
   "cell_type": "code",
   "execution_count": 11,
   "metadata": {},
   "outputs": [
    {
     "output_type": "stream",
     "name": "stdout",
     "text": [
      "el largo del coche es 250\nel coche tiene 4 ruedas\n"
     ]
    }
   ],
   "source": [
    "# creamos el segundo objeto\n",
    "miCoche2 = Coche()\n",
    "print(f\"el largo del coche es {miCoche2.largoChasis}\")\n",
    "print(f\"el coche tiene {miCoche2.ruedas} ruedas\")"
   ]
  },
  {
   "cell_type": "code",
   "execution_count": 12,
   "metadata": {},
   "outputs": [
    {
     "output_type": "stream",
     "name": "stdout",
     "text": [
      "el coche tiene 4  ruedas. Un ancho de  120  y un largo de  250\nNone\n"
     ]
    }
   ],
   "source": [
    "print(miCoche2.estado())"
   ]
  },
  {
   "cell_type": "code",
   "execution_count": 13,
   "metadata": {},
   "outputs": [
    {
     "output_type": "execute_result",
     "data": {
      "text/plain": [
       "'el coche esta parado'"
      ]
     },
     "metadata": {},
     "execution_count": 13
    }
   ],
   "source": [
    "miCoche2.arrancar(False)"
   ]
  },
  {
   "source": [
    "### herencias"
   ],
   "cell_type": "markdown",
   "metadata": {}
  },
  {
   "cell_type": "code",
   "execution_count": 14,
   "metadata": {},
   "outputs": [],
   "source": [
    "class Vehiculos():\n",
    "\n",
    "    # constructor\n",
    "    def __init__(self,marca,modelo):\n",
    "        self.marca = marca\n",
    "        self.modelo = modelo\n",
    "        self.enmarcha = False\n",
    "        self.acelera = False\n",
    "        self.frena = False\n",
    "    # definimos comportamientos\n",
    "    def arrancar(self):\n",
    "        self.enmarcha = True\n",
    "    \n",
    "    def acelerar(self):\n",
    "        self.acelera\n",
    "\n",
    "    def frenar(self):\n",
    "        self.frena = True\n",
    "\n",
    "    def estado(self):\n",
    "        print(\"Marca \", self.marca, \"\\nModelo: \",self.modelo, \"\\nEn marcha: \",self.enmarcha,\n",
    "        \"\\nAcelerando: \",self.acelera, \"\\nFrenando: \",self.frena) \n"
   ]
  },
  {
   "cell_type": "code",
   "execution_count": 15,
   "metadata": {},
   "outputs": [],
   "source": [
    "# creamos una clase moto que hereda las caracteristicas de vehiculo\n",
    "class Moto(Vehiculos):\n",
    "    hcaballito=\"\"\n",
    "    def caballito(self):\n",
    "        self.hcaballito =\"Voy haciendo el caballito\"\n",
    "    def estado(self):\n",
    "        print(\"Marca \", self.marca, \"\\nModelo: \",self.modelo, \"\\nEn marcha: \",self.enmarcha  \\\n",
    "                ,\"\\nAcelerando: \",self.acelera, \"\\nFrenando: \",self.frena,\"\\n\",self.hcaballito) \n",
    "\n",
    "    "
   ]
  },
  {
   "cell_type": "code",
   "execution_count": 16,
   "metadata": {},
   "outputs": [
    {
     "output_type": "stream",
     "name": "stdout",
     "text": [
      "Marca  Honda \nModelo:  CBR \nEn marcha:  False \nAcelerando:  False \nFrenando:  False \n Voy haciendo el caballito\n"
     ]
    }
   ],
   "source": [
    "# creamos una instancia y vemos que hereda las caracteristicas de vehiculo\n",
    "miMoto=Moto(\"Honda\",\"CBR\")\n",
    "miMoto.caballito()\n",
    "miMoto.estado()"
   ]
  },
  {
   "cell_type": "code",
   "execution_count": 17,
   "metadata": {},
   "outputs": [],
   "source": [
    "class Furgoneta(Vehiculos):\n",
    "    def carga(self,cargar):\n",
    "        self.cargado = cargar\n",
    "        if (self.cargado):\n",
    "            return \"La furgoneta esta cargada\"\n",
    "        else:\n",
    "            return \"la furgoneta no esta cargada\""
   ]
  },
  {
   "cell_type": "code",
   "execution_count": 18,
   "metadata": {},
   "outputs": [
    {
     "output_type": "stream",
     "name": "stdout",
     "text": [
      "Marca  Renault \nModelo:  Kangoo \nEn marcha:  True \nAcelerando:  False \nFrenando:  False\n"
     ]
    },
    {
     "output_type": "execute_result",
     "data": {
      "text/plain": [
       "'La furgoneta esta cargada'"
      ]
     },
     "metadata": {},
     "execution_count": 18
    }
   ],
   "source": [
    "miFurgoneta = Furgoneta(\"Renault\",\"Kangoo\")\n",
    "miFurgoneta.arrancar()\n",
    "miFurgoneta.estado()\n",
    "miFurgoneta.carga(True)"
   ]
  },
  {
   "cell_type": "code",
   "execution_count": 19,
   "metadata": {},
   "outputs": [],
   "source": [
    "class VElectricos():\n",
    "    def __init__(self):\n",
    "        self.autonomia=100\n",
    "    def cargarEnergia(self):\n",
    "        self.cargando=True\n",
    "# ahora vemos una herencia multiple (aqui se da preferencia a la primera clase; si hacemos al reves no podemos poner marca ni modelo)\n",
    "class BicicletaElectrica(Vehiculos,VElectricos):\n",
    "    pass"
   ]
  },
  {
   "cell_type": "code",
   "execution_count": 20,
   "metadata": {},
   "outputs": [],
   "source": [
    "miBici = BicicletaElectrica(\"Orbea\",\"HC12\")"
   ]
  },
  {
   "cell_type": "code",
   "execution_count": 21,
   "metadata": {},
   "outputs": [
    {
     "output_type": "stream",
     "name": "stdout",
     "text": [
      "Marca  Orbea \nModelo:  HC12 \nEn marcha:  False \nAcelerando:  False \nFrenando:  False\n"
     ]
    }
   ],
   "source": [
    "miBici.estado()"
   ]
  },
  {
   "cell_type": "code",
   "execution_count": 30,
   "metadata": {},
   "outputs": [],
   "source": [
    "# funcion super()\n",
    "class Persona():\n",
    "\n",
    "    def __init__(self,nombre,edad,lugar_residencia):\n",
    "\n",
    "        self.nombre = nombre\n",
    "        self.edad = edad\n",
    "        self.lugar_residencia = lugar_residencia\n",
    "\n",
    "    def descripcion(self):\n",
    "        print(\"Nombre: \",self.nombre,\" Edad:\",self.edad,\" Lugar: \",self.lugar_residencia)\n",
    "# clase que hereda de otra\n",
    "class Empleado(Persona):\n",
    "    \n",
    "    def __init__(self, salario, antiguedad,nombre_empleado,edad_empleado,residencia_empleado):\n",
    "        self.salario = salario\n",
    "        self.antiguedad = antiguedad\n",
    "        # ahora con super() traemos cualquier cosa de la clase padre (aqui init)\n",
    "        super().__init__(nombre_empleado,edad_empleado,residencia_empleado)\n",
    "        self.salario = salario\n",
    "        self.antiguedad = antiguedad\n",
    "    \n",
    "    def descripcion(self):\n",
    "        super().descripcion() # aqui con super traemos el metodo descripcion\n",
    "        print(\"Salario: \",self.salario,\" Antiguedad: \",self.antiguedad)\n"
   ]
  },
  {
   "cell_type": "code",
   "execution_count": 26,
   "metadata": {},
   "outputs": [
    {
     "output_type": "stream",
     "name": "stdout",
     "text": [
      "Nombre:  Antonio  Edad: 55  Lugar:  España\n"
     ]
    }
   ],
   "source": [
    "# creamos una instancia\n",
    "Antonio = Persona(\"Antonio\",55,\"España\")\n",
    "Antonio.descripcion()"
   ]
  },
  {
   "cell_type": "code",
   "execution_count": 31,
   "metadata": {},
   "outputs": [
    {
     "output_type": "stream",
     "name": "stdout",
     "text": [
      "Nombre:  Manuel  Edad: 45  Lugar:  España\nSalario:  1500  Antiguedad:  5\n"
     ]
    }
   ],
   "source": [
    "Manuel = Empleado(1500,5,\"Manuel\",45,\"España\")\n",
    "Manuel.descripcion()"
   ]
  },
  {
   "cell_type": "code",
   "execution_count": 32,
   "metadata": {},
   "outputs": [
    {
     "output_type": "stream",
     "name": "stdout",
     "text": [
      "True\n"
     ]
    }
   ],
   "source": [
    "# cuando no tenemos claro si es una instancia o a que clase pertenece\n",
    "print(isinstance(Manuel,Empleado))"
   ]
  },
  {
   "cell_type": "code",
   "execution_count": 33,
   "metadata": {},
   "outputs": [
    {
     "output_type": "stream",
     "name": "stdout",
     "text": [
      "True\n"
     ]
    }
   ],
   "source": [
    "print(isinstance(Manuel,Persona))"
   ]
  },
  {
   "cell_type": "code",
   "execution_count": null,
   "metadata": {},
   "outputs": [],
   "source": []
  }
 ]
}