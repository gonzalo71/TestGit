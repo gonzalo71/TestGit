{
 "metadata": {
  "language_info": {
   "codemirror_mode": {
    "name": "ipython",
    "version": 3
   },
   "file_extension": ".py",
   "mimetype": "text/x-python",
   "name": "python",
   "nbconvert_exporter": "python",
   "pygments_lexer": "ipython3",
   "version": "3.8.3-final"
  },
  "orig_nbformat": 2,
  "kernelspec": {
   "name": "python3",
   "display_name": "Python 3",
   "language": "python"
  }
 },
 "nbformat": 4,
 "nbformat_minor": 2,
 "cells": [
  {
   "source": [
    "### generadores"
   ],
   "cell_type": "markdown",
   "metadata": {}
  },
  {
   "cell_type": "code",
   "execution_count": 1,
   "metadata": {},
   "outputs": [],
   "source": [
    "# usamos un generador que devulve objeto iterable y con next nos devuelve uno a uno (se usa para ahorrar recursos ya que no genera la lista entera sino uno a uno medida que se lo pides)\n",
    "def generador(limite):\n",
    "    num = 1\n",
    "    while num<limite:\n",
    "        yield num*2\n",
    "        num = 1+num"
   ]
  },
  {
   "cell_type": "code",
   "execution_count": 2,
   "metadata": {},
   "outputs": [],
   "source": [
    "devuelvePares1 = generador(10)"
   ]
  },
  {
   "source": [
    "ojo una vez que se ha vaciado la lista no se puede volver a iterar\n",
    "https://stackoverflow.com/questions/14413969/why-does-next-raise-a-stopiteration-but-for-do-a-normal-return\n",
    "\n",
    "https://es.stackoverflow.com/questions/6048/cu%C3%A1l-es-el-funcionamiento-de-yield-en-python"
   ],
   "cell_type": "markdown",
   "metadata": {}
  },
  {
   "cell_type": "code",
   "execution_count": 3,
   "metadata": {},
   "outputs": [
    {
     "output_type": "stream",
     "name": "stdout",
     "text": [
      "2\nel primer numero\n4\nel segundo numero\n"
     ]
    }
   ],
   "source": [
    "print(next(devuelvePares1))\n",
    "print(\"el primer numero\")\n",
    "print(next(devuelvePares1))\n",
    "print(\"el segundo numero\")"
   ]
  },
  {
   "cell_type": "code",
   "execution_count": 4,
   "metadata": {},
   "outputs": [],
   "source": [
    "# generado en bucles anidados (ej for for)\n",
    "def devuelve_ciudades(*ciudades): \n",
    "    # cuando usamos asterisco decimos a python que no sabemos cuantos elementos van a ser los   argumentos, y que se van a organizar en tuplas\n",
    "    for elemento in ciudades:\n",
    "        yield from elemento #nos devuelve el primer elemento del primer elemento"
   ]
  },
  {
   "cell_type": "code",
   "execution_count": 5,
   "metadata": {},
   "outputs": [
    {
     "output_type": "stream",
     "name": "stdout",
     "text": [
      "M\na\n"
     ]
    }
   ],
   "source": [
    "ciudades_devueltas = devuelve_ciudades(\"Madrid\",\"barcelona\",\"valencia\")\n",
    "print(next(ciudades_devueltas))\n",
    "print(next(ciudades_devueltas))"
   ]
  },
  {
   "cell_type": "code",
   "execution_count": 2,
   "metadata": {},
   "outputs": [],
   "source": [
    "### captura o control de excepciones\n",
    "hay veces que un programa esta bien escrito , sin ningun fallo, y aun asi da error (pensemos en una simple calculadora donde introducimos dividir por 0, esto nos devuelve un error porque no se puede)\n",
    "\n",
    "ver TRY, EXCEPT, RAISE,FINALLY"
   ]
  },
  {
   "cell_type": "code",
   "execution_count": 3,
   "metadata": {},
   "outputs": [
    {
     "output_type": "stream",
     "name": "stdout",
     "text": [
      "+---+---+------+---+-------+---------------+----------------+-------------+--------+-------------------+\n|_c0|Age|   Sex|Job|Housing|Saving accounts|Checking account|Credit amount|Duration|            Purpose|\n+---+---+------+---+-------+---------------+----------------+-------------+--------+-------------------+\n|  0| 67|  male|  2|    own|             NA|          little|         1169|       6|           radio/TV|\n|  1| 22|female|  2|    own|         little|        moderate|         5951|      48|           radio/TV|\n|  2| 49|  male|  1|    own|         little|              NA|         2096|      12|          education|\n|  3| 45|  male|  2|   free|         little|          little|         7882|      42|furniture/equipment|\n|  4| 53|  male|  2|   free|         little|          little|         4870|      24|                car|\n|  5| 35|  male|  1|   free|             NA|              NA|         9055|      36|          education|\n|  6| 53|  male|  2|    own|     quite rich|              NA|         2835|      24|furniture/equipment|\n|  7| 35|  male|  3|   rent|         little|        moderate|         6948|      36|                car|\n|  8| 61|  male|  1|    own|           rich|              NA|         3059|      12|           radio/TV|\n|  9| 28|  male|  3|    own|         little|        moderate|         5234|      30|                car|\n| 10| 25|female|  2|   rent|         little|        moderate|         1295|      12|                car|\n| 11| 24|female|  2|   rent|         little|          little|         4308|      48|           business|\n| 12| 22|female|  2|    own|         little|        moderate|         1567|      12|           radio/TV|\n| 13| 60|  male|  1|    own|         little|          little|         1199|      24|                car|\n| 14| 28|female|  2|   rent|         little|          little|         1403|      15|                car|\n| 15| 32|female|  1|    own|       moderate|          little|         1282|      24|           radio/TV|\n| 16| 53|  male|  2|    own|             NA|              NA|         2424|      24|           radio/TV|\n| 17| 25|  male|  2|    own|             NA|          little|         8072|      30|           business|\n| 18| 44|female|  3|   free|         little|        moderate|        12579|      24|                car|\n| 19| 31|  male|  2|    own|     quite rich|              NA|         3430|      24|           radio/TV|\n+---+---+------+---+-------+---------------+----------------+-------------+--------+-------------------+\nonly showing top 20 rows\n\n"
     ]
    }
   ],
   "source": [
    "import findspark\n",
    "findspark.init()\n",
    "\n",
    "from pyspark import SparkConf, SparkContext\n",
    "from pyspark.sql import SparkSession\n",
    "\n",
    "path = r\"C:\\Users\\gonza\\OneDrive\\Documentos\\datascience-thebridge-master\\ejercicios gonzalo\\DATA\\german_credit_data.csv\"\n",
    "\n",
    "spark = SparkSession.builder.appName(\"example\") \\\n",
    "    .config(\"spark.some.config.option\",\"some-value\") \\\n",
    "        .getOrCreate()\n",
    "\n",
    "df = spark.read.csv(path=path,header=True,inferSchema=True)\n",
    "\n",
    "df.show()\n",
    "\n"
   ]
  },
  {
   "cell_type": "code",
   "execution_count": null,
   "metadata": {},
   "outputs": [],
   "source": []
  }
 ]
}