{
 "metadata": {
  "language_info": {
   "codemirror_mode": {
    "name": "ipython",
    "version": 3
   },
   "file_extension": ".py",
   "mimetype": "text/x-python",
   "name": "python",
   "nbconvert_exporter": "python",
   "pygments_lexer": "ipython3",
   "version": "3.8.3-final"
  },
  "orig_nbformat": 2,
  "kernelspec": {
   "name": "python3",
   "display_name": "Python 3.8.3 64-bit ('gonza': virtualenv)",
   "metadata": {
    "interpreter": {
     "hash": "a063a9175d89378fd7561f6bc423ee307bddeb5f1748e456061b04aaac1df62f"
    }
   }
  }
 },
 "nbformat": 4,
 "nbformat_minor": 2,
 "cells": [
  {
   "cell_type": "code",
   "execution_count": 1,
   "metadata": {},
   "outputs": [],
   "source": [
    "import numpy as np\n",
    "import math"
   ]
  },
  {
   "cell_type": "code",
   "execution_count": 20,
   "metadata": {},
   "outputs": [],
   "source": [
    "# 1\n",
    "def ecuacion(a,b,c):\n",
    "    x1 =  (-b + math.sqrt((b**2) - (4*a*c))) / (2*a)\n",
    "    x2 =  (-b - math.sqrt((b**2) - (4*a*c))) / (2*a)\n",
    "    print(\"X1: \",x1,\"X2: \",x2)"
   ]
  },
  {
   "cell_type": "code",
   "execution_count": 33,
   "metadata": {},
   "outputs": [],
   "source": [
    "# 2\n",
    "def palindromo(string):\n",
    "    print(\"Por favor que no tenga acentos el string ya que daria error\")\n",
    "    return string.lower().replace(\" \",\"\") == string.lower().replace(\" \",\"\")[::-1]"
   ]
  },
  {
   "cell_type": "code",
   "execution_count": 45,
   "metadata": {},
   "outputs": [],
   "source": [
    "# 3\n",
    "dict_cuadrada = {x:x**2 for x in range(1,11)}"
   ]
  },
  {
   "cell_type": "code",
   "execution_count": 47,
   "metadata": {},
   "outputs": [],
   "source": [
    "#4\n",
    "codigo_morse = {\n",
    "    \"a\": \".-\", \"b\": \"-...\", \"c\": \"-.-.\", \"d\": \"-..\", \"e\": \".\", \"f\": \"..-.\", \n",
    "    \"g\": \"--.\", \"h\": \"....\", \"i\": \"..\", \"j\": \"·---\", \"k\": \"-.-\", \"l\": \".-..\", \n",
    "    \"m\": \"--\", \"n\": \"-.\", \"ñ\": \"--.--\", \"o\": \"---\", \"p\": \".__.\", \"q\": \"--.-\",\n",
    "    \"r\": \".-.\", \"s\": \"...\", \"t\": \"-\", \"u\": \"..-\", \"v\": \"...-\", \"w\": \".--\",\n",
    "    \"x\": \"-..-\", \"y\": \"-.--\", \"z\": \"--..\",\n",
    "    \n",
    "    \"0\": \"-----\", \"1\": \".----\", \"2\": \"..---\", \"3\": \"...--\", \"4\": \"....-\", \n",
    "    \"5\": \".....\", \"6\": \"-....\", \"7\": \"--...\", \"8\": \"---..\", \"9\": \"----.\",\n",
    "    \n",
    "    \".\": \".-.-.-\", \",\": \"-.-.--\", \"?\": \"..--..\", \"\\\"\": \".-..-.\"\n",
    "}"
   ]
  },
  {
   "cell_type": "code",
   "execution_count": 55,
   "metadata": {},
   "outputs": [],
   "source": [
    "def leer_morse():\n",
    "    string = str(input(\"Escribe una frase\")).lower()\n",
    "    traducion = \"\"\n",
    "    for letra in string:\n",
    "        if letra != \" \" :\n",
    "            traducion += codigo_morse[letra]\n",
    "        else:\n",
    "            traducion += letra\n",
    "    print(traducion)"
   ]
  },
  {
   "cell_type": "code",
   "execution_count": 60,
   "metadata": {},
   "outputs": [],
   "source": [
    "# 5\n",
    "def comparar_dict(a,b):\n",
    "    return set(a.keys()).intersection(b.keys())"
   ]
  },
  {
   "cell_type": "code",
   "execution_count": null,
   "metadata": {},
   "outputs": [],
   "source": []
  }
 ]
}